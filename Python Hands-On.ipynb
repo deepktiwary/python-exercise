{
 "cells": [
  {
   "cell_type": "code",
   "execution_count": 1,
   "id": "a425791c",
   "metadata": {},
   "outputs": [],
   "source": [
    "import mymodule"
   ]
  },
  {
   "cell_type": "code",
   "execution_count": 2,
   "id": "6ca8f08c",
   "metadata": {},
   "outputs": [
    {
     "data": {
      "text/plain": [
       "176"
      ]
     },
     "execution_count": 2,
     "metadata": {},
     "output_type": "execute_result"
    }
   ],
   "source": [
    "mymodule.addition(78, 98)"
   ]
  },
  {
   "cell_type": "markdown",
   "id": "19f2a3e7",
   "metadata": {},
   "source": [
    "### 1. Write a program to find the maximum of three given numbers"
   ]
  },
  {
   "cell_type": "code",
   "execution_count": 3,
   "id": "d63c265b",
   "metadata": {},
   "outputs": [
    {
     "name": "stdout",
     "output_type": "stream",
     "text": [
      "90 is greatest\n"
     ]
    }
   ],
   "source": [
    "num1 = 76\n",
    "num2 = 90\n",
    "num3 = 65\n",
    "\n",
    "if num1 > num2 and num1 > num3:\n",
    "    print(num1, 'is greatest')\n",
    "elif num2 > num1 and num2 > num3:\n",
    "    print(num2, 'is greatest')\n",
    "else:\n",
    "    print(num3, 'is greatest')"
   ]
  },
  {
   "cell_type": "markdown",
   "id": "a95ed28f",
   "metadata": {},
   "source": [
    "### 2. Write a program to find the maxiumum number out of 10 given numbers"
   ]
  },
  {
   "cell_type": "code",
   "execution_count": 5,
   "id": "90574e74",
   "metadata": {},
   "outputs": [
    {
     "name": "stdout",
     "output_type": "stream",
     "text": [
      "How many numbers you want to compare: 5\n",
      "Enter the numbers one by one: 54\n",
      "Enter the numbers one by one: 67\n",
      "Enter the numbers one by one: 89\n",
      "Enter the numbers one by one: 21\n",
      "Enter the numbers one by one: 34\n"
     ]
    }
   ],
   "source": [
    "num_of_values = int(input('How many numbers you want to compare: '))\n",
    "\n",
    "list_of_numbers = []\n",
    "\n",
    "for value in range(num_of_values):\n",
    "    number = int(input('Enter the numbers one by one: '))\n",
    "    list_of_numbers.append(number)"
   ]
  },
  {
   "cell_type": "code",
   "execution_count": 6,
   "id": "c43d9d6d",
   "metadata": {},
   "outputs": [
    {
     "data": {
      "text/plain": [
       "[54, 67, 89, 21, 34]"
      ]
     },
     "execution_count": 6,
     "metadata": {},
     "output_type": "execute_result"
    }
   ],
   "source": [
    "list_of_numbers"
   ]
  },
  {
   "cell_type": "code",
   "execution_count": 8,
   "id": "083653d8",
   "metadata": {},
   "outputs": [],
   "source": [
    "copy_list = list_of_numbers.copy()"
   ]
  },
  {
   "cell_type": "code",
   "execution_count": 7,
   "id": "09d8ab8a",
   "metadata": {},
   "outputs": [
    {
     "data": {
      "text/plain": [
       "89"
      ]
     },
     "execution_count": 7,
     "metadata": {},
     "output_type": "execute_result"
    }
   ],
   "source": [
    "#1st approach \n",
    "max(list_of_numbers)"
   ]
  },
  {
   "cell_type": "code",
   "execution_count": 10,
   "id": "bb61dc7e",
   "metadata": {},
   "outputs": [],
   "source": [
    "#2nd approach\n",
    "copy_list.sort(reverse = True)"
   ]
  },
  {
   "cell_type": "code",
   "execution_count": 12,
   "id": "ab716fd9",
   "metadata": {},
   "outputs": [
    {
     "data": {
      "text/plain": [
       "89"
      ]
     },
     "execution_count": 12,
     "metadata": {},
     "output_type": "execute_result"
    }
   ],
   "source": [
    "copy_list[0]"
   ]
  },
  {
   "cell_type": "code",
   "execution_count": 13,
   "id": "ca187be5",
   "metadata": {},
   "outputs": [
    {
     "data": {
      "text/plain": [
       "[54, 67, 89, 21, 34]"
      ]
     },
     "execution_count": 13,
     "metadata": {},
     "output_type": "execute_result"
    }
   ],
   "source": [
    "#3rd approach\n",
    "list_of_numbers"
   ]
  },
  {
   "cell_type": "code",
   "execution_count": 14,
   "id": "0cb832f3",
   "metadata": {},
   "outputs": [],
   "source": [
    "curr_max = list_of_numbers[0]"
   ]
  },
  {
   "cell_type": "code",
   "execution_count": 15,
   "id": "6a0cf4cd",
   "metadata": {},
   "outputs": [],
   "source": [
    "for value in list_of_numbers:\n",
    "    if value > curr_max:\n",
    "        curr_max = value"
   ]
  },
  {
   "cell_type": "code",
   "execution_count": null,
   "id": "78ff84cd",
   "metadata": {},
   "outputs": [],
   "source": []
  },
  {
   "cell_type": "markdown",
   "id": "663bf55e",
   "metadata": {},
   "source": [
    "#### 3. Tasks to be performed\n",
    "\n",
    "1. Create a small database which has some usernames and passwords in it.\n",
    "2. Ask the user for their username and password. If they match with our database then we say hello {username}.\n",
    "3. If username and password does not match with our database, then we ask them whether they want to be added to the database.\n",
    "4. If they say Yes, then add them to the database, otherwise print a goodbye msg.\n",
    "5. Print the updated database."
   ]
  },
  {
   "cell_type": "code",
   "execution_count": 16,
   "id": "663f619f",
   "metadata": {},
   "outputs": [],
   "source": [
    "database = {'virat': 3345, 'sharan': 8890, 'vipul': 7785, 'shweta': 6781, 'vidya': 1100}"
   ]
  },
  {
   "cell_type": "code",
   "execution_count": 22,
   "id": "63501235",
   "metadata": {},
   "outputs": [
    {
     "name": "stdout",
     "output_type": "stream",
     "text": [
      "Enter your username: rohit\n",
      "Enter your password: 8800\n",
      "It seems that you are not registered in our database.\n",
      "Do you want to be added to the database?(Yes/No): Yes\n"
     ]
    }
   ],
   "source": [
    "username = input('Enter your username: ').lower()\n",
    "password = int(input('Enter your password: '))\n",
    "\n",
    "if username in database.keys():\n",
    "    if password == database[username]:\n",
    "        print(f'Hello {username}')\n",
    "    else:\n",
    "        print('Please check your password.')\n",
    "else:\n",
    "    print('It seems that you are not registered in our database.')\n",
    "    response = input('Do you want to be added to the database?(Yes/No): ').capitalize()\n",
    "    \n",
    "    if response == 'Yes' or response == 'Y':\n",
    "        database[username] = password\n",
    "    else:\n",
    "        print('Thank You for visiting. Hope to you see you again.')"
   ]
  },
  {
   "cell_type": "code",
   "execution_count": 23,
   "id": "ddade382",
   "metadata": {},
   "outputs": [
    {
     "data": {
      "text/plain": [
       "{'virat': 3345,\n",
       " 'sharan': 8890,\n",
       " 'vipul': 7785,\n",
       " 'shweta': 6781,\n",
       " 'vidya': 1100,\n",
       " 'rohit': 8800}"
      ]
     },
     "execution_count": 23,
     "metadata": {},
     "output_type": "execute_result"
    }
   ],
   "source": [
    "database"
   ]
  },
  {
   "cell_type": "code",
   "execution_count": null,
   "id": "7a49b193",
   "metadata": {},
   "outputs": [],
   "source": []
  },
  {
   "cell_type": "markdown",
   "id": "649b67cc",
   "metadata": {},
   "source": [
    "### 4. Write a program to find factorial of a given number"
   ]
  },
  {
   "cell_type": "code",
   "execution_count": 26,
   "id": "c35995cc",
   "metadata": {},
   "outputs": [
    {
     "name": "stdout",
     "output_type": "stream",
     "text": [
      "Enter the number: 5\n",
      "The factorial of 5 is 120\n"
     ]
    }
   ],
   "source": [
    "number = int(input('Enter the number: '))\n",
    "\n",
    "fact = 1\n",
    "\n",
    "if number < 0:\n",
    "    print('Sorry the factorial does not exist for negative numbers.')\n",
    "elif number == 0 or number == 1:\n",
    "    print('The factorial of 0 and 1 is 1.')\n",
    "else:\n",
    "    for value in range(1, number+1):\n",
    "        fact = fact * value\n",
    "    print(f'The factorial of {number} is {fact}')"
   ]
  },
  {
   "cell_type": "code",
   "execution_count": 24,
   "id": "0b272b42",
   "metadata": {},
   "outputs": [],
   "source": [
    "list1 = [34, 32, 67, 89, 10]\n",
    "add = 0\n",
    "\n",
    "for value in list1:\n",
    "    add = add + value"
   ]
  },
  {
   "cell_type": "code",
   "execution_count": 25,
   "id": "57890f43",
   "metadata": {},
   "outputs": [
    {
     "data": {
      "text/plain": [
       "232"
      ]
     },
     "execution_count": 25,
     "metadata": {},
     "output_type": "execute_result"
    }
   ],
   "source": [
    "add"
   ]
  },
  {
   "cell_type": "markdown",
   "id": "c9b0cce1",
   "metadata": {},
   "source": [
    "### Write a program to check whether a number is prime or not"
   ]
  },
  {
   "cell_type": "code",
   "execution_count": 30,
   "id": "b62d71e0",
   "metadata": {},
   "outputs": [
    {
     "name": "stdout",
     "output_type": "stream",
     "text": [
      "Enter the number: 8\n",
      "8 is not prime\n"
     ]
    }
   ],
   "source": [
    "number = int(input('Enter the number: '))\n",
    "\n",
    "prime = True\n",
    "\n",
    "for value in range(2, number):\n",
    "    if number % value == 0:\n",
    "        prime = False\n",
    "        break\n",
    "        \n",
    "if prime == True:\n",
    "    print(number, 'is prime')\n",
    "else:\n",
    "    print(number, 'is not prime')"
   ]
  },
  {
   "cell_type": "code",
   "execution_count": null,
   "id": "4ad4c0f7",
   "metadata": {},
   "outputs": [],
   "source": []
  },
  {
   "cell_type": "markdown",
   "id": "2a3d278e",
   "metadata": {},
   "source": [
    "### Write a python program to make a small calculator using functions"
   ]
  },
  {
   "cell_type": "code",
   "execution_count": 12,
   "id": "0395d890",
   "metadata": {},
   "outputs": [
    {
     "name": "stdout",
     "output_type": "stream",
     "text": [
      "Select the operation you want to perform: \n",
      "1. Addition\n",
      "2. Subtraction\n",
      "3. Multiplication\n",
      "4. Division\n",
      "Enter the choice of operation (1/2/3/4): 4\n",
      "Enter the first number: 987\n",
      "Enter the second number: 0\n"
     ]
    },
    {
     "ename": "ZeroDivisionError",
     "evalue": "division by zero",
     "output_type": "error",
     "traceback": [
      "\u001b[1;31m---------------------------------------------------------------------------\u001b[0m",
      "\u001b[1;31mZeroDivisionError\u001b[0m                         Traceback (most recent call last)",
      "\u001b[1;32m<ipython-input-12-0c9e31e39f72>\u001b[0m in \u001b[0;36m<module>\u001b[1;34m\u001b[0m\n\u001b[0;32m     30\u001b[0m         \u001b[0mprint\u001b[0m\u001b[1;33m(\u001b[0m\u001b[1;34mf'The multiplication of {num1} and {num2} is'\u001b[0m\u001b[1;33m,\u001b[0m \u001b[0mmultiplication\u001b[0m\u001b[1;33m(\u001b[0m\u001b[0mnum1\u001b[0m\u001b[1;33m,\u001b[0m \u001b[0mnum2\u001b[0m\u001b[1;33m)\u001b[0m\u001b[1;33m)\u001b[0m\u001b[1;33m\u001b[0m\u001b[1;33m\u001b[0m\u001b[0m\n\u001b[0;32m     31\u001b[0m     \u001b[1;32melse\u001b[0m\u001b[1;33m:\u001b[0m\u001b[1;33m\u001b[0m\u001b[1;33m\u001b[0m\u001b[0m\n\u001b[1;32m---> 32\u001b[1;33m         \u001b[0mprint\u001b[0m\u001b[1;33m(\u001b[0m\u001b[1;34mf'The division of {num1} and {num2} is'\u001b[0m\u001b[1;33m,\u001b[0m \u001b[0mdivision\u001b[0m\u001b[1;33m(\u001b[0m\u001b[0mnum1\u001b[0m\u001b[1;33m,\u001b[0m \u001b[0mnum2\u001b[0m\u001b[1;33m)\u001b[0m\u001b[1;33m)\u001b[0m\u001b[1;33m\u001b[0m\u001b[1;33m\u001b[0m\u001b[0m\n\u001b[0m\u001b[0;32m     33\u001b[0m \u001b[1;33m\u001b[0m\u001b[0m\n\u001b[0;32m     34\u001b[0m \u001b[1;32melse\u001b[0m\u001b[1;33m:\u001b[0m\u001b[1;33m\u001b[0m\u001b[1;33m\u001b[0m\u001b[0m\n",
      "\u001b[1;32m<ipython-input-12-0c9e31e39f72>\u001b[0m in \u001b[0;36mdivision\u001b[1;34m(num1, num2)\u001b[0m\n\u001b[0;32m      9\u001b[0m \u001b[1;33m\u001b[0m\u001b[0m\n\u001b[0;32m     10\u001b[0m \u001b[1;32mdef\u001b[0m \u001b[0mdivision\u001b[0m\u001b[1;33m(\u001b[0m\u001b[0mnum1\u001b[0m\u001b[1;33m,\u001b[0m \u001b[0mnum2\u001b[0m\u001b[1;33m)\u001b[0m\u001b[1;33m:\u001b[0m\u001b[1;33m\u001b[0m\u001b[1;33m\u001b[0m\u001b[0m\n\u001b[1;32m---> 11\u001b[1;33m     \u001b[1;32mreturn\u001b[0m \u001b[0mnum1\u001b[0m \u001b[1;33m/\u001b[0m \u001b[0mnum2\u001b[0m\u001b[1;33m\u001b[0m\u001b[1;33m\u001b[0m\u001b[0m\n\u001b[0m\u001b[0;32m     12\u001b[0m \u001b[1;33m\u001b[0m\u001b[0m\n\u001b[0;32m     13\u001b[0m \u001b[0mprint\u001b[0m\u001b[1;33m(\u001b[0m\u001b[1;34m'Select the operation you want to perform: '\u001b[0m\u001b[1;33m)\u001b[0m\u001b[1;33m\u001b[0m\u001b[1;33m\u001b[0m\u001b[0m\n",
      "\u001b[1;31mZeroDivisionError\u001b[0m: division by zero"
     ]
    }
   ],
   "source": [
    "def addition(num1, num2):\n",
    "    return num1 + num2\n",
    "\n",
    "def subtraction(num1, num2):\n",
    "    return num1 - num2\n",
    "\n",
    "def multiplication(num1, num2):\n",
    "    return num1 * num2\n",
    "\n",
    "def division(num1, num2):\n",
    "    return num1 / num2\n",
    "\n",
    "print('Select the operation you want to perform: ')\n",
    "print('1. Addition')\n",
    "print('2. Subtraction')\n",
    "print('3. Multiplication')\n",
    "print('4. Division')\n",
    "\n",
    "choice = input('Enter the choice of operation (1/2/3/4): ')\n",
    "\n",
    "if choice in ['1', '2', '3', '4']:\n",
    "    num1 = int(input('Enter the first number: '))\n",
    "    num2 = int(input('Enter the second number: '))\n",
    "    \n",
    "    if choice == '1':\n",
    "        print(f'The addition of {num1} and {num2} is', addition(num1, num2))\n",
    "    elif choice == '2':\n",
    "        print(f'The subtraction of {num1} and {num2} is', subtraction(num1, num2))\n",
    "    elif choice == '3':\n",
    "        print(f'The multiplication of {num1} and {num2} is', multiplication(num1, num2))\n",
    "    else:\n",
    "        print(f'The division of {num1} and {num2} is', division(num1, num2))\n",
    "        \n",
    "else:\n",
    "    print('Invalid Choice. Please enter a number in (1/2/3/4).')"
   ]
  },
  {
   "cell_type": "code",
   "execution_count": null,
   "id": "99863367",
   "metadata": {},
   "outputs": [],
   "source": []
  },
  {
   "cell_type": "code",
   "execution_count": 3,
   "id": "32faec66",
   "metadata": {},
   "outputs": [],
   "source": [
    "def addition(num1, num2):\n",
    "    return num1 + num2\n",
    "\n",
    "def subtraction(num1, num2):\n",
    "    return num1 - num2\n",
    "\n",
    "def multiplication(num1, num2):\n",
    "    return num1 * num2\n",
    "\n",
    "def division(num1, num2):\n",
    "    return num1 / num2"
   ]
  },
  {
   "cell_type": "code",
   "execution_count": 6,
   "id": "3669c04a",
   "metadata": {},
   "outputs": [
    {
     "name": "stdout",
     "output_type": "stream",
     "text": [
      "141\n",
      "22\n"
     ]
    }
   ],
   "source": [
    "print(addition(98, 43))\n",
    "print(subtraction(98, 76))"
   ]
  },
  {
   "cell_type": "code",
   "execution_count": 3,
   "id": "cf6d64de",
   "metadata": {},
   "outputs": [
    {
     "name": "stdout",
     "output_type": "stream",
     "text": [
      "Select the operation you want to perform: \n",
      "1. Addition\n",
      "2. Subtraction\n",
      "3. Multiplication\n",
      "4. Division\n",
      "Enter the choice of operation (1/2/3/4): 2\n",
      "Enter the first number: 86758\n",
      "Enter the second number: 75643\n",
      "The subtraction of 86758 and 75643 is 11115\n"
     ]
    }
   ],
   "source": [
    "import mymodule as mm\n",
    "\n",
    "print('Select the operation you want to perform: ')\n",
    "print('1. Addition')\n",
    "print('2. Subtraction')\n",
    "print('3. Multiplication')\n",
    "print('4. Division')\n",
    "\n",
    "choice = input('Enter the choice of operation (1/2/3/4): ')\n",
    "\n",
    "if choice in ['1', '2', '3', '4']:\n",
    "    num1 = int(input('Enter the first number: '))\n",
    "    num2 = int(input('Enter the second number: '))\n",
    "    \n",
    "    if choice == '1':\n",
    "        print(f'The addition of {num1} and {num2} is', mm.addition(num1, num2))\n",
    "    elif choice == '2':\n",
    "        print(f'The subtraction of {num1} and {num2} is', mm.subtraction(num1, num2))\n",
    "    elif choice == '3':\n",
    "        print(f'The multiplication of {num1} and {num2} is', mm.multiplication(num1, num2))\n",
    "    else:\n",
    "        print(f'The division of {num1} and {num2} is', mm.division(num1, num2))\n",
    "        \n",
    "else:\n",
    "    print('Invalid Choice. Please enter a number in (1/2/3/4).')"
   ]
  },
  {
   "cell_type": "code",
   "execution_count": 4,
   "id": "6b8bef0a",
   "metadata": {},
   "outputs": [
    {
     "name": "stdout",
     "output_type": "stream",
     "text": [
      "Select the operation you want to perform: \n",
      "1. Addition\n",
      "2. Subtraction\n",
      "3. Multiplication\n",
      "4. Division\n",
      "Enter the choice of operation (1/2/3/4): 1\n",
      "Enter the first number: 567\n",
      "Enter the second number: 453\n",
      "The addition of 567 and 453 is 1020\n",
      "Do you want to do another calculation(Yes/No)? yes\n",
      "Enter the choice of operation (1/2/3/4): 5\n",
      "Invalid Choice. Please enter a number in (1/2/3/4).\n",
      "Enter the choice of operation (1/2/3/4): 4\n",
      "Enter the first number: 76\n",
      "Enter the second number: 43\n",
      "The division of 76 and 43 is 1.7674418604651163\n",
      "Do you want to do another calculation(Yes/No)? no\n"
     ]
    }
   ],
   "source": [
    "import mymodule as mm\n",
    "\n",
    "print('Select the operation you want to perform: ')\n",
    "print('1. Addition')\n",
    "print('2. Subtraction')\n",
    "print('3. Multiplication')\n",
    "print('4. Division')\n",
    "\n",
    "while True:\n",
    "    choice = input('Enter the choice of operation (1/2/3/4): ')\n",
    "\n",
    "    if choice in ['1', '2', '3', '4']:\n",
    "        num1 = int(input('Enter the first number: '))\n",
    "        num2 = int(input('Enter the second number: '))\n",
    "\n",
    "        if choice == '1':\n",
    "            print(f'The addition of {num1} and {num2} is', mm.addition(num1, num2))\n",
    "        elif choice == '2':\n",
    "            print(f'The subtraction of {num1} and {num2} is', mm.subtraction(num1, num2))\n",
    "        elif choice == '3':\n",
    "            print(f'The multiplication of {num1} and {num2} is', mm.multiplication(num1, num2))\n",
    "        else:\n",
    "            print(f'The division of {num1} and {num2} is', mm.division(num1, num2))\n",
    "        \n",
    "        response = input('Do you want to do another calculation(Yes/No)? ').capitalize()\n",
    "        if response == 'No' or response == 'N':\n",
    "            break\n",
    "        \n",
    "    else:\n",
    "        print('Invalid Choice. Please enter a number in (1/2/3/4).')"
   ]
  },
  {
   "cell_type": "markdown",
   "id": "c84a0ff7",
   "metadata": {},
   "source": [
    "### Write a python program to check whether a number is armstrong number or not"
   ]
  },
  {
   "cell_type": "code",
   "execution_count": 14,
   "id": "70f9731b",
   "metadata": {},
   "outputs": [
    {
     "name": "stdout",
     "output_type": "stream",
     "text": [
      "Enter the number: 445\n",
      "445 is not an armstrong number\n"
     ]
    }
   ],
   "source": [
    "number = int(input('Enter the number: '))\n",
    "\n",
    "add = 0\n",
    "number_copy = number\n",
    "\n",
    "while number_copy > 0:\n",
    "    digit = number_copy % 10\n",
    "    add = add + digit ** 3\n",
    "    number_copy = number_copy // 10\n",
    "    \n",
    "if number == add:\n",
    "    print(number, 'is an armstrong number')\n",
    "else:\n",
    "    print(number, 'is not an armstrong number')"
   ]
  },
  {
   "cell_type": "code",
   "execution_count": 11,
   "id": "3f2d1f15",
   "metadata": {},
   "outputs": [
    {
     "data": {
      "text/plain": [
       "557"
      ]
     },
     "execution_count": 11,
     "metadata": {},
     "output_type": "execute_result"
    }
   ],
   "source": [
    "add"
   ]
  },
  {
   "cell_type": "code",
   "execution_count": null,
   "id": "0bad6a77",
   "metadata": {},
   "outputs": [],
   "source": []
  },
  {
   "cell_type": "code",
   "execution_count": null,
   "id": "3ae0ee9e",
   "metadata": {},
   "outputs": [],
   "source": []
  },
  {
   "cell_type": "code",
   "execution_count": null,
   "id": "fd3f0925",
   "metadata": {},
   "outputs": [],
   "source": []
  },
  {
   "cell_type": "code",
   "execution_count": null,
   "id": "67afb691",
   "metadata": {},
   "outputs": [],
   "source": []
  },
  {
   "cell_type": "code",
   "execution_count": null,
   "id": "b92f3f2c",
   "metadata": {},
   "outputs": [],
   "source": []
  },
  {
   "cell_type": "code",
   "execution_count": 7,
   "id": "2137acc6",
   "metadata": {},
   "outputs": [
    {
     "data": {
      "text/plain": [
       "15"
      ]
     },
     "execution_count": 7,
     "metadata": {},
     "output_type": "execute_result"
    }
   ],
   "source": [
    "153 // 10  #floor division"
   ]
  },
  {
   "cell_type": "code",
   "execution_count": 5,
   "id": "875edd42",
   "metadata": {},
   "outputs": [],
   "source": [
    "list1 = [32, 87, 54, 65, 77]"
   ]
  },
  {
   "cell_type": "code",
   "execution_count": null,
   "id": "d6053e28",
   "metadata": {},
   "outputs": [],
   "source": [
    "add = 0\n",
    "\n",
    "for value in list1:\n",
    "    add = add + value"
   ]
  },
  {
   "cell_type": "code",
   "execution_count": null,
   "id": "5825e0ab",
   "metadata": {},
   "outputs": [],
   "source": []
  },
  {
   "cell_type": "code",
   "execution_count": null,
   "id": "78eb9dda",
   "metadata": {},
   "outputs": [],
   "source": []
  }
 ],
 "metadata": {
  "kernelspec": {
   "display_name": "Python 3",
   "language": "python",
   "name": "python3"
  },
  "language_info": {
   "codemirror_mode": {
    "name": "ipython",
    "version": 3
   },
   "file_extension": ".py",
   "mimetype": "text/x-python",
   "name": "python",
   "nbconvert_exporter": "python",
   "pygments_lexer": "ipython3",
   "version": "3.8.8"
  }
 },
 "nbformat": 4,
 "nbformat_minor": 5
}
