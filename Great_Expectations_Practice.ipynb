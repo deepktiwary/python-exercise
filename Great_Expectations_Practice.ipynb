{
  "cells": [
    {
      "cell_type": "markdown",
      "metadata": {
        "id": "view-in-github",
        "colab_type": "text"
      },
      "source": [
        "<a href=\"https://colab.research.google.com/github/deepktiwary/python-exercise/blob/main/Great_Expectations_Practice.ipynb\" target=\"_parent\"><img src=\"https://colab.research.google.com/assets/colab-badge.svg\" alt=\"Open In Colab\"/></a>"
      ]
    },
    {
      "cell_type": "code",
      "execution_count": 1,
      "id": "9937a5ae",
      "metadata": {
        "colab": {
          "base_uri": "https://localhost:8080/"
        },
        "id": "9937a5ae",
        "outputId": "4c986d08-3910-4e81-9c5a-309d9b01b9a2"
      },
      "outputs": [
        {
          "output_type": "stream",
          "name": "stdout",
          "text": [
            "hello world\n"
          ]
        }
      ],
      "source": [
        "print(\"hello world\")"
      ]
    },
    {
      "cell_type": "code",
      "execution_count": 2,
      "id": "4cac951b",
      "metadata": {
        "colab": {
          "base_uri": "https://localhost:8080/",
          "height": 1000
        },
        "id": "4cac951b",
        "outputId": "d863080b-6d67-43c2-fddd-1b72665ad79e"
      },
      "outputs": [
        {
          "output_type": "stream",
          "name": "stdout",
          "text": [
            "Collecting great_expectations\n",
            "  Downloading great_expectations-0.17.6-py3-none-any.whl (5.4 MB)\n",
            "\u001b[2K     \u001b[90m━━━━━━━━━━━━━━━━━━━━━━━━━━━━━━━━━━━━━━━━\u001b[0m \u001b[32m5.4/5.4 MB\u001b[0m \u001b[31m12.4 MB/s\u001b[0m eta \u001b[36m0:00:00\u001b[0m\n",
            "\u001b[?25hRequirement already satisfied: altair<5.0.0,>=4.2.1 in /usr/local/lib/python3.10/dist-packages (from great_expectations) (4.2.2)\n",
            "Collecting Click<=8.1.3,>=7.1.2 (from great_expectations)\n",
            "  Downloading click-8.1.3-py3-none-any.whl (96 kB)\n",
            "\u001b[2K     \u001b[90m━━━━━━━━━━━━━━━━━━━━━━━━━━━━━━━━━━━━━━━━\u001b[0m \u001b[32m96.6/96.6 kB\u001b[0m \u001b[31m10.1 MB/s\u001b[0m eta \u001b[36m0:00:00\u001b[0m\n",
            "\u001b[?25hCollecting colorama>=0.4.3 (from great_expectations)\n",
            "  Downloading colorama-0.4.6-py2.py3-none-any.whl (25 kB)\n",
            "Requirement already satisfied: cryptography>=3.2 in /usr/lib/python3/dist-packages (from great_expectations) (3.4.8)\n",
            "Requirement already satisfied: importlib-metadata>=1.7.0 in /usr/lib/python3/dist-packages (from great_expectations) (4.6.4)\n",
            "Requirement already satisfied: Ipython>=7.16.3 in /usr/local/lib/python3.10/dist-packages (from great_expectations) (7.34.0)\n",
            "Requirement already satisfied: ipywidgets>=7.5.1 in /usr/local/lib/python3.10/dist-packages (from great_expectations) (7.7.1)\n",
            "Requirement already satisfied: jinja2>=2.10 in /usr/local/lib/python3.10/dist-packages (from great_expectations) (3.1.2)\n",
            "Collecting jsonpatch>=1.22 (from great_expectations)\n",
            "  Downloading jsonpatch-1.33-py2.py3-none-any.whl (12 kB)\n",
            "Requirement already satisfied: jsonschema<4.18.1,>=2.5.1 in /usr/local/lib/python3.10/dist-packages (from great_expectations) (4.3.3)\n",
            "Collecting makefun<2,>=1.7.0 (from great_expectations)\n",
            "  Downloading makefun-1.15.1-py2.py3-none-any.whl (22 kB)\n",
            "Collecting marshmallow<4.0.0,>=3.7.1 (from great_expectations)\n",
            "  Downloading marshmallow-3.20.1-py3-none-any.whl (49 kB)\n",
            "\u001b[2K     \u001b[90m━━━━━━━━━━━━━━━━━━━━━━━━━━━━━━━━━━━━━━━━\u001b[0m \u001b[32m49.4/49.4 kB\u001b[0m \u001b[31m5.2 MB/s\u001b[0m eta \u001b[36m0:00:00\u001b[0m\n",
            "\u001b[?25hRequirement already satisfied: mistune>=0.8.4 in /usr/local/lib/python3.10/dist-packages (from great_expectations) (0.8.4)\n",
            "Requirement already satisfied: nbformat>=5.0 in /usr/local/lib/python3.10/dist-packages (from great_expectations) (5.9.1)\n",
            "Collecting notebook>=6.4.10 (from great_expectations)\n",
            "  Downloading notebook-7.0.0-py3-none-any.whl (4.0 MB)\n",
            "\u001b[2K     \u001b[90m━━━━━━━━━━━━━━━━━━━━━━━━━━━━━━━━━━━━━━━━\u001b[0m \u001b[32m4.0/4.0 MB\u001b[0m \u001b[31m26.3 MB/s\u001b[0m eta \u001b[36m0:00:00\u001b[0m\n",
            "\u001b[?25hRequirement already satisfied: packaging in /usr/local/lib/python3.10/dist-packages (from great_expectations) (23.1)\n",
            "Requirement already satisfied: pydantic<2.0,>=1.9.2 in /usr/local/lib/python3.10/dist-packages (from great_expectations) (1.10.11)\n",
            "Requirement already satisfied: pyparsing>=2.4 in /usr/local/lib/python3.10/dist-packages (from great_expectations) (3.1.0)\n",
            "Requirement already satisfied: python-dateutil>=2.8.1 in /usr/local/lib/python3.10/dist-packages (from great_expectations) (2.8.2)\n",
            "Requirement already satisfied: pytz>=2021.3 in /usr/local/lib/python3.10/dist-packages (from great_expectations) (2022.7.1)\n",
            "Requirement already satisfied: requests>=2.20 in /usr/local/lib/python3.10/dist-packages (from great_expectations) (2.27.1)\n",
            "Collecting ruamel.yaml<0.17.18,>=0.16 (from great_expectations)\n",
            "  Downloading ruamel.yaml-0.17.17-py3-none-any.whl (109 kB)\n",
            "\u001b[2K     \u001b[90m━━━━━━━━━━━━━━━━━━━━━━━━━━━━━━━━━━━━━━\u001b[0m \u001b[32m109.1/109.1 kB\u001b[0m \u001b[31m11.5 MB/s\u001b[0m eta \u001b[36m0:00:00\u001b[0m\n",
            "\u001b[?25hRequirement already satisfied: scipy>=1.6.0 in /usr/local/lib/python3.10/dist-packages (from great_expectations) (1.10.1)\n",
            "Requirement already satisfied: tqdm>=4.59.0 in /usr/local/lib/python3.10/dist-packages (from great_expectations) (4.65.0)\n",
            "Requirement already satisfied: typing-extensions>=3.10.0.0 in /usr/local/lib/python3.10/dist-packages (from great_expectations) (4.7.1)\n",
            "Requirement already satisfied: tzlocal>=1.2 in /usr/local/lib/python3.10/dist-packages (from great_expectations) (5.0.1)\n",
            "Requirement already satisfied: urllib3>=1.26 in /usr/local/lib/python3.10/dist-packages (from great_expectations) (1.26.16)\n",
            "Requirement already satisfied: numpy>=1.22.4 in /usr/local/lib/python3.10/dist-packages (from great_expectations) (1.22.4)\n",
            "Requirement already satisfied: pandas>=1.3.0 in /usr/local/lib/python3.10/dist-packages (from great_expectations) (1.5.3)\n",
            "Requirement already satisfied: entrypoints in /usr/local/lib/python3.10/dist-packages (from altair<5.0.0,>=4.2.1->great_expectations) (0.4)\n",
            "Requirement already satisfied: toolz in /usr/local/lib/python3.10/dist-packages (from altair<5.0.0,>=4.2.1->great_expectations) (0.12.0)\n",
            "Requirement already satisfied: setuptools>=18.5 in /usr/local/lib/python3.10/dist-packages (from Ipython>=7.16.3->great_expectations) (67.7.2)\n",
            "Collecting jedi>=0.16 (from Ipython>=7.16.3->great_expectations)\n",
            "  Downloading jedi-0.18.2-py2.py3-none-any.whl (1.6 MB)\n",
            "\u001b[2K     \u001b[90m━━━━━━━━━━━━━━━━━━━━━━━━━━━━━━━━━━━━━━━━\u001b[0m \u001b[32m1.6/1.6 MB\u001b[0m \u001b[31m19.6 MB/s\u001b[0m eta \u001b[36m0:00:00\u001b[0m\n",
            "\u001b[?25hRequirement already satisfied: decorator in /usr/local/lib/python3.10/dist-packages (from Ipython>=7.16.3->great_expectations) (4.4.2)\n",
            "Requirement already satisfied: pickleshare in /usr/local/lib/python3.10/dist-packages (from Ipython>=7.16.3->great_expectations) (0.7.5)\n",
            "Requirement already satisfied: traitlets>=4.2 in /usr/local/lib/python3.10/dist-packages (from Ipython>=7.16.3->great_expectations) (5.7.1)\n",
            "Requirement already satisfied: prompt-toolkit!=3.0.0,!=3.0.1,<3.1.0,>=2.0.0 in /usr/local/lib/python3.10/dist-packages (from Ipython>=7.16.3->great_expectations) (3.0.39)\n",
            "Requirement already satisfied: pygments in /usr/local/lib/python3.10/dist-packages (from Ipython>=7.16.3->great_expectations) (2.14.0)\n",
            "Requirement already satisfied: backcall in /usr/local/lib/python3.10/dist-packages (from Ipython>=7.16.3->great_expectations) (0.2.0)\n",
            "Requirement already satisfied: matplotlib-inline in /usr/local/lib/python3.10/dist-packages (from Ipython>=7.16.3->great_expectations) (0.1.6)\n",
            "Requirement already satisfied: pexpect>4.3 in /usr/local/lib/python3.10/dist-packages (from Ipython>=7.16.3->great_expectations) (4.8.0)\n",
            "Requirement already satisfied: ipykernel>=4.5.1 in /usr/local/lib/python3.10/dist-packages (from ipywidgets>=7.5.1->great_expectations) (5.5.6)\n",
            "Requirement already satisfied: ipython-genutils~=0.2.0 in /usr/local/lib/python3.10/dist-packages (from ipywidgets>=7.5.1->great_expectations) (0.2.0)\n",
            "Requirement already satisfied: widgetsnbextension~=3.6.0 in /usr/local/lib/python3.10/dist-packages (from ipywidgets>=7.5.1->great_expectations) (3.6.4)\n",
            "Requirement already satisfied: jupyterlab-widgets>=1.0.0 in /usr/local/lib/python3.10/dist-packages (from ipywidgets>=7.5.1->great_expectations) (3.0.8)\n",
            "Requirement already satisfied: MarkupSafe>=2.0 in /usr/local/lib/python3.10/dist-packages (from jinja2>=2.10->great_expectations) (2.1.3)\n",
            "Collecting jsonpointer>=1.9 (from jsonpatch>=1.22->great_expectations)\n",
            "  Downloading jsonpointer-2.4-py2.py3-none-any.whl (7.8 kB)\n",
            "Requirement already satisfied: attrs>=17.4.0 in /usr/local/lib/python3.10/dist-packages (from jsonschema<4.18.1,>=2.5.1->great_expectations) (23.1.0)\n",
            "Requirement already satisfied: pyrsistent!=0.17.0,!=0.17.1,!=0.17.2,>=0.14.0 in /usr/local/lib/python3.10/dist-packages (from jsonschema<4.18.1,>=2.5.1->great_expectations) (0.19.3)\n",
            "Requirement already satisfied: fastjsonschema in /usr/local/lib/python3.10/dist-packages (from nbformat>=5.0->great_expectations) (2.17.1)\n",
            "Requirement already satisfied: jupyter-core in /usr/local/lib/python3.10/dist-packages (from nbformat>=5.0->great_expectations) (5.3.1)\n",
            "Collecting jupyter-server<3,>=2.4.0 (from notebook>=6.4.10->great_expectations)\n",
            "  Downloading jupyter_server-2.7.0-py3-none-any.whl (375 kB)\n",
            "\u001b[2K     \u001b[90m━━━━━━━━━━━━━━━━━━━━━━━━━━━━━━━━━━━━━━\u001b[0m \u001b[32m375.1/375.1 kB\u001b[0m \u001b[31m14.9 MB/s\u001b[0m eta \u001b[36m0:00:00\u001b[0m\n",
            "\u001b[?25hCollecting jupyterlab-server<3,>=2.22.1 (from notebook>=6.4.10->great_expectations)\n",
            "  Downloading jupyterlab_server-2.23.0-py3-none-any.whl (57 kB)\n",
            "\u001b[2K     \u001b[90m━━━━━━━━━━━━━━━━━━━━━━━━━━━━━━━━━━━━━━━━\u001b[0m \u001b[32m57.3/57.3 kB\u001b[0m \u001b[31m5.5 MB/s\u001b[0m eta \u001b[36m0:00:00\u001b[0m\n",
            "\u001b[?25hCollecting jupyterlab<5,>=4.0.2 (from notebook>=6.4.10->great_expectations)\n",
            "  Downloading jupyterlab-4.0.3-py3-none-any.whl (9.2 MB)\n",
            "\u001b[2K     \u001b[90m━━━━━━━━━━━━━━━━━━━━━━━━━━━━━━━━━━━━━━━━\u001b[0m \u001b[32m9.2/9.2 MB\u001b[0m \u001b[31m34.1 MB/s\u001b[0m eta \u001b[36m0:00:00\u001b[0m\n",
            "\u001b[?25hCollecting notebook-shim<0.3,>=0.2 (from notebook>=6.4.10->great_expectations)\n",
            "  Downloading notebook_shim-0.2.3-py3-none-any.whl (13 kB)\n",
            "Requirement already satisfied: tornado>=6.2.0 in /usr/local/lib/python3.10/dist-packages (from notebook>=6.4.10->great_expectations) (6.3.1)\n",
            "Requirement already satisfied: six>=1.5 in /usr/local/lib/python3.10/dist-packages (from python-dateutil>=2.8.1->great_expectations) (1.16.0)\n",
            "Requirement already satisfied: certifi>=2017.4.17 in /usr/local/lib/python3.10/dist-packages (from requests>=2.20->great_expectations) (2023.5.7)\n",
            "Requirement already satisfied: charset-normalizer~=2.0.0 in /usr/local/lib/python3.10/dist-packages (from requests>=2.20->great_expectations) (2.0.12)\n",
            "Requirement already satisfied: idna<4,>=2.5 in /usr/local/lib/python3.10/dist-packages (from requests>=2.20->great_expectations) (3.4)\n",
            "Requirement already satisfied: jupyter-client in /usr/local/lib/python3.10/dist-packages (from ipykernel>=4.5.1->ipywidgets>=7.5.1->great_expectations) (6.1.12)\n",
            "Requirement already satisfied: parso<0.9.0,>=0.8.0 in /usr/local/lib/python3.10/dist-packages (from jedi>=0.16->Ipython>=7.16.3->great_expectations) (0.8.3)\n",
            "Requirement already satisfied: anyio>=3.1.0 in /usr/local/lib/python3.10/dist-packages (from jupyter-server<3,>=2.4.0->notebook>=6.4.10->great_expectations) (3.7.1)\n",
            "Requirement already satisfied: argon2-cffi in /usr/local/lib/python3.10/dist-packages (from jupyter-server<3,>=2.4.0->notebook>=6.4.10->great_expectations) (21.3.0)\n",
            "Collecting jupyter-client (from ipykernel>=4.5.1->ipywidgets>=7.5.1->great_expectations)\n",
            "  Downloading jupyter_client-8.3.0-py3-none-any.whl (103 kB)\n",
            "\u001b[2K     \u001b[90m━━━━━━━━━━━━━━━━━━━━━━━━━━━━━━━━━━━━━━\u001b[0m \u001b[32m103.2/103.2 kB\u001b[0m \u001b[31m10.4 MB/s\u001b[0m eta \u001b[36m0:00:00\u001b[0m\n",
            "\u001b[?25hCollecting jupyter-events>=0.6.0 (from jupyter-server<3,>=2.4.0->notebook>=6.4.10->great_expectations)\n",
            "  Downloading jupyter_events-0.6.3-py3-none-any.whl (18 kB)\n",
            "Collecting jupyter-server-terminals (from jupyter-server<3,>=2.4.0->notebook>=6.4.10->great_expectations)\n",
            "  Downloading jupyter_server_terminals-0.4.4-py3-none-any.whl (13 kB)\n",
            "Requirement already satisfied: nbconvert>=6.4.4 in /usr/local/lib/python3.10/dist-packages (from jupyter-server<3,>=2.4.0->notebook>=6.4.10->great_expectations) (6.5.4)\n",
            "Collecting overrides (from jupyter-server<3,>=2.4.0->notebook>=6.4.10->great_expectations)\n",
            "  Downloading overrides-7.3.1-py3-none-any.whl (17 kB)\n",
            "Requirement already satisfied: prometheus-client in /usr/local/lib/python3.10/dist-packages (from jupyter-server<3,>=2.4.0->notebook>=6.4.10->great_expectations) (0.17.1)\n",
            "Collecting pyzmq>=24 (from jupyter-server<3,>=2.4.0->notebook>=6.4.10->great_expectations)\n",
            "  Downloading pyzmq-25.1.0-cp310-cp310-manylinux_2_28_x86_64.whl (1.1 MB)\n",
            "\u001b[2K     \u001b[90m━━━━━━━━━━━━━━━━━━━━━━━━━━━━━━━━━━━━━━━━\u001b[0m \u001b[32m1.1/1.1 MB\u001b[0m \u001b[31m34.8 MB/s\u001b[0m eta \u001b[36m0:00:00\u001b[0m\n",
            "\u001b[?25hRequirement already satisfied: send2trash in /usr/local/lib/python3.10/dist-packages (from jupyter-server<3,>=2.4.0->notebook>=6.4.10->great_expectations) (1.8.2)\n",
            "Requirement already satisfied: terminado>=0.8.3 in /usr/local/lib/python3.10/dist-packages (from jupyter-server<3,>=2.4.0->notebook>=6.4.10->great_expectations) (0.17.1)\n",
            "Requirement already satisfied: websocket-client in /usr/local/lib/python3.10/dist-packages (from jupyter-server<3,>=2.4.0->notebook>=6.4.10->great_expectations) (1.6.1)\n",
            "Requirement already satisfied: platformdirs>=2.5 in /usr/local/lib/python3.10/dist-packages (from jupyter-core->nbformat>=5.0->great_expectations) (3.9.1)\n",
            "Collecting async-lru>=1.0.0 (from jupyterlab<5,>=4.0.2->notebook>=6.4.10->great_expectations)\n",
            "  Downloading async_lru-2.0.3-py3-none-any.whl (6.0 kB)\n",
            "Collecting jupyter-lsp>=2.0.0 (from jupyterlab<5,>=4.0.2->notebook>=6.4.10->great_expectations)\n",
            "  Downloading jupyter_lsp-2.2.0-py3-none-any.whl (65 kB)\n",
            "\u001b[2K     \u001b[90m━━━━━━━━━━━━━━━━━━━━━━━━━━━━━━━━━━━━━━━━\u001b[0m \u001b[32m66.0/66.0 kB\u001b[0m \u001b[31m7.1 MB/s\u001b[0m eta \u001b[36m0:00:00\u001b[0m\n",
            "\u001b[?25hRequirement already satisfied: tomli in /usr/local/lib/python3.10/dist-packages (from jupyterlab<5,>=4.0.2->notebook>=6.4.10->great_expectations) (2.0.1)\n",
            "Requirement already satisfied: babel>=2.10 in /usr/local/lib/python3.10/dist-packages (from jupyterlab-server<3,>=2.22.1->notebook>=6.4.10->great_expectations) (2.12.1)\n",
            "Collecting json5>=0.9.0 (from jupyterlab-server<3,>=2.22.1->notebook>=6.4.10->great_expectations)\n",
            "  Downloading json5-0.9.14-py2.py3-none-any.whl (19 kB)\n",
            "Collecting jsonschema<4.18.1,>=2.5.1 (from great_expectations)\n",
            "  Downloading jsonschema-4.18.0-py3-none-any.whl (81 kB)\n",
            "\u001b[2K     \u001b[90m━━━━━━━━━━━━━━━━━━━━━━━━━━━━━━━━━━━━━━━━\u001b[0m \u001b[32m81.5/81.5 kB\u001b[0m \u001b[31m6.2 MB/s\u001b[0m eta \u001b[36m0:00:00\u001b[0m\n",
            "\u001b[?25hCollecting requests>=2.20 (from great_expectations)\n",
            "  Downloading requests-2.31.0-py3-none-any.whl (62 kB)\n",
            "\u001b[2K     \u001b[90m━━━━━━━━━━━━━━━━━━━━━━━━━━━━━━━━━━━━━━━━\u001b[0m \u001b[32m62.6/62.6 kB\u001b[0m \u001b[31m6.8 MB/s\u001b[0m eta \u001b[36m0:00:00\u001b[0m\n",
            "\u001b[?25hCollecting jsonschema-specifications>=2023.03.6 (from jsonschema<4.18.1,>=2.5.1->great_expectations)\n",
            "  Downloading jsonschema_specifications-2023.7.1-py3-none-any.whl (17 kB)\n",
            "Collecting referencing>=0.28.4 (from jsonschema<4.18.1,>=2.5.1->great_expectations)\n",
            "  Downloading referencing-0.30.0-py3-none-any.whl (25 kB)\n",
            "Collecting rpds-py>=0.7.1 (from jsonschema<4.18.1,>=2.5.1->great_expectations)\n",
            "  Downloading rpds_py-0.9.2-cp310-cp310-manylinux_2_17_x86_64.manylinux2014_x86_64.whl (1.2 MB)\n",
            "\u001b[2K     \u001b[90m━━━━━━━━━━━━━━━━━━━━━━━━━━━━━━━━━━━━━━━━\u001b[0m \u001b[32m1.2/1.2 MB\u001b[0m \u001b[31m45.4 MB/s\u001b[0m eta \u001b[36m0:00:00\u001b[0m\n",
            "\u001b[?25hRequirement already satisfied: ptyprocess>=0.5 in /usr/local/lib/python3.10/dist-packages (from pexpect>4.3->Ipython>=7.16.3->great_expectations) (0.7.0)\n",
            "Requirement already satisfied: wcwidth in /usr/local/lib/python3.10/dist-packages (from prompt-toolkit!=3.0.0,!=3.0.1,<3.1.0,>=2.0.0->Ipython>=7.16.3->great_expectations) (0.2.6)\n",
            "Requirement already satisfied: sniffio>=1.1 in /usr/local/lib/python3.10/dist-packages (from anyio>=3.1.0->jupyter-server<3,>=2.4.0->notebook>=6.4.10->great_expectations) (1.3.0)\n",
            "Requirement already satisfied: exceptiongroup in /usr/local/lib/python3.10/dist-packages (from anyio>=3.1.0->jupyter-server<3,>=2.4.0->notebook>=6.4.10->great_expectations) (1.1.2)\n",
            "Collecting python-json-logger>=2.0.4 (from jupyter-events>=0.6.0->jupyter-server<3,>=2.4.0->notebook>=6.4.10->great_expectations)\n",
            "  Downloading python_json_logger-2.0.7-py3-none-any.whl (8.1 kB)\n",
            "Requirement already satisfied: pyyaml>=5.3 in /usr/local/lib/python3.10/dist-packages (from jupyter-events>=0.6.0->jupyter-server<3,>=2.4.0->notebook>=6.4.10->great_expectations) (6.0.1)\n",
            "Collecting rfc3339-validator (from jupyter-events>=0.6.0->jupyter-server<3,>=2.4.0->notebook>=6.4.10->great_expectations)\n",
            "  Downloading rfc3339_validator-0.1.4-py2.py3-none-any.whl (3.5 kB)\n",
            "Collecting rfc3986-validator>=0.1.1 (from jupyter-events>=0.6.0->jupyter-server<3,>=2.4.0->notebook>=6.4.10->great_expectations)\n",
            "  Downloading rfc3986_validator-0.1.1-py2.py3-none-any.whl (4.2 kB)\n",
            "Requirement already satisfied: lxml in /usr/local/lib/python3.10/dist-packages (from nbconvert>=6.4.4->jupyter-server<3,>=2.4.0->notebook>=6.4.10->great_expectations) (4.9.3)\n",
            "Requirement already satisfied: beautifulsoup4 in /usr/local/lib/python3.10/dist-packages (from nbconvert>=6.4.4->jupyter-server<3,>=2.4.0->notebook>=6.4.10->great_expectations) (4.11.2)\n",
            "Requirement already satisfied: bleach in /usr/local/lib/python3.10/dist-packages (from nbconvert>=6.4.4->jupyter-server<3,>=2.4.0->notebook>=6.4.10->great_expectations) (6.0.0)\n",
            "Requirement already satisfied: defusedxml in /usr/local/lib/python3.10/dist-packages (from nbconvert>=6.4.4->jupyter-server<3,>=2.4.0->notebook>=6.4.10->great_expectations) (0.7.1)\n",
            "Requirement already satisfied: jupyterlab-pygments in /usr/local/lib/python3.10/dist-packages (from nbconvert>=6.4.4->jupyter-server<3,>=2.4.0->notebook>=6.4.10->great_expectations) (0.2.2)\n",
            "Requirement already satisfied: nbclient>=0.5.0 in /usr/local/lib/python3.10/dist-packages (from nbconvert>=6.4.4->jupyter-server<3,>=2.4.0->notebook>=6.4.10->great_expectations) (0.8.0)\n",
            "Requirement already satisfied: pandocfilters>=1.4.1 in /usr/local/lib/python3.10/dist-packages (from nbconvert>=6.4.4->jupyter-server<3,>=2.4.0->notebook>=6.4.10->great_expectations) (1.5.0)\n",
            "Requirement already satisfied: tinycss2 in /usr/local/lib/python3.10/dist-packages (from nbconvert>=6.4.4->jupyter-server<3,>=2.4.0->notebook>=6.4.10->great_expectations) (1.2.1)\n",
            "Requirement already satisfied: argon2-cffi-bindings in /usr/local/lib/python3.10/dist-packages (from argon2-cffi->jupyter-server<3,>=2.4.0->notebook>=6.4.10->great_expectations) (21.2.0)\n",
            "\u001b[33mWARNING: jsonschema 4.3.3 does not provide the extra 'format-nongpl'\u001b[0m\u001b[33m\n",
            "\u001b[0mINFO: pip is looking at multiple versions of jsonschema[format-nongpl] to determine which version is compatible with other requirements. This could take a while.\n",
            "Collecting jsonschema[format-nongpl]>=3.2.0 (from jupyter-events>=0.6.0->jupyter-server<3,>=2.4.0->notebook>=6.4.10->great_expectations)\n",
            "  Downloading jsonschema-4.18.4-py3-none-any.whl (80 kB)\n",
            "\u001b[2K     \u001b[90m━━━━━━━━━━━━━━━━━━━━━━━━━━━━━━━━━━━━━━━━\u001b[0m \u001b[32m81.0/81.0 kB\u001b[0m \u001b[31m8.5 MB/s\u001b[0m eta \u001b[36m0:00:00\u001b[0m\n",
            "\u001b[?25h  Downloading jsonschema-4.18.3-py3-none-any.whl (80 kB)\n",
            "\u001b[2K     \u001b[90m━━━━━━━━━━━━━━━━━━━━━━━━━━━━━━━━━━━━━━━━\u001b[0m \u001b[32m81.0/81.0 kB\u001b[0m \u001b[31m9.0 MB/s\u001b[0m eta \u001b[36m0:00:00\u001b[0m\n",
            "\u001b[?25h  Downloading jsonschema-4.18.2-py3-none-any.whl (80 kB)\n",
            "\u001b[2K     \u001b[90m━━━━━━━━━━━━━━━━━━━━━━━━━━━━━━━━━━━━━━━━\u001b[0m \u001b[32m80.8/80.8 kB\u001b[0m \u001b[31m8.9 MB/s\u001b[0m eta \u001b[36m0:00:00\u001b[0m\n",
            "\u001b[?25h  Downloading jsonschema-4.18.1-py3-none-any.whl (80 kB)\n",
            "\u001b[2K     \u001b[90m━━━━━━━━━━━━━━━━━━━━━━━━━━━━━━━━━━━━━━━━\u001b[0m \u001b[32m80.7/80.7 kB\u001b[0m \u001b[31m8.7 MB/s\u001b[0m eta \u001b[36m0:00:00\u001b[0m\n",
            "\u001b[?25hCollecting fqdn (from jsonschema<4.18.1,>=2.5.1->great_expectations)\n",
            "  Downloading fqdn-1.5.1-py3-none-any.whl (9.1 kB)\n",
            "Collecting isoduration (from jsonschema<4.18.1,>=2.5.1->great_expectations)\n",
            "  Downloading isoduration-20.11.0-py3-none-any.whl (11 kB)\n",
            "Collecting uri-template (from jsonschema<4.18.1,>=2.5.1->great_expectations)\n",
            "  Downloading uri_template-1.3.0-py3-none-any.whl (11 kB)\n",
            "Requirement already satisfied: webcolors>=1.11 in /usr/local/lib/python3.10/dist-packages (from jsonschema<4.18.1,>=2.5.1->great_expectations) (1.13)\n",
            "Requirement already satisfied: cffi>=1.0.1 in /usr/local/lib/python3.10/dist-packages (from argon2-cffi-bindings->argon2-cffi->jupyter-server<3,>=2.4.0->notebook>=6.4.10->great_expectations) (1.15.1)\n",
            "Requirement already satisfied: soupsieve>1.2 in /usr/local/lib/python3.10/dist-packages (from beautifulsoup4->nbconvert>=6.4.4->jupyter-server<3,>=2.4.0->notebook>=6.4.10->great_expectations) (2.4.1)\n",
            "Requirement already satisfied: webencodings in /usr/local/lib/python3.10/dist-packages (from bleach->nbconvert>=6.4.4->jupyter-server<3,>=2.4.0->notebook>=6.4.10->great_expectations) (0.5.1)\n",
            "Requirement already satisfied: pycparser in /usr/local/lib/python3.10/dist-packages (from cffi>=1.0.1->argon2-cffi-bindings->argon2-cffi->jupyter-server<3,>=2.4.0->notebook>=6.4.10->great_expectations) (2.21)\n",
            "Collecting arrow>=0.15.0 (from isoduration->jsonschema<4.18.1,>=2.5.1->great_expectations)\n",
            "  Downloading arrow-1.2.3-py3-none-any.whl (66 kB)\n",
            "\u001b[2K     \u001b[90m━━━━━━━━━━━━━━━━━━━━━━━━━━━━━━━━━━━━━━━━\u001b[0m \u001b[32m66.4/66.4 kB\u001b[0m \u001b[31m6.9 MB/s\u001b[0m eta \u001b[36m0:00:00\u001b[0m\n",
            "\u001b[?25hInstalling collected packages: makefun, json5, uri-template, ruamel.yaml, rpds-py, rfc3986-validator, rfc3339-validator, requests, pyzmq, python-json-logger, overrides, marshmallow, jsonpointer, jedi, fqdn, colorama, Click, async-lru, referencing, jupyter-server-terminals, jupyter-client, jsonpatch, arrow, jsonschema-specifications, isoduration, jsonschema, jupyter-events, jupyter-server, notebook-shim, jupyterlab-server, jupyter-lsp, jupyterlab, notebook, great_expectations\n",
            "  Attempting uninstall: requests\n",
            "    Found existing installation: requests 2.27.1\n",
            "    Uninstalling requests-2.27.1:\n",
            "      Successfully uninstalled requests-2.27.1\n",
            "  Attempting uninstall: pyzmq\n",
            "    Found existing installation: pyzmq 23.2.1\n",
            "    Uninstalling pyzmq-23.2.1:\n",
            "      Successfully uninstalled pyzmq-23.2.1\n",
            "  Attempting uninstall: Click\n",
            "    Found existing installation: click 8.1.6\n",
            "    Uninstalling click-8.1.6:\n",
            "      Successfully uninstalled click-8.1.6\n",
            "  Attempting uninstall: jupyter-client\n",
            "    Found existing installation: jupyter-client 6.1.12\n",
            "    Uninstalling jupyter-client-6.1.12:\n",
            "      Successfully uninstalled jupyter-client-6.1.12\n",
            "  Attempting uninstall: jsonschema\n",
            "    Found existing installation: jsonschema 4.3.3\n",
            "    Uninstalling jsonschema-4.3.3:\n",
            "      Successfully uninstalled jsonschema-4.3.3\n",
            "  Attempting uninstall: jupyter-server\n",
            "    Found existing installation: jupyter-server 1.24.0\n",
            "    Uninstalling jupyter-server-1.24.0:\n",
            "      Successfully uninstalled jupyter-server-1.24.0\n",
            "  Attempting uninstall: notebook\n",
            "    Found existing installation: notebook 6.4.8\n",
            "    Uninstalling notebook-6.4.8:\n",
            "      Successfully uninstalled notebook-6.4.8\n",
            "\u001b[31mERROR: pip's dependency resolver does not currently take into account all the packages that are installed. This behaviour is the source of the following dependency conflicts.\n",
            "google-colab 1.0.0 requires notebook==6.4.8, but you have notebook 7.0.0 which is incompatible.\n",
            "google-colab 1.0.0 requires requests==2.27.1, but you have requests 2.31.0 which is incompatible.\u001b[0m\u001b[31m\n",
            "\u001b[0mSuccessfully installed Click-8.1.3 arrow-1.2.3 async-lru-2.0.3 colorama-0.4.6 fqdn-1.5.1 great_expectations-0.17.6 isoduration-20.11.0 jedi-0.18.2 json5-0.9.14 jsonpatch-1.33 jsonpointer-2.4 jsonschema-4.18.0 jsonschema-specifications-2023.7.1 jupyter-client-8.3.0 jupyter-events-0.6.3 jupyter-lsp-2.2.0 jupyter-server-2.7.0 jupyter-server-terminals-0.4.4 jupyterlab-4.0.3 jupyterlab-server-2.23.0 makefun-1.15.1 marshmallow-3.20.1 notebook-7.0.0 notebook-shim-0.2.3 overrides-7.3.1 python-json-logger-2.0.7 pyzmq-25.1.0 referencing-0.30.0 requests-2.31.0 rfc3339-validator-0.1.4 rfc3986-validator-0.1.1 rpds-py-0.9.2 ruamel.yaml-0.17.17 uri-template-1.3.0\n"
          ]
        },
        {
          "output_type": "display_data",
          "data": {
            "application/vnd.colab-display-data+json": {
              "pip_warning": {
                "packages": [
                  "zmq"
                ]
              }
            }
          },
          "metadata": {}
        }
      ],
      "source": [
        "pip install great_expectations"
      ]
    },
    {
      "cell_type": "code",
      "execution_count": 3,
      "id": "49c0c4fe",
      "metadata": {
        "id": "49c0c4fe"
      },
      "outputs": [],
      "source": [
        "import great_expectations as ge\n",
        "import pandas as pd"
      ]
    },
    {
      "cell_type": "code",
      "execution_count": 4,
      "id": "2ef67246",
      "metadata": {
        "colab": {
          "base_uri": "https://localhost:8080/",
          "height": 35
        },
        "id": "2ef67246",
        "outputId": "c69e9f83-2995-4e7b-fbcd-626791777e97"
      },
      "outputs": [
        {
          "output_type": "execute_result",
          "data": {
            "text/plain": [
              "'/content'"
            ],
            "application/vnd.google.colaboratory.intrinsic+json": {
              "type": "string"
            }
          },
          "metadata": {},
          "execution_count": 4
        }
      ],
      "source": [
        "pwd"
      ]
    },
    {
      "cell_type": "code",
      "execution_count": 5,
      "id": "79818711",
      "metadata": {
        "colab": {
          "base_uri": "https://localhost:8080/",
          "height": 300
        },
        "id": "79818711",
        "outputId": "60a90146-a143-4438-fd45-9a753550b1f7"
      },
      "outputs": [
        {
          "output_type": "execute_result",
          "data": {
            "text/plain": [
              "   ProductKey ProductAlternateKey  ProductSubcategoryKey  \\\n",
              "0           1             AR-5381                    NaN   \n",
              "1           2             BA-8327                    NaN   \n",
              "2           3             BE-2349                    NaN   \n",
              "3           4             BE-2908                    NaN   \n",
              "4           5             BL-2036                    NaN   \n",
              "\n",
              "  WeightUnitMeasureCode SizeUnitMeasureCode     EnglishProductName  \\\n",
              "0                   NaN                 NaN        Adjustable Race   \n",
              "1                   NaN                 NaN           Bearing Ball   \n",
              "2                   NaN                 NaN        BB Ball Bearing   \n",
              "3                   NaN                 NaN  Headset Ball Bearings   \n",
              "4                   NaN                 NaN                  Blade   \n",
              "\n",
              "   StandardCost  FinishedGoodsFlag Color  SafetyStockLevel  ...  \\\n",
              "0           NaN                  0   NaN              1000  ...   \n",
              "1           NaN                  0   NaN              1000  ...   \n",
              "2           NaN                  0   NaN               800  ...   \n",
              "3           NaN                  0   NaN               800  ...   \n",
              "4           NaN                  0   NaN               800  ...   \n",
              "\n",
              "   DaysToManufacture  ProductLine DealerPrice Class  Style  ModelName  \\\n",
              "0                  0          NaN         NaN   NaN    NaN        NaN   \n",
              "1                  0          NaN         NaN   NaN    NaN        NaN   \n",
              "2                  1          NaN         NaN   NaN    NaN        NaN   \n",
              "3                  0          NaN         NaN   NaN    NaN        NaN   \n",
              "4                  1          NaN         NaN   NaN    NaN        NaN   \n",
              "\n",
              "  EnglishDescription  StartDate EndDate   Status  \n",
              "0                NaN 2003-07-01     NaT  Current  \n",
              "1                NaN 2003-07-01     NaT  Current  \n",
              "2                NaN 2003-07-01     NaT  Current  \n",
              "3                NaN 2003-07-01     NaT  Current  \n",
              "4                NaN 2003-07-01     NaT  Current  \n",
              "\n",
              "[5 rows x 25 columns]"
            ],
            "text/html": [
              "\n",
              "\n",
              "  <div id=\"df-3cc44485-8dd3-40a4-be0b-9e2aebc21c6b\">\n",
              "    <div class=\"colab-df-container\">\n",
              "      <div>\n",
              "<style scoped>\n",
              "    .dataframe tbody tr th:only-of-type {\n",
              "        vertical-align: middle;\n",
              "    }\n",
              "\n",
              "    .dataframe tbody tr th {\n",
              "        vertical-align: top;\n",
              "    }\n",
              "\n",
              "    .dataframe thead th {\n",
              "        text-align: right;\n",
              "    }\n",
              "</style>\n",
              "<table border=\"1\" class=\"dataframe\">\n",
              "  <thead>\n",
              "    <tr style=\"text-align: right;\">\n",
              "      <th></th>\n",
              "      <th>ProductKey</th>\n",
              "      <th>ProductAlternateKey</th>\n",
              "      <th>ProductSubcategoryKey</th>\n",
              "      <th>WeightUnitMeasureCode</th>\n",
              "      <th>SizeUnitMeasureCode</th>\n",
              "      <th>EnglishProductName</th>\n",
              "      <th>StandardCost</th>\n",
              "      <th>FinishedGoodsFlag</th>\n",
              "      <th>Color</th>\n",
              "      <th>SafetyStockLevel</th>\n",
              "      <th>...</th>\n",
              "      <th>DaysToManufacture</th>\n",
              "      <th>ProductLine</th>\n",
              "      <th>DealerPrice</th>\n",
              "      <th>Class</th>\n",
              "      <th>Style</th>\n",
              "      <th>ModelName</th>\n",
              "      <th>EnglishDescription</th>\n",
              "      <th>StartDate</th>\n",
              "      <th>EndDate</th>\n",
              "      <th>Status</th>\n",
              "    </tr>\n",
              "  </thead>\n",
              "  <tbody>\n",
              "    <tr>\n",
              "      <th>0</th>\n",
              "      <td>1</td>\n",
              "      <td>AR-5381</td>\n",
              "      <td>NaN</td>\n",
              "      <td>NaN</td>\n",
              "      <td>NaN</td>\n",
              "      <td>Adjustable Race</td>\n",
              "      <td>NaN</td>\n",
              "      <td>0</td>\n",
              "      <td>NaN</td>\n",
              "      <td>1000</td>\n",
              "      <td>...</td>\n",
              "      <td>0</td>\n",
              "      <td>NaN</td>\n",
              "      <td>NaN</td>\n",
              "      <td>NaN</td>\n",
              "      <td>NaN</td>\n",
              "      <td>NaN</td>\n",
              "      <td>NaN</td>\n",
              "      <td>2003-07-01</td>\n",
              "      <td>NaT</td>\n",
              "      <td>Current</td>\n",
              "    </tr>\n",
              "    <tr>\n",
              "      <th>1</th>\n",
              "      <td>2</td>\n",
              "      <td>BA-8327</td>\n",
              "      <td>NaN</td>\n",
              "      <td>NaN</td>\n",
              "      <td>NaN</td>\n",
              "      <td>Bearing Ball</td>\n",
              "      <td>NaN</td>\n",
              "      <td>0</td>\n",
              "      <td>NaN</td>\n",
              "      <td>1000</td>\n",
              "      <td>...</td>\n",
              "      <td>0</td>\n",
              "      <td>NaN</td>\n",
              "      <td>NaN</td>\n",
              "      <td>NaN</td>\n",
              "      <td>NaN</td>\n",
              "      <td>NaN</td>\n",
              "      <td>NaN</td>\n",
              "      <td>2003-07-01</td>\n",
              "      <td>NaT</td>\n",
              "      <td>Current</td>\n",
              "    </tr>\n",
              "    <tr>\n",
              "      <th>2</th>\n",
              "      <td>3</td>\n",
              "      <td>BE-2349</td>\n",
              "      <td>NaN</td>\n",
              "      <td>NaN</td>\n",
              "      <td>NaN</td>\n",
              "      <td>BB Ball Bearing</td>\n",
              "      <td>NaN</td>\n",
              "      <td>0</td>\n",
              "      <td>NaN</td>\n",
              "      <td>800</td>\n",
              "      <td>...</td>\n",
              "      <td>1</td>\n",
              "      <td>NaN</td>\n",
              "      <td>NaN</td>\n",
              "      <td>NaN</td>\n",
              "      <td>NaN</td>\n",
              "      <td>NaN</td>\n",
              "      <td>NaN</td>\n",
              "      <td>2003-07-01</td>\n",
              "      <td>NaT</td>\n",
              "      <td>Current</td>\n",
              "    </tr>\n",
              "    <tr>\n",
              "      <th>3</th>\n",
              "      <td>4</td>\n",
              "      <td>BE-2908</td>\n",
              "      <td>NaN</td>\n",
              "      <td>NaN</td>\n",
              "      <td>NaN</td>\n",
              "      <td>Headset Ball Bearings</td>\n",
              "      <td>NaN</td>\n",
              "      <td>0</td>\n",
              "      <td>NaN</td>\n",
              "      <td>800</td>\n",
              "      <td>...</td>\n",
              "      <td>0</td>\n",
              "      <td>NaN</td>\n",
              "      <td>NaN</td>\n",
              "      <td>NaN</td>\n",
              "      <td>NaN</td>\n",
              "      <td>NaN</td>\n",
              "      <td>NaN</td>\n",
              "      <td>2003-07-01</td>\n",
              "      <td>NaT</td>\n",
              "      <td>Current</td>\n",
              "    </tr>\n",
              "    <tr>\n",
              "      <th>4</th>\n",
              "      <td>5</td>\n",
              "      <td>BL-2036</td>\n",
              "      <td>NaN</td>\n",
              "      <td>NaN</td>\n",
              "      <td>NaN</td>\n",
              "      <td>Blade</td>\n",
              "      <td>NaN</td>\n",
              "      <td>0</td>\n",
              "      <td>NaN</td>\n",
              "      <td>800</td>\n",
              "      <td>...</td>\n",
              "      <td>1</td>\n",
              "      <td>NaN</td>\n",
              "      <td>NaN</td>\n",
              "      <td>NaN</td>\n",
              "      <td>NaN</td>\n",
              "      <td>NaN</td>\n",
              "      <td>NaN</td>\n",
              "      <td>2003-07-01</td>\n",
              "      <td>NaT</td>\n",
              "      <td>Current</td>\n",
              "    </tr>\n",
              "  </tbody>\n",
              "</table>\n",
              "<p>5 rows × 25 columns</p>\n",
              "</div>\n",
              "      <button class=\"colab-df-convert\" onclick=\"convertToInteractive('df-3cc44485-8dd3-40a4-be0b-9e2aebc21c6b')\"\n",
              "              title=\"Convert this dataframe to an interactive table.\"\n",
              "              style=\"display:none;\">\n",
              "\n",
              "  <svg xmlns=\"http://www.w3.org/2000/svg\" height=\"24px\"viewBox=\"0 0 24 24\"\n",
              "       width=\"24px\">\n",
              "    <path d=\"M0 0h24v24H0V0z\" fill=\"none\"/>\n",
              "    <path d=\"M18.56 5.44l.94 2.06.94-2.06 2.06-.94-2.06-.94-.94-2.06-.94 2.06-2.06.94zm-11 1L8.5 8.5l.94-2.06 2.06-.94-2.06-.94L8.5 2.5l-.94 2.06-2.06.94zm10 10l.94 2.06.94-2.06 2.06-.94-2.06-.94-.94-2.06-.94 2.06-2.06.94z\"/><path d=\"M17.41 7.96l-1.37-1.37c-.4-.4-.92-.59-1.43-.59-.52 0-1.04.2-1.43.59L10.3 9.45l-7.72 7.72c-.78.78-.78 2.05 0 2.83L4 21.41c.39.39.9.59 1.41.59.51 0 1.02-.2 1.41-.59l7.78-7.78 2.81-2.81c.8-.78.8-2.07 0-2.86zM5.41 20L4 18.59l7.72-7.72 1.47 1.35L5.41 20z\"/>\n",
              "  </svg>\n",
              "      </button>\n",
              "\n",
              "\n",
              "\n",
              "    <div id=\"df-420f491f-bf54-4f50-969b-e84a2be959dd\">\n",
              "      <button class=\"colab-df-quickchart\" onclick=\"quickchart('df-420f491f-bf54-4f50-969b-e84a2be959dd')\"\n",
              "              title=\"Suggest charts.\"\n",
              "              style=\"display:none;\">\n",
              "\n",
              "<svg xmlns=\"http://www.w3.org/2000/svg\" height=\"24px\"viewBox=\"0 0 24 24\"\n",
              "     width=\"24px\">\n",
              "    <g>\n",
              "        <path d=\"M19 3H5c-1.1 0-2 .9-2 2v14c0 1.1.9 2 2 2h14c1.1 0 2-.9 2-2V5c0-1.1-.9-2-2-2zM9 17H7v-7h2v7zm4 0h-2V7h2v10zm4 0h-2v-4h2v4z\"/>\n",
              "    </g>\n",
              "</svg>\n",
              "      </button>\n",
              "    </div>\n",
              "\n",
              "<style>\n",
              "  .colab-df-quickchart {\n",
              "    background-color: #E8F0FE;\n",
              "    border: none;\n",
              "    border-radius: 50%;\n",
              "    cursor: pointer;\n",
              "    display: none;\n",
              "    fill: #1967D2;\n",
              "    height: 32px;\n",
              "    padding: 0 0 0 0;\n",
              "    width: 32px;\n",
              "  }\n",
              "\n",
              "  .colab-df-quickchart:hover {\n",
              "    background-color: #E2EBFA;\n",
              "    box-shadow: 0px 1px 2px rgba(60, 64, 67, 0.3), 0px 1px 3px 1px rgba(60, 64, 67, 0.15);\n",
              "    fill: #174EA6;\n",
              "  }\n",
              "\n",
              "  [theme=dark] .colab-df-quickchart {\n",
              "    background-color: #3B4455;\n",
              "    fill: #D2E3FC;\n",
              "  }\n",
              "\n",
              "  [theme=dark] .colab-df-quickchart:hover {\n",
              "    background-color: #434B5C;\n",
              "    box-shadow: 0px 1px 3px 1px rgba(0, 0, 0, 0.15);\n",
              "    filter: drop-shadow(0px 1px 2px rgba(0, 0, 0, 0.3));\n",
              "    fill: #FFFFFF;\n",
              "  }\n",
              "</style>\n",
              "\n",
              "    <script>\n",
              "      async function quickchart(key) {\n",
              "        const containerElement = document.querySelector('#' + key);\n",
              "        const charts = await google.colab.kernel.invokeFunction(\n",
              "            'suggestCharts', [key], {});\n",
              "      }\n",
              "    </script>\n",
              "\n",
              "      <script>\n",
              "\n",
              "function displayQuickchartButton(domScope) {\n",
              "  let quickchartButtonEl =\n",
              "    domScope.querySelector('#df-420f491f-bf54-4f50-969b-e84a2be959dd button.colab-df-quickchart');\n",
              "  quickchartButtonEl.style.display =\n",
              "    google.colab.kernel.accessAllowed ? 'block' : 'none';\n",
              "}\n",
              "\n",
              "        displayQuickchartButton(document);\n",
              "      </script>\n",
              "      <style>\n",
              "    .colab-df-container {\n",
              "      display:flex;\n",
              "      flex-wrap:wrap;\n",
              "      gap: 12px;\n",
              "    }\n",
              "\n",
              "    .colab-df-convert {\n",
              "      background-color: #E8F0FE;\n",
              "      border: none;\n",
              "      border-radius: 50%;\n",
              "      cursor: pointer;\n",
              "      display: none;\n",
              "      fill: #1967D2;\n",
              "      height: 32px;\n",
              "      padding: 0 0 0 0;\n",
              "      width: 32px;\n",
              "    }\n",
              "\n",
              "    .colab-df-convert:hover {\n",
              "      background-color: #E2EBFA;\n",
              "      box-shadow: 0px 1px 2px rgba(60, 64, 67, 0.3), 0px 1px 3px 1px rgba(60, 64, 67, 0.15);\n",
              "      fill: #174EA6;\n",
              "    }\n",
              "\n",
              "    [theme=dark] .colab-df-convert {\n",
              "      background-color: #3B4455;\n",
              "      fill: #D2E3FC;\n",
              "    }\n",
              "\n",
              "    [theme=dark] .colab-df-convert:hover {\n",
              "      background-color: #434B5C;\n",
              "      box-shadow: 0px 1px 3px 1px rgba(0, 0, 0, 0.15);\n",
              "      filter: drop-shadow(0px 1px 2px rgba(0, 0, 0, 0.3));\n",
              "      fill: #FFFFFF;\n",
              "    }\n",
              "  </style>\n",
              "\n",
              "      <script>\n",
              "        const buttonEl =\n",
              "          document.querySelector('#df-3cc44485-8dd3-40a4-be0b-9e2aebc21c6b button.colab-df-convert');\n",
              "        buttonEl.style.display =\n",
              "          google.colab.kernel.accessAllowed ? 'block' : 'none';\n",
              "\n",
              "        async function convertToInteractive(key) {\n",
              "          const element = document.querySelector('#df-3cc44485-8dd3-40a4-be0b-9e2aebc21c6b');\n",
              "          const dataTable =\n",
              "            await google.colab.kernel.invokeFunction('convertToInteractive',\n",
              "                                                     [key], {});\n",
              "          if (!dataTable) return;\n",
              "\n",
              "          const docLinkHtml = 'Like what you see? Visit the ' +\n",
              "            '<a target=\"_blank\" href=https://colab.research.google.com/notebooks/data_table.ipynb>data table notebook</a>'\n",
              "            + ' to learn more about interactive tables.';\n",
              "          element.innerHTML = '';\n",
              "          dataTable['output_type'] = 'display_data';\n",
              "          await google.colab.output.renderOutput(dataTable, element);\n",
              "          const docLink = document.createElement('div');\n",
              "          docLink.innerHTML = docLinkHtml;\n",
              "          element.appendChild(docLink);\n",
              "        }\n",
              "      </script>\n",
              "    </div>\n",
              "  </div>\n"
            ]
          },
          "metadata": {},
          "execution_count": 5
        }
      ],
      "source": [
        "url = \"https://github.com/hnawaz007/pythondataanalysis/blob/main/ETL%20Pipeline/Pytest/Session%20one/Product.xlsx?raw=true\"\n",
        "# read from url\n",
        "df=pd.read_excel(url)\n",
        "df.head()"
      ]
    },
    {
      "cell_type": "code",
      "execution_count": 6,
      "id": "1107c1c1",
      "metadata": {
        "colab": {
          "base_uri": "https://localhost:8080/"
        },
        "id": "1107c1c1",
        "outputId": "9ac4a410-db41-494e-aada-dabf85f27b7f"
      },
      "outputs": [
        {
          "output_type": "execute_result",
          "data": {
            "text/plain": [
              "great_expectations.dataset.pandas_dataset.PandasDataset"
            ]
          },
          "metadata": {},
          "execution_count": 6
        }
      ],
      "source": [
        "mydf = ge.from_pandas(df)\n",
        "type(mydf)"
      ]
    },
    {
      "cell_type": "code",
      "execution_count": 7,
      "id": "3a284668",
      "metadata": {
        "colab": {
          "base_uri": "https://localhost:8080/"
        },
        "id": "3a284668",
        "outputId": "f5d83248-d391-489d-d9d6-f60c21c3746e"
      },
      "outputs": [
        {
          "output_type": "execute_result",
          "data": {
            "text/plain": [
              "{\n",
              "  \"success\": true,\n",
              "  \"expectation_config\": {\n",
              "    \"expectation_type\": \"expect_table_row_count_to_equal\",\n",
              "    \"kwargs\": {\n",
              "      \"value\": 606,\n",
              "      \"result_format\": \"BASIC\"\n",
              "    },\n",
              "    \"meta\": {}\n",
              "  },\n",
              "  \"result\": {\n",
              "    \"observed_value\": 606\n",
              "  },\n",
              "  \"meta\": {},\n",
              "  \"exception_info\": {\n",
              "    \"raised_exception\": false,\n",
              "    \"exception_traceback\": null,\n",
              "    \"exception_message\": null\n",
              "  }\n",
              "}"
            ]
          },
          "metadata": {},
          "execution_count": 7
        }
      ],
      "source": [
        "mydf.expect_table_row_count_to_equal(606)"
      ]
    },
    {
      "cell_type": "code",
      "execution_count": 8,
      "id": "49d48017",
      "metadata": {
        "colab": {
          "base_uri": "https://localhost:8080/"
        },
        "id": "49d48017",
        "outputId": "1ea6e585-a7fa-4403-c864-cdf14f468425"
      },
      "outputs": [
        {
          "output_type": "execute_result",
          "data": {
            "text/plain": [
              "{\n",
              "  \"success\": true,\n",
              "  \"expectation_config\": {\n",
              "    \"expectation_type\": \"expect_column_to_exist\",\n",
              "    \"kwargs\": {\n",
              "      \"column\": \"ProductKey\",\n",
              "      \"result_format\": \"BASIC\"\n",
              "    },\n",
              "    \"meta\": {}\n",
              "  },\n",
              "  \"result\": {},\n",
              "  \"meta\": {},\n",
              "  \"exception_info\": {\n",
              "    \"raised_exception\": false,\n",
              "    \"exception_traceback\": null,\n",
              "    \"exception_message\": null\n",
              "  }\n",
              "}"
            ]
          },
          "metadata": {},
          "execution_count": 8
        }
      ],
      "source": [
        "mydf.expect_column_to_exist(\"ProductKey\")"
      ]
    },
    {
      "cell_type": "code",
      "execution_count": 9,
      "id": "c438b75f",
      "metadata": {
        "colab": {
          "base_uri": "https://localhost:8080/"
        },
        "id": "c438b75f",
        "outputId": "c45ac62f-a2e3-4215-b879-23541b25b9ab"
      },
      "outputs": [
        {
          "output_type": "execute_result",
          "data": {
            "text/plain": [
              "{\n",
              "  \"success\": true,\n",
              "  \"expectation_config\": {\n",
              "    \"expectation_type\": \"expect_column_values_to_be_unique\",\n",
              "    \"kwargs\": {\n",
              "      \"column\": \"ProductKey\",\n",
              "      \"result_format\": \"BASIC\"\n",
              "    },\n",
              "    \"meta\": {}\n",
              "  },\n",
              "  \"result\": {\n",
              "    \"element_count\": 606,\n",
              "    \"missing_count\": 0,\n",
              "    \"missing_percent\": 0.0,\n",
              "    \"unexpected_count\": 0,\n",
              "    \"unexpected_percent\": 0.0,\n",
              "    \"unexpected_percent_total\": 0.0,\n",
              "    \"unexpected_percent_nonmissing\": 0.0,\n",
              "    \"partial_unexpected_list\": []\n",
              "  },\n",
              "  \"meta\": {},\n",
              "  \"exception_info\": {\n",
              "    \"raised_exception\": false,\n",
              "    \"exception_traceback\": null,\n",
              "    \"exception_message\": null\n",
              "  }\n",
              "}"
            ]
          },
          "metadata": {},
          "execution_count": 9
        }
      ],
      "source": [
        "mydf.expect_column_values_to_be_unique(\"ProductKey\")"
      ]
    },
    {
      "cell_type": "code",
      "execution_count": 10,
      "id": "66dc46cb",
      "metadata": {
        "colab": {
          "base_uri": "https://localhost:8080/"
        },
        "id": "66dc46cb",
        "outputId": "c2dc6eed-9ab3-4a7d-8df5-0c8e1fe64ea1"
      },
      "outputs": [
        {
          "output_type": "execute_result",
          "data": {
            "text/plain": [
              "{\n",
              "  \"success\": true,\n",
              "  \"expectation_config\": {\n",
              "    \"expectation_type\": \"expect_column_values_to_not_be_null\",\n",
              "    \"kwargs\": {\n",
              "      \"column\": \"ProductKey\",\n",
              "      \"result_format\": \"BASIC\"\n",
              "    },\n",
              "    \"meta\": {}\n",
              "  },\n",
              "  \"result\": {\n",
              "    \"element_count\": 606,\n",
              "    \"unexpected_count\": 0,\n",
              "    \"unexpected_percent\": 0.0,\n",
              "    \"unexpected_percent_total\": 0.0,\n",
              "    \"partial_unexpected_list\": []\n",
              "  },\n",
              "  \"meta\": {},\n",
              "  \"exception_info\": {\n",
              "    \"raised_exception\": false,\n",
              "    \"exception_traceback\": null,\n",
              "    \"exception_message\": null\n",
              "  }\n",
              "}"
            ]
          },
          "metadata": {},
          "execution_count": 10
        }
      ],
      "source": [
        "mydf.expect_column_values_to_not_be_null('ProductKey')"
      ]
    },
    {
      "cell_type": "code",
      "execution_count": 11,
      "id": "dce46794",
      "metadata": {
        "colab": {
          "base_uri": "https://localhost:8080/"
        },
        "id": "dce46794",
        "outputId": "940c8ff0-05d1-4f57-bdee-bfce636ef92b"
      },
      "outputs": [
        {
          "output_type": "execute_result",
          "data": {
            "text/plain": [
              "{\n",
              "  \"success\": true,\n",
              "  \"expectation_config\": {\n",
              "    \"expectation_type\": \"_expect_column_values_to_be_in_type_list__aggregate\",\n",
              "    \"kwargs\": {\n",
              "      \"column\": \"ProductKey\",\n",
              "      \"type_list\": [\n",
              "        \"int\",\n",
              "        \"int64\"\n",
              "      ],\n",
              "      \"result_format\": \"BASIC\"\n",
              "    },\n",
              "    \"meta\": {}\n",
              "  },\n",
              "  \"result\": {\n",
              "    \"observed_value\": \"int64\"\n",
              "  },\n",
              "  \"meta\": {},\n",
              "  \"exception_info\": {\n",
              "    \"raised_exception\": false,\n",
              "    \"exception_traceback\": null,\n",
              "    \"exception_message\": null\n",
              "  }\n",
              "}"
            ]
          },
          "metadata": {},
          "execution_count": 11
        }
      ],
      "source": [
        "mydf.expect_column_values_to_be_in_type_list(\"ProductKey\", [\"int\", \"int64\"])"
      ]
    },
    {
      "cell_type": "code",
      "execution_count": 12,
      "id": "288e0f00",
      "metadata": {
        "colab": {
          "base_uri": "https://localhost:8080/"
        },
        "id": "288e0f00",
        "outputId": "3dc5b644-fc7d-4016-d8fd-24bded5aabee"
      },
      "outputs": [
        {
          "output_type": "execute_result",
          "data": {
            "text/plain": [
              "array([nan, 'R ', 'S ', 'M ', 'T '], dtype=object)"
            ]
          },
          "metadata": {},
          "execution_count": 12
        }
      ],
      "source": [
        "df.ProductLine.unique()"
      ]
    },
    {
      "cell_type": "code",
      "execution_count": 13,
      "id": "4e2ffa2d",
      "metadata": {
        "colab": {
          "base_uri": "https://localhost:8080/"
        },
        "id": "4e2ffa2d",
        "outputId": "c3a8de71-37f3-47da-f26a-4d26aee89751"
      },
      "outputs": [
        {
          "output_type": "execute_result",
          "data": {
            "text/plain": [
              "array([nan, 'Black', 'Silver', 'Red', 'White', 'Blue', 'Multi', 'Yellow',\n",
              "       'Grey', 'Silver/Black'], dtype=object)"
            ]
          },
          "metadata": {},
          "execution_count": 13
        }
      ],
      "source": [
        "df.Color.unique()"
      ]
    },
    {
      "cell_type": "code",
      "execution_count": 14,
      "id": "ed13d8a1",
      "metadata": {
        "colab": {
          "base_uri": "https://localhost:8080/"
        },
        "id": "ed13d8a1",
        "outputId": "52893bc9-3cc2-4047-d541-6838e348874e"
      },
      "outputs": [
        {
          "output_type": "execute_result",
          "data": {
            "text/plain": [
              "{\n",
              "  \"success\": true,\n",
              "  \"expectation_config\": {\n",
              "    \"expectation_type\": \"expect_column_values_to_be_in_set\",\n",
              "    \"kwargs\": {\n",
              "      \"column\": \"ProductLine\",\n",
              "      \"value_set\": [\n",
              "        \"nan\",\n",
              "        \"R \",\n",
              "        \"S \",\n",
              "        \"M \",\n",
              "        \"T \"\n",
              "      ],\n",
              "      \"result_format\": \"BASIC\"\n",
              "    },\n",
              "    \"meta\": {}\n",
              "  },\n",
              "  \"result\": {\n",
              "    \"element_count\": 606,\n",
              "    \"missing_count\": 226,\n",
              "    \"missing_percent\": 37.29372937293729,\n",
              "    \"unexpected_count\": 0,\n",
              "    \"unexpected_percent\": 0.0,\n",
              "    \"unexpected_percent_total\": 0.0,\n",
              "    \"unexpected_percent_nonmissing\": 0.0,\n",
              "    \"partial_unexpected_list\": []\n",
              "  },\n",
              "  \"meta\": {},\n",
              "  \"exception_info\": {\n",
              "    \"raised_exception\": false,\n",
              "    \"exception_traceback\": null,\n",
              "    \"exception_message\": null\n",
              "  }\n",
              "}"
            ]
          },
          "metadata": {},
          "execution_count": 14
        }
      ],
      "source": [
        "mydf.expect_column_values_to_be_in_set(\"ProductLine\", ['nan', 'R ', 'S ', 'M ', 'T '])"
      ]
    },
    {
      "cell_type": "code",
      "execution_count": 15,
      "id": "6f27f260",
      "metadata": {
        "colab": {
          "base_uri": "https://localhost:8080/"
        },
        "id": "6f27f260",
        "outputId": "a91e1f33-e90f-4bc8-d0ff-3d1cd7875bfa"
      },
      "outputs": [
        {
          "output_type": "execute_result",
          "data": {
            "text/plain": [
              "{\n",
              "  \"success\": true,\n",
              "  \"expectation_config\": {\n",
              "    \"expectation_type\": \"expect_column_values_to_be_in_set\",\n",
              "    \"kwargs\": {\n",
              "      \"column\": \"Color\",\n",
              "      \"value_set\": [\n",
              "        \"Black\",\n",
              "        \"Silver\",\n",
              "        \"Red\",\n",
              "        \"White\",\n",
              "        \"Blue\",\n",
              "        \"Multi\",\n",
              "        \"Yellow\",\n",
              "        \"Grey\",\n",
              "        \"Silver/Black\"\n",
              "      ],\n",
              "      \"result_format\": \"BASIC\"\n",
              "    },\n",
              "    \"meta\": {}\n",
              "  },\n",
              "  \"result\": {\n",
              "    \"element_count\": 606,\n",
              "    \"missing_count\": 254,\n",
              "    \"missing_percent\": 41.914191419141915,\n",
              "    \"unexpected_count\": 0,\n",
              "    \"unexpected_percent\": 0.0,\n",
              "    \"unexpected_percent_total\": 0.0,\n",
              "    \"unexpected_percent_nonmissing\": 0.0,\n",
              "    \"partial_unexpected_list\": []\n",
              "  },\n",
              "  \"meta\": {},\n",
              "  \"exception_info\": {\n",
              "    \"raised_exception\": false,\n",
              "    \"exception_traceback\": null,\n",
              "    \"exception_message\": null\n",
              "  }\n",
              "}"
            ]
          },
          "metadata": {},
          "execution_count": 15
        }
      ],
      "source": [
        "mydf.expect_column_values_to_be_in_set(\"Color\", ['Black', 'Silver', 'Red', 'White', 'Blue', 'Multi', 'Yellow',\n",
        "       'Grey', 'Silver/Black'])"
      ]
    },
    {
      "cell_type": "code",
      "execution_count": 16,
      "id": "df9365b0",
      "metadata": {
        "colab": {
          "base_uri": "https://localhost:8080/"
        },
        "id": "df9365b0",
        "outputId": "e55cc9a9-eefe-48a3-f5cc-e36bc64c7900"
      },
      "outputs": [
        {
          "output_type": "execute_result",
          "data": {
            "text/plain": [
              "array([1000,  800,  500,   60,    4,  100])"
            ]
          },
          "metadata": {},
          "execution_count": 16
        }
      ],
      "source": [
        "df.SafetyStockLevel.unique()"
      ]
    },
    {
      "cell_type": "code",
      "execution_count": 17,
      "id": "2d3275e3",
      "metadata": {
        "colab": {
          "base_uri": "https://localhost:8080/"
        },
        "id": "2d3275e3",
        "outputId": "e927f876-66be-42b3-a4ba-e89a9d408329"
      },
      "outputs": [
        {
          "output_type": "execute_result",
          "data": {
            "text/plain": [
              "{\n",
              "  \"success\": true,\n",
              "  \"expectation_config\": {\n",
              "    \"expectation_type\": \"expect_column_max_to_be_between\",\n",
              "    \"kwargs\": {\n",
              "      \"column\": \"SafetyStockLevel\",\n",
              "      \"min_value\": 1,\n",
              "      \"max_value\": 1000,\n",
              "      \"result_format\": \"BASIC\"\n",
              "    },\n",
              "    \"meta\": {}\n",
              "  },\n",
              "  \"result\": {\n",
              "    \"observed_value\": 1000,\n",
              "    \"element_count\": 606,\n",
              "    \"missing_count\": null,\n",
              "    \"missing_percent\": null\n",
              "  },\n",
              "  \"meta\": {},\n",
              "  \"exception_info\": {\n",
              "    \"raised_exception\": false,\n",
              "    \"exception_traceback\": null,\n",
              "    \"exception_message\": null\n",
              "  }\n",
              "}"
            ]
          },
          "metadata": {},
          "execution_count": 17
        }
      ],
      "source": [
        "mydf.expect_column_max_to_be_between(\"SafetyStockLevel\", 1, 1000)"
      ]
    },
    {
      "cell_type": "code",
      "execution_count": 18,
      "id": "85293d4d",
      "metadata": {
        "colab": {
          "base_uri": "https://localhost:8080/"
        },
        "id": "85293d4d",
        "outputId": "cbc99ac6-a4d0-4de4-e27e-e6f0117c2730"
      },
      "outputs": [
        {
          "output_type": "execute_result",
          "data": {
            "text/plain": [
              "{\n",
              "  \"success\": true,\n",
              "  \"expectation_config\": {\n",
              "    \"expectation_type\": \"expect_column_max_to_be_between\",\n",
              "    \"kwargs\": {\n",
              "      \"column\": \"DaysToManufacture\",\n",
              "      \"min_value\": 1,\n",
              "      \"max_value\": 10,\n",
              "      \"result_format\": \"BASIC\"\n",
              "    },\n",
              "    \"meta\": {}\n",
              "  },\n",
              "  \"result\": {\n",
              "    \"observed_value\": 4,\n",
              "    \"element_count\": 606,\n",
              "    \"missing_count\": null,\n",
              "    \"missing_percent\": null\n",
              "  },\n",
              "  \"meta\": {},\n",
              "  \"exception_info\": {\n",
              "    \"raised_exception\": false,\n",
              "    \"exception_traceback\": null,\n",
              "    \"exception_message\": null\n",
              "  }\n",
              "}"
            ]
          },
          "metadata": {},
          "execution_count": 18
        }
      ],
      "source": [
        "mydf.expect_column_max_to_be_between(\"DaysToManufacture\", 1, 10)"
      ]
    },
    {
      "cell_type": "code",
      "execution_count": 19,
      "id": "24057a67",
      "metadata": {
        "colab": {
          "base_uri": "https://localhost:8080/"
        },
        "id": "24057a67",
        "outputId": "d2f7053d-cec9-41e9-f007-719e34385766"
      },
      "outputs": [
        {
          "output_type": "execute_result",
          "data": {
            "text/plain": [
              "{\n",
              "  \"success\": true,\n",
              "  \"expectation_config\": {\n",
              "    \"expectation_type\": \"expect_column_mean_to_be_between\",\n",
              "    \"kwargs\": {\n",
              "      \"column\": \"StandardCost\",\n",
              "      \"min_value\": 100,\n",
              "      \"max_value\": 500,\n",
              "      \"result_format\": \"BASIC\"\n",
              "    },\n",
              "    \"meta\": {}\n",
              "  },\n",
              "  \"result\": {\n",
              "    \"observed_value\": 434.2658288607594,\n",
              "    \"element_count\": 606,\n",
              "    \"missing_count\": 211,\n",
              "    \"missing_percent\": 34.81848184818482\n",
              "  },\n",
              "  \"meta\": {},\n",
              "  \"exception_info\": {\n",
              "    \"raised_exception\": false,\n",
              "    \"exception_traceback\": null,\n",
              "    \"exception_message\": null\n",
              "  }\n",
              "}"
            ]
          },
          "metadata": {},
          "execution_count": 19
        }
      ],
      "source": [
        "mydf.expect_column_mean_to_be_between(\"StandardCost\", 100, 500)"
      ]
    },
    {
      "cell_type": "code",
      "execution_count": 20,
      "id": "87bfc5cf",
      "metadata": {
        "colab": {
          "base_uri": "https://localhost:8080/"
        },
        "id": "87bfc5cf",
        "outputId": "e6217c53-c773-456f-c71c-f08d068239f5"
      },
      "outputs": [
        {
          "output_type": "execute_result",
          "data": {
            "text/plain": [
              "{\n",
              "  \"success\": true,\n",
              "  \"expectation_config\": {\n",
              "    \"expectation_type\": \"expect_column_values_to_not_be_null\",\n",
              "    \"kwargs\": {\n",
              "      \"column\": \"EnglishProductName\",\n",
              "      \"result_format\": \"BASIC\"\n",
              "    },\n",
              "    \"meta\": {}\n",
              "  },\n",
              "  \"result\": {\n",
              "    \"element_count\": 606,\n",
              "    \"unexpected_count\": 0,\n",
              "    \"unexpected_percent\": 0.0,\n",
              "    \"unexpected_percent_total\": 0.0,\n",
              "    \"partial_unexpected_list\": []\n",
              "  },\n",
              "  \"meta\": {},\n",
              "  \"exception_info\": {\n",
              "    \"raised_exception\": false,\n",
              "    \"exception_traceback\": null,\n",
              "    \"exception_message\": null\n",
              "  }\n",
              "}"
            ]
          },
          "metadata": {},
          "execution_count": 20
        }
      ],
      "source": [
        "mydf.expect_column_values_to_not_be_null('EnglishProductName')"
      ]
    },
    {
      "cell_type": "code",
      "execution_count": 21,
      "id": "043bbc6f",
      "metadata": {
        "colab": {
          "base_uri": "https://localhost:8080/"
        },
        "id": "043bbc6f",
        "outputId": "ff4829b4-d70b-4c5c-c047-8fcd8ce2c64a"
      },
      "outputs": [
        {
          "output_type": "execute_result",
          "data": {
            "text/plain": [
              "{\n",
              "  \"success\": true,\n",
              "  \"expectation_config\": {\n",
              "    \"expectation_type\": \"expect_column_values_to_not_be_null\",\n",
              "    \"kwargs\": {\n",
              "      \"column\": \"Color\",\n",
              "      \"mostly\": 0.55,\n",
              "      \"result_format\": \"BASIC\"\n",
              "    },\n",
              "    \"meta\": {}\n",
              "  },\n",
              "  \"result\": {\n",
              "    \"element_count\": 606,\n",
              "    \"unexpected_count\": 254,\n",
              "    \"unexpected_percent\": 41.914191419141915,\n",
              "    \"unexpected_percent_total\": 41.914191419141915,\n",
              "    \"partial_unexpected_list\": []\n",
              "  },\n",
              "  \"meta\": {},\n",
              "  \"exception_info\": {\n",
              "    \"raised_exception\": false,\n",
              "    \"exception_traceback\": null,\n",
              "    \"exception_message\": null\n",
              "  }\n",
              "}"
            ]
          },
          "metadata": {},
          "execution_count": 21
        }
      ],
      "source": [
        "mydf.expect_column_values_to_not_be_null(\"Color\", mostly=0.55)"
      ]
    },
    {
      "cell_type": "code",
      "execution_count": 22,
      "id": "af0f993f",
      "metadata": {
        "colab": {
          "base_uri": "https://localhost:8080/"
        },
        "id": "af0f993f",
        "outputId": "f76ea5b7-d833-4b67-fb0c-8f32ed55698c"
      },
      "outputs": [
        {
          "output_type": "execute_result",
          "data": {
            "text/plain": [
              "{\n",
              "  \"expectation_suite_name\": \"default\",\n",
              "  \"ge_cloud_id\": null,\n",
              "  \"expectations\": [\n",
              "    {\n",
              "      \"expectation_type\": \"expect_table_row_count_to_equal\",\n",
              "      \"kwargs\": {\n",
              "        \"value\": 606\n",
              "      },\n",
              "      \"meta\": {}\n",
              "    },\n",
              "    {\n",
              "      \"expectation_type\": \"expect_column_to_exist\",\n",
              "      \"kwargs\": {\n",
              "        \"column\": \"ProductKey\"\n",
              "      },\n",
              "      \"meta\": {}\n",
              "    },\n",
              "    {\n",
              "      \"expectation_type\": \"expect_column_values_to_be_unique\",\n",
              "      \"kwargs\": {\n",
              "        \"column\": \"ProductKey\"\n",
              "      },\n",
              "      \"meta\": {}\n",
              "    },\n",
              "    {\n",
              "      \"expectation_type\": \"expect_column_values_to_not_be_null\",\n",
              "      \"kwargs\": {\n",
              "        \"column\": \"ProductKey\"\n",
              "      },\n",
              "      \"meta\": {}\n",
              "    },\n",
              "    {\n",
              "      \"expectation_type\": \"expect_column_values_to_be_in_type_list\",\n",
              "      \"kwargs\": {\n",
              "        \"column\": \"ProductKey\",\n",
              "        \"type_list\": [\n",
              "          \"int\",\n",
              "          \"int64\"\n",
              "        ]\n",
              "      },\n",
              "      \"meta\": {}\n",
              "    },\n",
              "    {\n",
              "      \"expectation_type\": \"expect_column_values_to_be_in_set\",\n",
              "      \"kwargs\": {\n",
              "        \"column\": \"ProductLine\",\n",
              "        \"value_set\": [\n",
              "          \"nan\",\n",
              "          \"R \",\n",
              "          \"S \",\n",
              "          \"M \",\n",
              "          \"T \"\n",
              "        ]\n",
              "      },\n",
              "      \"meta\": {}\n",
              "    },\n",
              "    {\n",
              "      \"expectation_type\": \"expect_column_values_to_be_in_set\",\n",
              "      \"kwargs\": {\n",
              "        \"column\": \"Color\",\n",
              "        \"value_set\": [\n",
              "          \"Black\",\n",
              "          \"Silver\",\n",
              "          \"Red\",\n",
              "          \"White\",\n",
              "          \"Blue\",\n",
              "          \"Multi\",\n",
              "          \"Yellow\",\n",
              "          \"Grey\",\n",
              "          \"Silver/Black\"\n",
              "        ]\n",
              "      },\n",
              "      \"meta\": {}\n",
              "    },\n",
              "    {\n",
              "      \"expectation_type\": \"expect_column_max_to_be_between\",\n",
              "      \"kwargs\": {\n",
              "        \"column\": \"SafetyStockLevel\",\n",
              "        \"min_value\": 1,\n",
              "        \"max_value\": 1000\n",
              "      },\n",
              "      \"meta\": {}\n",
              "    },\n",
              "    {\n",
              "      \"expectation_type\": \"expect_column_max_to_be_between\",\n",
              "      \"kwargs\": {\n",
              "        \"column\": \"DaysToManufacture\",\n",
              "        \"min_value\": 1,\n",
              "        \"max_value\": 10\n",
              "      },\n",
              "      \"meta\": {}\n",
              "    },\n",
              "    {\n",
              "      \"expectation_type\": \"expect_column_mean_to_be_between\",\n",
              "      \"kwargs\": {\n",
              "        \"column\": \"StandardCost\",\n",
              "        \"min_value\": 100,\n",
              "        \"max_value\": 500\n",
              "      },\n",
              "      \"meta\": {}\n",
              "    },\n",
              "    {\n",
              "      \"expectation_type\": \"expect_column_values_to_not_be_null\",\n",
              "      \"kwargs\": {\n",
              "        \"column\": \"EnglishProductName\"\n",
              "      },\n",
              "      \"meta\": {}\n",
              "    },\n",
              "    {\n",
              "      \"expectation_type\": \"expect_column_values_to_not_be_null\",\n",
              "      \"kwargs\": {\n",
              "        \"column\": \"Color\",\n",
              "        \"mostly\": 0.55\n",
              "      },\n",
              "      \"meta\": {}\n",
              "    }\n",
              "  ],\n",
              "  \"data_asset_type\": \"Dataset\",\n",
              "  \"meta\": {\n",
              "    \"great_expectations_version\": \"0.17.6\"\n",
              "  }\n",
              "}"
            ]
          },
          "metadata": {},
          "execution_count": 22
        }
      ],
      "source": [
        "mydf.get_expectation_suite()"
      ]
    },
    {
      "cell_type": "code",
      "execution_count": 23,
      "id": "868dea27",
      "metadata": {
        "colab": {
          "base_uri": "https://localhost:8080/"
        },
        "id": "868dea27",
        "outputId": "8fe9c646-2f38-41be-d13e-7d53245a4b2e"
      },
      "outputs": [
        {
          "output_type": "execute_result",
          "data": {
            "text/plain": [
              "['ProductKey',\n",
              " 'ProductAlternateKey',\n",
              " 'ProductSubcategoryKey',\n",
              " 'WeightUnitMeasureCode',\n",
              " 'SizeUnitMeasureCode',\n",
              " 'EnglishProductName',\n",
              " 'StandardCost',\n",
              " 'FinishedGoodsFlag',\n",
              " 'Color',\n",
              " 'SafetyStockLevel',\n",
              " 'ReorderPoint',\n",
              " 'ListPrice',\n",
              " 'Size',\n",
              " 'SizeRange',\n",
              " 'Weight',\n",
              " 'DaysToManufacture',\n",
              " 'ProductLine',\n",
              " 'DealerPrice',\n",
              " 'Class',\n",
              " 'Style',\n",
              " 'ModelName',\n",
              " 'EnglishDescription',\n",
              " 'StartDate',\n",
              " 'EndDate',\n",
              " 'Status']"
            ]
          },
          "metadata": {},
          "execution_count": 23
        }
      ],
      "source": [
        "mydf.get_table_columns()"
      ]
    },
    {
      "cell_type": "code",
      "execution_count": 24,
      "id": "f2b56cb7",
      "metadata": {
        "colab": {
          "base_uri": "https://localhost:8080/"
        },
        "id": "f2b56cb7",
        "outputId": "d4129136-cc54-4df3-e359-1927d7ae95e1"
      },
      "outputs": [
        {
          "output_type": "execute_result",
          "data": {
            "text/plain": [
              "{'include_config': True, 'catch_exceptions': False, 'result_format': 'BASIC'}"
            ]
          },
          "metadata": {},
          "execution_count": 24
        }
      ],
      "source": [
        "mydf.default_expectation_args\n"
      ]
    },
    {
      "cell_type": "code",
      "execution_count": null,
      "id": "84eda277",
      "metadata": {
        "id": "84eda277"
      },
      "outputs": [],
      "source": []
    }
  ],
  "metadata": {
    "kernelspec": {
      "display_name": "Python 3 (ipykernel)",
      "language": "python",
      "name": "python3"
    },
    "language_info": {
      "codemirror_mode": {
        "name": "ipython",
        "version": 3
      },
      "file_extension": ".py",
      "mimetype": "text/x-python",
      "name": "python",
      "nbconvert_exporter": "python",
      "pygments_lexer": "ipython3",
      "version": "3.11.3"
    },
    "colab": {
      "provenance": [],
      "include_colab_link": true
    }
  },
  "nbformat": 4,
  "nbformat_minor": 5
}