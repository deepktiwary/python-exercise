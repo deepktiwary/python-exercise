{
 "cells": [
  {
   "cell_type": "markdown",
   "id": "f76fe3af",
   "metadata": {},
   "source": [
    "### Let's create our first `class`"
   ]
  },
  {
   "cell_type": "code",
   "execution_count": 16,
   "id": "a9db9a66",
   "metadata": {},
   "outputs": [],
   "source": [
    "class Account:\n",
    "    def __init__(self, name, accountnum, balance):  #constructor\n",
    "        self.name = name\n",
    "        self.bal = balance\n",
    "        self.acc_no = accountnum"
   ]
  },
  {
   "cell_type": "code",
   "execution_count": 17,
   "id": "b932ad0f",
   "metadata": {},
   "outputs": [],
   "source": [
    "acc1 = Account('Virat', 100, 100000)\n",
    "acc2 = Account('Sachin', 402, 89000)\n",
    "acc3 = Account('Joseph', 988, 76000)"
   ]
  },
  {
   "cell_type": "code",
   "execution_count": 23,
   "id": "bc75c1ed",
   "metadata": {},
   "outputs": [
    {
     "data": {
      "text/plain": [
       "(100000, 'Virat', 100)"
      ]
     },
     "execution_count": 23,
     "metadata": {},
     "output_type": "execute_result"
    }
   ],
   "source": [
    "acc1.bal, acc1.name, acc1.acc_no"
   ]
  },
  {
   "cell_type": "code",
   "execution_count": 20,
   "id": "f0554e34",
   "metadata": {},
   "outputs": [
    {
     "data": {
      "text/plain": [
       "89000"
      ]
     },
     "execution_count": 20,
     "metadata": {},
     "output_type": "execute_result"
    }
   ],
   "source": [
    "acc2.bal"
   ]
  },
  {
   "cell_type": "code",
   "execution_count": 21,
   "id": "51fbf1bd",
   "metadata": {},
   "outputs": [
    {
     "data": {
      "text/plain": [
       "76000"
      ]
     },
     "execution_count": 21,
     "metadata": {},
     "output_type": "execute_result"
    }
   ],
   "source": [
    "acc3.bal"
   ]
  },
  {
   "cell_type": "code",
   "execution_count": 24,
   "id": "f201a929",
   "metadata": {},
   "outputs": [
    {
     "name": "stdout",
     "output_type": "stream",
     "text": [
      "<__main__.Account object at 0x000002285574A310>\n"
     ]
    }
   ],
   "source": [
    "print(acc1)"
   ]
  },
  {
   "cell_type": "code",
   "execution_count": 25,
   "id": "203614e8",
   "metadata": {},
   "outputs": [],
   "source": [
    "class Account:\n",
    "    def __init__(self, name, accountnum, balance):  #constructor\n",
    "        self.name = name\n",
    "        self.bal = balance\n",
    "        self.acc_no = accountnum\n",
    "        \n",
    "    def __str__(self):\n",
    "        return f'The account number {self.acc_no} belongs to {self.name} and the balance in the account is ${self.bal}'"
   ]
  },
  {
   "cell_type": "code",
   "execution_count": 26,
   "id": "3e14b623",
   "metadata": {},
   "outputs": [],
   "source": [
    "acc1 = Account('Virat', 100, 100000)\n",
    "acc2 = Account('Sachin', 402, 89000)\n",
    "acc3 = Account('Joseph', 988, 76000)"
   ]
  },
  {
   "cell_type": "code",
   "execution_count": 27,
   "id": "c4a1217b",
   "metadata": {},
   "outputs": [
    {
     "name": "stdout",
     "output_type": "stream",
     "text": [
      "The account number 100 belongs to Virat and the balance in the account is $100000\n"
     ]
    }
   ],
   "source": [
    "print(acc1)"
   ]
  },
  {
   "cell_type": "code",
   "execution_count": 28,
   "id": "a0248b8b",
   "metadata": {},
   "outputs": [
    {
     "name": "stdout",
     "output_type": "stream",
     "text": [
      "The account number 402 belongs to Sachin and the balance in the account is $89000\n"
     ]
    }
   ],
   "source": [
    "print(acc2)"
   ]
  },
  {
   "cell_type": "code",
   "execution_count": 29,
   "id": "4dc0b0a0",
   "metadata": {},
   "outputs": [
    {
     "name": "stdout",
     "output_type": "stream",
     "text": [
      "The account number 988 belongs to Joseph and the balance in the account is $76000\n"
     ]
    }
   ],
   "source": [
    "print(acc3)"
   ]
  },
  {
   "cell_type": "markdown",
   "id": "8e0747d0",
   "metadata": {},
   "source": [
    "### Methods (User Defined Functions in the classes)"
   ]
  },
  {
   "cell_type": "code",
   "execution_count": 42,
   "id": "b3e21fc6",
   "metadata": {},
   "outputs": [],
   "source": [
    "class Account:\n",
    "    def __init__(self, name, accountnum, balance):  #constructor\n",
    "        self.name = name\n",
    "        self.bal = balance\n",
    "        self.acc_no = accountnum\n",
    "        \n",
    "    def deposit(self, amount):\n",
    "        if amount > 0:\n",
    "            self.bal = self.bal + amount\n",
    "        else:\n",
    "            print('Please try with a value greater than 0.')\n",
    "    \n",
    "    def withdraw(self, amount):\n",
    "        if amount > 0 and amount <= self.bal:\n",
    "            self.bal = self.bal - amount\n",
    "        \n",
    "    def __str__(self):\n",
    "        return f'The account number {self.acc_no} belongs to {self.name} and the balance in the account is ${self.bal}'"
   ]
  },
  {
   "cell_type": "code",
   "execution_count": 43,
   "id": "e3a8aa19",
   "metadata": {},
   "outputs": [],
   "source": [
    "acc1 = Account('Virat', 100, 100000)\n",
    "acc2 = Account('Sachin', 402, 89000)\n",
    "acc3 = Account('Joseph', 988, 76000)"
   ]
  },
  {
   "cell_type": "code",
   "execution_count": 44,
   "id": "6bbe0429",
   "metadata": {},
   "outputs": [],
   "source": [
    "acc1.deposit(5000)"
   ]
  },
  {
   "cell_type": "code",
   "execution_count": 45,
   "id": "6025aacc",
   "metadata": {},
   "outputs": [
    {
     "data": {
      "text/plain": [
       "105000"
      ]
     },
     "execution_count": 45,
     "metadata": {},
     "output_type": "execute_result"
    }
   ],
   "source": [
    "acc1.bal"
   ]
  },
  {
   "cell_type": "code",
   "execution_count": 46,
   "id": "a8990fb6",
   "metadata": {},
   "outputs": [
    {
     "name": "stdout",
     "output_type": "stream",
     "text": [
      "Please try with a value greater than 0.\n"
     ]
    }
   ],
   "source": [
    "acc1.deposit(-5000)"
   ]
  },
  {
   "cell_type": "code",
   "execution_count": 47,
   "id": "a9cd45f3",
   "metadata": {},
   "outputs": [
    {
     "data": {
      "text/plain": [
       "105000"
      ]
     },
     "execution_count": 47,
     "metadata": {},
     "output_type": "execute_result"
    }
   ],
   "source": [
    "acc1.bal"
   ]
  },
  {
   "cell_type": "code",
   "execution_count": 48,
   "id": "d9ace016",
   "metadata": {},
   "outputs": [],
   "source": [
    "acc2.withdraw(10000)"
   ]
  },
  {
   "cell_type": "code",
   "execution_count": 49,
   "id": "b08a1979",
   "metadata": {},
   "outputs": [
    {
     "data": {
      "text/plain": [
       "79000"
      ]
     },
     "execution_count": 49,
     "metadata": {},
     "output_type": "execute_result"
    }
   ],
   "source": [
    "acc2.bal"
   ]
  },
  {
   "cell_type": "code",
   "execution_count": 50,
   "id": "6b5a284a",
   "metadata": {},
   "outputs": [],
   "source": [
    "acc2.withdraw(80000)"
   ]
  },
  {
   "cell_type": "code",
   "execution_count": 52,
   "id": "0848e8e8",
   "metadata": {},
   "outputs": [
    {
     "data": {
      "text/plain": [
       "79000"
      ]
     },
     "execution_count": 52,
     "metadata": {},
     "output_type": "execute_result"
    }
   ],
   "source": [
    "acc2.bal"
   ]
  },
  {
   "cell_type": "markdown",
   "id": "e19c8cf8",
   "metadata": {},
   "source": [
    "### Inheritance \n",
    "\n",
    "- Single\n",
    "- Multiple\n",
    "- Multilevel\n",
    "- Hierarchical"
   ]
  },
  {
   "cell_type": "code",
   "execution_count": null,
   "id": "b6bf2371",
   "metadata": {},
   "outputs": [],
   "source": [
    "class SavingsAccount:\n",
    "    def __init__(self, name, accountnum, balance):  #constructor\n",
    "        self.name = name\n",
    "        self.bal = balance\n",
    "        self.acc_no = accountnum\n",
    "        self.maxtrans = 10\n",
    "        \n",
    "    def deposit(self, amount):\n",
    "        if amount > 0:\n",
    "            self.bal = self.bal + amount\n",
    "        else:\n",
    "            print('Please try with a value greater than 0.')\n",
    "    \n",
    "    def withdraw(self, amount):\n",
    "        if amount > 0 and amount <= self.bal:\n",
    "            self.bal = self.bal - amount\n",
    "        \n",
    "    def __str__(self):\n",
    "        return f'The account number {self.acc_no} belongs to {self.name} and the balance in the account is ${self.bal}'\n",
    "    \n",
    "class CurrentAccount:\n",
    "    def __init__(self, name, accountnum, balance):  #constructor\n",
    "        self.name = name\n",
    "        self.bal = balance\n",
    "        self.acc_no = accountnum\n",
    "        self.maxtrans = 500\n",
    "        \n",
    "    def deposit(self, amount):\n",
    "        if amount > 0:\n",
    "            self.bal = self.bal + amount\n",
    "        else:\n",
    "            print('Please try with a value greater than 0.')\n",
    "    \n",
    "    def withdraw(self, amount):\n",
    "        if amount > 0 and amount <= self.bal:\n",
    "            self.bal = self.bal - amount\n",
    "        \n",
    "    def __str__(self):\n",
    "        return f'The account number {self.acc_no} belongs to {self.name} and the balance in the account is ${self.bal}'"
   ]
  },
  {
   "cell_type": "code",
   "execution_count": null,
   "id": "f35fa730",
   "metadata": {},
   "outputs": [],
   "source": [
    "sav1 = SavingsAccount()\n",
    "curr1 = CurrentAccount()"
   ]
  },
  {
   "cell_type": "code",
   "execution_count": null,
   "id": "a4eb0b19",
   "metadata": {},
   "outputs": [],
   "source": []
  },
  {
   "cell_type": "code",
   "execution_count": 53,
   "id": "603e52d8",
   "metadata": {},
   "outputs": [],
   "source": [
    "class Account:\n",
    "    def __init__(self, name, accountnum, balance):  #constructor\n",
    "        self.name = name\n",
    "        self.bal = balance\n",
    "        self.acc_no = accountnum\n",
    "        \n",
    "    def deposit(self, amount):\n",
    "        if amount > 0:\n",
    "            self.bal = self.bal + amount\n",
    "        else:\n",
    "            print('Please try with a value greater than 0.')\n",
    "    \n",
    "    def withdraw(self, amount):\n",
    "        if amount > 0 and amount <= self.bal:\n",
    "            self.bal = self.bal - amount\n",
    "        \n",
    "    def __str__(self):\n",
    "        return f'The account number {self.acc_no} belongs to {self.name} and the balance in the account is ${self.bal}'\n",
    "    \n",
    "class SavingsAccount(Account):\n",
    "    pass\n",
    "\n",
    "class CurrentAccount(Account):\n",
    "    pass"
   ]
  },
  {
   "cell_type": "code",
   "execution_count": 55,
   "id": "750150ef",
   "metadata": {},
   "outputs": [],
   "source": [
    "sav1 = SavingsAccount('Joseph', 667, 90000)\n",
    "curr1 = CurrentAccount('Priya', 900, 77600)"
   ]
  },
  {
   "cell_type": "code",
   "execution_count": 56,
   "id": "357e0ab7",
   "metadata": {},
   "outputs": [
    {
     "data": {
      "text/plain": [
       "90000"
      ]
     },
     "execution_count": 56,
     "metadata": {},
     "output_type": "execute_result"
    }
   ],
   "source": [
    "sav1.bal"
   ]
  },
  {
   "cell_type": "code",
   "execution_count": 57,
   "id": "920b0b6a",
   "metadata": {},
   "outputs": [
    {
     "data": {
      "text/plain": [
       "77600"
      ]
     },
     "execution_count": 57,
     "metadata": {},
     "output_type": "execute_result"
    }
   ],
   "source": [
    "curr1.bal"
   ]
  },
  {
   "cell_type": "code",
   "execution_count": 58,
   "id": "ce7d2ba5",
   "metadata": {},
   "outputs": [],
   "source": [
    "sav1.deposit(10000)"
   ]
  },
  {
   "cell_type": "code",
   "execution_count": 59,
   "id": "6160718c",
   "metadata": {},
   "outputs": [
    {
     "data": {
      "text/plain": [
       "100000"
      ]
     },
     "execution_count": 59,
     "metadata": {},
     "output_type": "execute_result"
    }
   ],
   "source": [
    "sav1.bal"
   ]
  },
  {
   "cell_type": "code",
   "execution_count": 104,
   "id": "bc48890c",
   "metadata": {},
   "outputs": [],
   "source": [
    "class Account:\n",
    "    def __init__(self, name, accountnum, balance):  #constructor\n",
    "        self.name = name\n",
    "        self.bal = balance\n",
    "        self.acc_no = accountnum\n",
    "        self.maxtrans = 2\n",
    "        \n",
    "    def deposit(self, amount):\n",
    "        if amount > 0:\n",
    "            self.bal = self.bal + amount\n",
    "        else:\n",
    "            print('Please try with a value greater than 0.')\n",
    "    \n",
    "    def withdraw(self, amount):\n",
    "        if amount > 0 and amount <= self.bal:\n",
    "            self.bal = self.bal - amount\n",
    "        \n",
    "    def __str__(self):\n",
    "        return f'The account number {self.acc_no} belongs to {self.name} and the balance in the account is ${self.bal}'\n",
    "    \n",
    "class SavingsAccount(Account):\n",
    "    pass\n",
    "\n",
    "class CurrentAccount(Account):\n",
    "    def __init__(self, name, accountnum, balance, gender):\n",
    "        super().__init__(name, accountnum, balance) #give me access to the parent init also\n",
    "        self.gender = gender\n",
    "        self.maxtrans = 5\n",
    "        \n",
    "    def check_balance(self):\n",
    "        return self.bal"
   ]
  },
  {
   "cell_type": "code",
   "execution_count": 105,
   "id": "9c5d68e5",
   "metadata": {},
   "outputs": [],
   "source": [
    "sav1 = SavingsAccount('Joseph', 667, 90000)\n",
    "curr1 = CurrentAccount('Priya', 900, 77600, 'Female')"
   ]
  },
  {
   "cell_type": "code",
   "execution_count": 106,
   "id": "09ac8e6b",
   "metadata": {},
   "outputs": [
    {
     "data": {
      "text/plain": [
       "77600"
      ]
     },
     "execution_count": 106,
     "metadata": {},
     "output_type": "execute_result"
    }
   ],
   "source": [
    "curr1.check_balance()"
   ]
  },
  {
   "cell_type": "code",
   "execution_count": 107,
   "id": "21d0cf1c",
   "metadata": {},
   "outputs": [],
   "source": [
    "sav1.deposit(2000)\n",
    "sav1.deposit(2000)\n",
    "sav1.deposit(2000)\n",
    "sav1.deposit(2000)\n",
    "sav1.deposit(2000)\n",
    "sav1.deposit(2000)"
   ]
  },
  {
   "cell_type": "code",
   "execution_count": 108,
   "id": "53444692",
   "metadata": {},
   "outputs": [
    {
     "data": {
      "text/plain": [
       "102000"
      ]
     },
     "execution_count": 108,
     "metadata": {},
     "output_type": "execute_result"
    }
   ],
   "source": [
    "sav1.bal"
   ]
  },
  {
   "cell_type": "code",
   "execution_count": null,
   "id": "5a830da5",
   "metadata": {},
   "outputs": [],
   "source": []
  },
  {
   "cell_type": "code",
   "execution_count": 114,
   "id": "695c00fa",
   "metadata": {},
   "outputs": [],
   "source": [
    "class Account:\n",
    "    def __init__(self, name, accountnum, balance):  #constructor\n",
    "        self.name = name\n",
    "        self.bal = balance\n",
    "        self.acc_no = accountnum\n",
    "        self.numtrans = 0\n",
    "        self.maxtrans = 2\n",
    "        \n",
    "    def deposit(self, amount):\n",
    "        if amount > 0 and self.numtrans < self.maxtrans:\n",
    "            self.bal = self.bal + amount\n",
    "            self.numtrans = self.numtrans + 1\n",
    "    \n",
    "    def withdraw(self, amount):\n",
    "        if amount > 0 and amount <= self.bal and self.numtrans < self.maxtrans:\n",
    "            self.bal = self.bal - amount\n",
    "            self.numtrans = self.numtrans + 1\n",
    "        \n",
    "    def __str__(self):\n",
    "        return f'The account number {self.acc_no} belongs to {self.name} and the balance in the account is ${self.bal}'\n",
    "    \n",
    "class SavingsAccount(Account):\n",
    "    pass\n",
    "\n",
    "class CurrentAccount(Account):\n",
    "    def __init__(self, name, accountnum, balance, gender):\n",
    "        super().__init__(name, accountnum, balance) #give me access to the parent init also\n",
    "        self.gender = gender\n",
    "        self.maxtrans = 5"
   ]
  },
  {
   "cell_type": "code",
   "execution_count": 115,
   "id": "9d3695c5",
   "metadata": {},
   "outputs": [],
   "source": [
    "sav1 = SavingsAccount('Joseph', 667, 90000)\n",
    "curr1 = CurrentAccount('Priya', 900, 77600, 'Female')"
   ]
  },
  {
   "cell_type": "code",
   "execution_count": 116,
   "id": "5bb95044",
   "metadata": {},
   "outputs": [],
   "source": [
    "sav1.withdraw(1000)"
   ]
  },
  {
   "cell_type": "code",
   "execution_count": 117,
   "id": "b0a75f24",
   "metadata": {},
   "outputs": [],
   "source": [
    "sav1.deposit(5000)"
   ]
  },
  {
   "cell_type": "code",
   "execution_count": 118,
   "id": "69f39ad5",
   "metadata": {},
   "outputs": [
    {
     "data": {
      "text/plain": [
       "94000"
      ]
     },
     "execution_count": 118,
     "metadata": {},
     "output_type": "execute_result"
    }
   ],
   "source": [
    "sav1.bal"
   ]
  },
  {
   "cell_type": "code",
   "execution_count": 119,
   "id": "79af11de",
   "metadata": {},
   "outputs": [],
   "source": [
    "sav1.deposit(5000)  #3rd transaction"
   ]
  },
  {
   "cell_type": "code",
   "execution_count": 120,
   "id": "f6b27650",
   "metadata": {},
   "outputs": [
    {
     "data": {
      "text/plain": [
       "94000"
      ]
     },
     "execution_count": 120,
     "metadata": {},
     "output_type": "execute_result"
    }
   ],
   "source": [
    "sav1.bal"
   ]
  },
  {
   "cell_type": "code",
   "execution_count": 121,
   "id": "a25b4bda",
   "metadata": {},
   "outputs": [
    {
     "data": {
      "text/plain": [
       "77600"
      ]
     },
     "execution_count": 121,
     "metadata": {},
     "output_type": "execute_result"
    }
   ],
   "source": [
    "curr1.bal"
   ]
  },
  {
   "cell_type": "code",
   "execution_count": 122,
   "id": "a16d4a11",
   "metadata": {},
   "outputs": [],
   "source": [
    "curr1.deposit(2000)\n",
    "curr1.deposit(2000)\n",
    "curr1.deposit(2000)\n",
    "curr1.deposit(2000)\n",
    "curr1.deposit(2000)"
   ]
  },
  {
   "cell_type": "code",
   "execution_count": 123,
   "id": "cfd65e11",
   "metadata": {},
   "outputs": [
    {
     "data": {
      "text/plain": [
       "87600"
      ]
     },
     "execution_count": 123,
     "metadata": {},
     "output_type": "execute_result"
    }
   ],
   "source": [
    "curr1.bal"
   ]
  },
  {
   "cell_type": "code",
   "execution_count": 124,
   "id": "2c25c709",
   "metadata": {},
   "outputs": [],
   "source": [
    "curr1.deposit(2000)"
   ]
  },
  {
   "cell_type": "code",
   "execution_count": 125,
   "id": "2e16d6d9",
   "metadata": {},
   "outputs": [
    {
     "data": {
      "text/plain": [
       "87600"
      ]
     },
     "execution_count": 125,
     "metadata": {},
     "output_type": "execute_result"
    }
   ],
   "source": [
    "curr1.bal"
   ]
  },
  {
   "cell_type": "markdown",
   "id": "775b3022",
   "metadata": {},
   "source": [
    "### Polymorphism"
   ]
  },
  {
   "cell_type": "code",
   "execution_count": 126,
   "id": "cb82d0a6",
   "metadata": {},
   "outputs": [],
   "source": [
    "class Account:\n",
    "    def __init__(self, name, accountnum, balance):  #constructor\n",
    "        self.name = name\n",
    "        self.bal = balance\n",
    "        self.acc_no = accountnum\n",
    "        self.numtrans = 0\n",
    "        self.maxtrans = 2\n",
    "        \n",
    "    def deposit(self, amount):\n",
    "        if amount > 0 and self.numtrans < self.maxtrans:\n",
    "            self.bal = self.bal + amount\n",
    "            self.numtrans = self.numtrans + 1\n",
    "    \n",
    "    def withdraw(self, amount):\n",
    "        if amount > 0 and amount <= self.bal and self.numtrans < self.maxtrans:\n",
    "            self.bal = self.bal - amount\n",
    "            self.numtrans = self.numtrans + 1\n",
    "        \n",
    "    def __str__(self):\n",
    "        return f'The account number {self.acc_no} belongs to {self.name} and the balance in the account is ${self.bal}'\n",
    "    \n",
    "class SavingsAccount(Account):\n",
    "    def getInterest(self):\n",
    "        interest = self.bal * 0.04\n",
    "        return interest\n",
    "\n",
    "class CurrentAccount(Account):\n",
    "    def __init__(self, name, accountnum, balance, gender):\n",
    "        super().__init__(name, accountnum, balance) #give me access to the parent init also\n",
    "        self.gender = gender\n",
    "        self.maxtrans = 5\n",
    "        \n",
    "    def getInterest(self):\n",
    "        interest = self.bal * 0\n",
    "        return interest"
   ]
  },
  {
   "cell_type": "code",
   "execution_count": 127,
   "id": "0f9e75c9",
   "metadata": {},
   "outputs": [],
   "source": [
    "sav1 = SavingsAccount('Joseph', 667, 90000)\n",
    "curr1 = CurrentAccount('Priya', 900, 77600, 'Female')"
   ]
  },
  {
   "cell_type": "code",
   "execution_count": 129,
   "id": "1093a3c4",
   "metadata": {},
   "outputs": [
    {
     "data": {
      "text/plain": [
       "3600.0"
      ]
     },
     "execution_count": 129,
     "metadata": {},
     "output_type": "execute_result"
    }
   ],
   "source": [
    "sav1.getInterest()"
   ]
  },
  {
   "cell_type": "code",
   "execution_count": 130,
   "id": "00f706af",
   "metadata": {},
   "outputs": [
    {
     "data": {
      "text/plain": [
       "0"
      ]
     },
     "execution_count": 130,
     "metadata": {},
     "output_type": "execute_result"
    }
   ],
   "source": [
    "curr1.getInterest()"
   ]
  },
  {
   "cell_type": "markdown",
   "id": "204b01fa",
   "metadata": {},
   "source": [
    "### Encapsulation\n",
    "\n",
    "We have three access modifiers in python:\n",
    "1. Public Member\n",
    "2. Private Member\n",
    "3. Protected member"
   ]
  },
  {
   "cell_type": "code",
   "execution_count": 151,
   "id": "694e7bd7",
   "metadata": {},
   "outputs": [],
   "source": [
    "class Car:\n",
    "    def __init__(self, name, color, top_speed, price):\n",
    "        self.name = name\n",
    "        self.color = color\n",
    "        self._speed = top_speed\n",
    "        self.__price = price\n",
    "        \n",
    "    def set_speed(self, value):\n",
    "        self._speed = value"
   ]
  },
  {
   "cell_type": "code",
   "execution_count": 153,
   "id": "3dda8f59",
   "metadata": {},
   "outputs": [],
   "source": [
    "ford = Car('Endeavour', 'Black', 250, 100000)"
   ]
  },
  {
   "cell_type": "code",
   "execution_count": 141,
   "id": "f0e2e635",
   "metadata": {},
   "outputs": [],
   "source": [
    "ford.name = 'Fiesta'"
   ]
  },
  {
   "cell_type": "code",
   "execution_count": 138,
   "id": "2e014918",
   "metadata": {},
   "outputs": [
    {
     "data": {
      "text/plain": [
       "'Fiesta'"
      ]
     },
     "execution_count": 138,
     "metadata": {},
     "output_type": "execute_result"
    }
   ],
   "source": [
    "ford.name"
   ]
  },
  {
   "cell_type": "code",
   "execution_count": 148,
   "id": "630afe61",
   "metadata": {},
   "outputs": [
    {
     "data": {
      "text/plain": [
       "250"
      ]
     },
     "execution_count": 148,
     "metadata": {},
     "output_type": "execute_result"
    }
   ],
   "source": [
    "ford._speed = 300"
   ]
  },
  {
   "cell_type": "code",
   "execution_count": 154,
   "id": "5b14c934",
   "metadata": {},
   "outputs": [],
   "source": [
    "ford.set_speed(300)"
   ]
  },
  {
   "cell_type": "code",
   "execution_count": 155,
   "id": "08b0c5fc",
   "metadata": {},
   "outputs": [
    {
     "data": {
      "text/plain": [
       "300"
      ]
     },
     "execution_count": 155,
     "metadata": {},
     "output_type": "execute_result"
    }
   ],
   "source": [
    "ford._speed"
   ]
  },
  {
   "cell_type": "code",
   "execution_count": 149,
   "id": "1a2b160f",
   "metadata": {},
   "outputs": [
    {
     "ename": "AttributeError",
     "evalue": "'Car' object has no attribute '__price'",
     "output_type": "error",
     "traceback": [
      "\u001b[1;31m---------------------------------------------------------------------------\u001b[0m",
      "\u001b[1;31mAttributeError\u001b[0m                            Traceback (most recent call last)",
      "\u001b[1;32m<ipython-input-149-063eba5400ed>\u001b[0m in \u001b[0;36m<module>\u001b[1;34m\u001b[0m\n\u001b[1;32m----> 1\u001b[1;33m \u001b[0mford\u001b[0m\u001b[1;33m.\u001b[0m\u001b[0m__price\u001b[0m\u001b[1;33m\u001b[0m\u001b[1;33m\u001b[0m\u001b[0m\n\u001b[0m",
      "\u001b[1;31mAttributeError\u001b[0m: 'Car' object has no attribute '__price'"
     ]
    }
   ],
   "source": [
    "ford.__price"
   ]
  },
  {
   "cell_type": "code",
   "execution_count": null,
   "id": "e3243a61",
   "metadata": {},
   "outputs": [],
   "source": []
  }
 ],
 "metadata": {
  "kernelspec": {
   "display_name": "Python 3",
   "language": "python",
   "name": "python3"
  },
  "language_info": {
   "codemirror_mode": {
    "name": "ipython",
    "version": 3
   },
   "file_extension": ".py",
   "mimetype": "text/x-python",
   "name": "python",
   "nbconvert_exporter": "python",
   "pygments_lexer": "ipython3",
   "version": "3.8.8"
  }
 },
 "nbformat": 4,
 "nbformat_minor": 5
}
