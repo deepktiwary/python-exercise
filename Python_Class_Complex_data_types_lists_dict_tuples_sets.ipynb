{
 "cells": [
  {
   "cell_type": "code",
   "execution_count": 2,
   "id": "0e8cfa1f",
   "metadata": {},
   "outputs": [
    {
     "name": "stdout",
     "output_type": "stream",
     "text": [
      "Hi Boss\n"
     ]
    }
   ],
   "source": [
    "print('Hi Boss')"
   ]
  },
  {
   "cell_type": "code",
   "execution_count": 166,
   "id": "15ffd777",
   "metadata": {},
   "outputs": [],
   "source": [
    "list1 = [10,20,30,40,50,60,70]"
   ]
  },
  {
   "cell_type": "code",
   "execution_count": 4,
   "id": "9071921a",
   "metadata": {},
   "outputs": [
    {
     "data": {
      "text/plain": [
       "40"
      ]
     },
     "execution_count": 4,
     "metadata": {},
     "output_type": "execute_result"
    }
   ],
   "source": [
    "list1[3]"
   ]
  },
  {
   "cell_type": "code",
   "execution_count": 5,
   "id": "5aa73b50",
   "metadata": {},
   "outputs": [
    {
     "data": {
      "text/plain": [
       "[20, 30, 40]"
      ]
     },
     "execution_count": 5,
     "metadata": {},
     "output_type": "execute_result"
    }
   ],
   "source": [
    "list1[1:4]"
   ]
  },
  {
   "cell_type": "code",
   "execution_count": 6,
   "id": "e738a471",
   "metadata": {},
   "outputs": [
    {
     "data": {
      "text/plain": [
       "[60, 70]"
      ]
     },
     "execution_count": 6,
     "metadata": {},
     "output_type": "execute_result"
    }
   ],
   "source": [
    "list1[5:7]"
   ]
  },
  {
   "cell_type": "code",
   "execution_count": 7,
   "id": "16c76eee",
   "metadata": {},
   "outputs": [
    {
     "data": {
      "text/plain": [
       "[10, 30, 50, 70]"
      ]
     },
     "execution_count": 7,
     "metadata": {},
     "output_type": "execute_result"
    }
   ],
   "source": [
    "list1[0:7:2]"
   ]
  },
  {
   "cell_type": "code",
   "execution_count": 8,
   "id": "e5a723fb",
   "metadata": {},
   "outputs": [],
   "source": [
    "list1[2] = 88"
   ]
  },
  {
   "cell_type": "code",
   "execution_count": 9,
   "id": "8c38fdb2",
   "metadata": {},
   "outputs": [
    {
     "data": {
      "text/plain": [
       "88"
      ]
     },
     "execution_count": 9,
     "metadata": {},
     "output_type": "execute_result"
    }
   ],
   "source": [
    "list1[2]"
   ]
  },
  {
   "cell_type": "code",
   "execution_count": 10,
   "id": "5744ce01",
   "metadata": {},
   "outputs": [],
   "source": [
    "list1[3:5] = 100,200"
   ]
  },
  {
   "cell_type": "code",
   "execution_count": 11,
   "id": "ea554c6b",
   "metadata": {},
   "outputs": [
    {
     "data": {
      "text/plain": [
       "list[1]"
      ]
     },
     "execution_count": 11,
     "metadata": {},
     "output_type": "execute_result"
    }
   ],
   "source": [
    "list[1]"
   ]
  },
  {
   "cell_type": "code",
   "execution_count": 12,
   "id": "7e8487b9",
   "metadata": {},
   "outputs": [
    {
     "data": {
      "text/plain": [
       "20"
      ]
     },
     "execution_count": 12,
     "metadata": {},
     "output_type": "execute_result"
    }
   ],
   "source": [
    "list1[1]"
   ]
  },
  {
   "cell_type": "code",
   "execution_count": 13,
   "id": "6d96a098",
   "metadata": {},
   "outputs": [
    {
     "data": {
      "text/plain": [
       "[10, 20, 88, 100, 200, 60, 70]"
      ]
     },
     "execution_count": 13,
     "metadata": {},
     "output_type": "execute_result"
    }
   ],
   "source": [
    "list1"
   ]
  },
  {
   "cell_type": "code",
   "execution_count": 14,
   "id": "becc488d",
   "metadata": {},
   "outputs": [],
   "source": [
    "list1.append(300)"
   ]
  },
  {
   "cell_type": "code",
   "execution_count": 15,
   "id": "6a2347d4",
   "metadata": {},
   "outputs": [
    {
     "data": {
      "text/plain": [
       "[10, 20, 88, 100, 200, 60, 70, 300]"
      ]
     },
     "execution_count": 15,
     "metadata": {},
     "output_type": "execute_result"
    }
   ],
   "source": [
    "list1"
   ]
  },
  {
   "cell_type": "code",
   "execution_count": 16,
   "id": "46d61453",
   "metadata": {},
   "outputs": [],
   "source": [
    "list1.extend([12,65,87])"
   ]
  },
  {
   "cell_type": "code",
   "execution_count": 17,
   "id": "0d4cacac",
   "metadata": {},
   "outputs": [
    {
     "data": {
      "text/plain": [
       "[10, 20, 88, 100, 200, 60, 70, 300, 12, 65, 87]"
      ]
     },
     "execution_count": 17,
     "metadata": {},
     "output_type": "execute_result"
    }
   ],
   "source": [
    "list1"
   ]
  },
  {
   "cell_type": "code",
   "execution_count": 18,
   "id": "2a071f5f",
   "metadata": {},
   "outputs": [],
   "source": [
    "list1.insert(3, 78)"
   ]
  },
  {
   "cell_type": "code",
   "execution_count": 19,
   "id": "52db4afb",
   "metadata": {},
   "outputs": [
    {
     "data": {
      "text/plain": [
       "[10, 20, 88, 78, 100, 200, 60, 70, 300, 12, 65, 87]"
      ]
     },
     "execution_count": 19,
     "metadata": {},
     "output_type": "execute_result"
    }
   ],
   "source": [
    "list1"
   ]
  },
  {
   "cell_type": "code",
   "execution_count": 20,
   "id": "f820ce7e",
   "metadata": {},
   "outputs": [
    {
     "data": {
      "text/plain": [
       "100"
      ]
     },
     "execution_count": 20,
     "metadata": {},
     "output_type": "execute_result"
    }
   ],
   "source": [
    "list1.pop(4)"
   ]
  },
  {
   "cell_type": "code",
   "execution_count": 21,
   "id": "cb1b8974",
   "metadata": {},
   "outputs": [
    {
     "data": {
      "text/plain": [
       "[10, 20, 88, 78, 200, 60, 70, 300, 12, 65, 87]"
      ]
     },
     "execution_count": 21,
     "metadata": {},
     "output_type": "execute_result"
    }
   ],
   "source": [
    "list1"
   ]
  },
  {
   "cell_type": "code",
   "execution_count": 22,
   "id": "cf5b9396",
   "metadata": {},
   "outputs": [],
   "source": [
    "list1.remove(200)"
   ]
  },
  {
   "cell_type": "code",
   "execution_count": 23,
   "id": "d4dc5203",
   "metadata": {},
   "outputs": [
    {
     "data": {
      "text/plain": [
       "[10, 20, 88, 78, 60, 70, 300, 12, 65, 87]"
      ]
     },
     "execution_count": 23,
     "metadata": {},
     "output_type": "execute_result"
    }
   ],
   "source": [
    "list1"
   ]
  },
  {
   "cell_type": "code",
   "execution_count": 24,
   "id": "1c834cf7",
   "metadata": {},
   "outputs": [],
   "source": [
    "list_copy = list1.copy()"
   ]
  },
  {
   "cell_type": "code",
   "execution_count": 25,
   "id": "9a49b415",
   "metadata": {},
   "outputs": [
    {
     "data": {
      "text/plain": [
       "[10, 20, 88, 78, 60, 70, 300, 12, 65, 87]"
      ]
     },
     "execution_count": 25,
     "metadata": {},
     "output_type": "execute_result"
    }
   ],
   "source": [
    "list_copy"
   ]
  },
  {
   "cell_type": "code",
   "execution_count": 26,
   "id": "83cab3ec",
   "metadata": {},
   "outputs": [],
   "source": [
    "list1.sort()"
   ]
  },
  {
   "cell_type": "code",
   "execution_count": 27,
   "id": "d624460c",
   "metadata": {},
   "outputs": [
    {
     "data": {
      "text/plain": [
       "[10, 12, 20, 60, 65, 70, 78, 87, 88, 300]"
      ]
     },
     "execution_count": 27,
     "metadata": {},
     "output_type": "execute_result"
    }
   ],
   "source": [
    "list1"
   ]
  },
  {
   "cell_type": "code",
   "execution_count": 28,
   "id": "74d84aad",
   "metadata": {},
   "outputs": [],
   "source": [
    "list1.sort(reverse=True)"
   ]
  },
  {
   "cell_type": "code",
   "execution_count": 29,
   "id": "68370efa",
   "metadata": {},
   "outputs": [
    {
     "data": {
      "text/plain": [
       "[300, 88, 87, 78, 70, 65, 60, 20, 12, 10]"
      ]
     },
     "execution_count": 29,
     "metadata": {},
     "output_type": "execute_result"
    }
   ],
   "source": [
    "list1"
   ]
  },
  {
   "cell_type": "code",
   "execution_count": 30,
   "id": "199cb767",
   "metadata": {},
   "outputs": [],
   "source": [
    "list_copy.reverse()"
   ]
  },
  {
   "cell_type": "code",
   "execution_count": 31,
   "id": "b6900df3",
   "metadata": {},
   "outputs": [
    {
     "data": {
      "text/plain": [
       "[87, 65, 12, 300, 70, 60, 78, 88, 20, 10]"
      ]
     },
     "execution_count": 31,
     "metadata": {},
     "output_type": "execute_result"
    }
   ],
   "source": [
    "list_copy"
   ]
  },
  {
   "cell_type": "code",
   "execution_count": 32,
   "id": "98c48a5d",
   "metadata": {},
   "outputs": [
    {
     "data": {
      "text/plain": [
       "10"
      ]
     },
     "execution_count": 32,
     "metadata": {},
     "output_type": "execute_result"
    }
   ],
   "source": [
    "len(list1)"
   ]
  },
  {
   "cell_type": "code",
   "execution_count": 33,
   "id": "54d04089",
   "metadata": {},
   "outputs": [
    {
     "data": {
      "text/plain": [
       "1"
      ]
     },
     "execution_count": 33,
     "metadata": {},
     "output_type": "execute_result"
    }
   ],
   "source": [
    "list1.count(300)"
   ]
  },
  {
   "cell_type": "code",
   "execution_count": 34,
   "id": "4b4a8ca1",
   "metadata": {},
   "outputs": [
    {
     "data": {
      "text/plain": [
       "10"
      ]
     },
     "execution_count": 34,
     "metadata": {},
     "output_type": "execute_result"
    }
   ],
   "source": [
    "min(list1)"
   ]
  },
  {
   "cell_type": "code",
   "execution_count": 35,
   "id": "98dcb7be",
   "metadata": {},
   "outputs": [
    {
     "data": {
      "text/plain": [
       "300"
      ]
     },
     "execution_count": 35,
     "metadata": {},
     "output_type": "execute_result"
    }
   ],
   "source": [
    "max(list1)"
   ]
  },
  {
   "cell_type": "code",
   "execution_count": 36,
   "id": "c022d225",
   "metadata": {},
   "outputs": [
    {
     "data": {
      "text/plain": [
       "790"
      ]
     },
     "execution_count": 36,
     "metadata": {},
     "output_type": "execute_result"
    }
   ],
   "source": [
    "sum(list1)"
   ]
  },
  {
   "cell_type": "code",
   "execution_count": 37,
   "id": "21dccc24",
   "metadata": {},
   "outputs": [],
   "source": [
    "list2 = [10, 20, 80.9, 55.6, 'Python', 'Data science']"
   ]
  },
  {
   "cell_type": "code",
   "execution_count": 38,
   "id": "2a3b0276",
   "metadata": {},
   "outputs": [
    {
     "data": {
      "text/plain": [
       "1"
      ]
     },
     "execution_count": 38,
     "metadata": {},
     "output_type": "execute_result"
    }
   ],
   "source": [
    "list2.count('Python')"
   ]
  },
  {
   "cell_type": "code",
   "execution_count": 39,
   "id": "175ebae9",
   "metadata": {},
   "outputs": [
    {
     "data": {
      "text/plain": [
       "[300, 88, 87, 78, 70, 65, 60, 20, 12, 10]"
      ]
     },
     "execution_count": 39,
     "metadata": {},
     "output_type": "execute_result"
    }
   ],
   "source": [
    "list1"
   ]
  },
  {
   "cell_type": "code",
   "execution_count": 40,
   "id": "86953d82",
   "metadata": {},
   "outputs": [
    {
     "data": {
      "text/plain": [
       "1"
      ]
     },
     "execution_count": 40,
     "metadata": {},
     "output_type": "execute_result"
    }
   ],
   "source": [
    "list1.index(88)"
   ]
  },
  {
   "cell_type": "code",
   "execution_count": 41,
   "id": "7e393e8d",
   "metadata": {},
   "outputs": [
    {
     "data": {
      "text/plain": [
       "4"
      ]
     },
     "execution_count": 41,
     "metadata": {},
     "output_type": "execute_result"
    }
   ],
   "source": [
    "list2.index('Python')"
   ]
  },
  {
   "cell_type": "code",
   "execution_count": 42,
   "id": "d05a35d8",
   "metadata": {},
   "outputs": [],
   "source": [
    "tuple1 = ()"
   ]
  },
  {
   "cell_type": "code",
   "execution_count": 43,
   "id": "111589cc",
   "metadata": {},
   "outputs": [],
   "source": [
    "tuple2 = (12, 67, 89, 34, 98, 10, 55, 76)"
   ]
  },
  {
   "cell_type": "code",
   "execution_count": 44,
   "id": "0e65dcdb",
   "metadata": {},
   "outputs": [],
   "source": [
    "tuple3 = (34, 65, 90.3, 88.4, 'Python', 'Java')"
   ]
  },
  {
   "cell_type": "code",
   "execution_count": 45,
   "id": "00c367e7",
   "metadata": {},
   "outputs": [],
   "source": [
    "tuple4 = 10,"
   ]
  },
  {
   "cell_type": "code",
   "execution_count": 46,
   "id": "74abe1f5",
   "metadata": {},
   "outputs": [],
   "source": [
    "tuple5 = 12, 24, 32"
   ]
  },
  {
   "cell_type": "code",
   "execution_count": 47,
   "id": "fc187d9b",
   "metadata": {},
   "outputs": [
    {
     "data": {
      "text/plain": [
       "5"
      ]
     },
     "execution_count": 47,
     "metadata": {},
     "output_type": "execute_result"
    }
   ],
   "source": [
    "tuple2.index(10)"
   ]
  },
  {
   "cell_type": "code",
   "execution_count": 48,
   "id": "7175a8f4",
   "metadata": {},
   "outputs": [
    {
     "data": {
      "text/plain": [
       "1"
      ]
     },
     "execution_count": 48,
     "metadata": {},
     "output_type": "execute_result"
    }
   ],
   "source": [
    "tuple2.count(12)"
   ]
  },
  {
   "cell_type": "code",
   "execution_count": 49,
   "id": "ab61141e",
   "metadata": {},
   "outputs": [
    {
     "data": {
      "text/plain": [
       "[10, 12, 34, 55, 67, 76, 89, 98]"
      ]
     },
     "execution_count": 49,
     "metadata": {},
     "output_type": "execute_result"
    }
   ],
   "source": [
    "sorted(tuple2)"
   ]
  },
  {
   "cell_type": "code",
   "execution_count": 50,
   "id": "597fffd5",
   "metadata": {},
   "outputs": [
    {
     "data": {
      "text/plain": [
       "(10, 12, 34, 55, 67, 76, 89, 98)"
      ]
     },
     "execution_count": 50,
     "metadata": {},
     "output_type": "execute_result"
    }
   ],
   "source": [
    "tuple(sorted(tuple2))"
   ]
  },
  {
   "cell_type": "code",
   "execution_count": 51,
   "id": "6c67292c",
   "metadata": {},
   "outputs": [
    {
     "data": {
      "text/plain": [
       "[12, 67, 89, 34, 98, 10, 55, 76]"
      ]
     },
     "execution_count": 51,
     "metadata": {},
     "output_type": "execute_result"
    }
   ],
   "source": [
    "list(tuple2)"
   ]
  },
  {
   "cell_type": "code",
   "execution_count": 52,
   "id": "4269e065",
   "metadata": {},
   "outputs": [
    {
     "data": {
      "text/plain": [
       "98"
      ]
     },
     "execution_count": 52,
     "metadata": {},
     "output_type": "execute_result"
    }
   ],
   "source": [
    "max(tuple2)"
   ]
  },
  {
   "cell_type": "code",
   "execution_count": 53,
   "id": "3e693bc0",
   "metadata": {},
   "outputs": [
    {
     "data": {
      "text/plain": [
       "10"
      ]
     },
     "execution_count": 53,
     "metadata": {},
     "output_type": "execute_result"
    }
   ],
   "source": [
    "min(tuple2)"
   ]
  },
  {
   "cell_type": "code",
   "execution_count": 54,
   "id": "ccc9d294",
   "metadata": {},
   "outputs": [
    {
     "data": {
      "text/plain": [
       "441"
      ]
     },
     "execution_count": 54,
     "metadata": {},
     "output_type": "execute_result"
    }
   ],
   "source": [
    "sum(tuple2)"
   ]
  },
  {
   "cell_type": "code",
   "execution_count": 55,
   "id": "94729346",
   "metadata": {},
   "outputs": [
    {
     "data": {
      "text/plain": [
       "[98, 89, 76, 67, 55, 34, 12, 10]"
      ]
     },
     "execution_count": 55,
     "metadata": {},
     "output_type": "execute_result"
    }
   ],
   "source": [
    "sorted(tuple2, reverse = True)"
   ]
  },
  {
   "cell_type": "code",
   "execution_count": 56,
   "id": "fa890b55",
   "metadata": {},
   "outputs": [
    {
     "name": "stdout",
     "output_type": "stream",
     "text": [
      "98\n",
      "10\n"
     ]
    }
   ],
   "source": [
    "print(max(tuple2))\n",
    "print(min(tuple2))"
   ]
  },
  {
   "cell_type": "code",
   "execution_count": 57,
   "id": "f45b0c80",
   "metadata": {},
   "outputs": [],
   "source": [
    "text1 = 'Python Programming'"
   ]
  },
  {
   "cell_type": "code",
   "execution_count": 58,
   "id": "86e8d0e8",
   "metadata": {},
   "outputs": [
    {
     "data": {
      "text/plain": [
       "'Python Programming'"
      ]
     },
     "execution_count": 58,
     "metadata": {},
     "output_type": "execute_result"
    }
   ],
   "source": [
    "text1"
   ]
  },
  {
   "cell_type": "code",
   "execution_count": 59,
   "id": "89b9994b",
   "metadata": {},
   "outputs": [],
   "source": [
    "text2 = \"Python for Data science\""
   ]
  },
  {
   "cell_type": "code",
   "execution_count": 60,
   "id": "2b014216",
   "metadata": {},
   "outputs": [],
   "source": [
    "text3 = '''\n",
    "Hi\n",
    "I love you\n",
    "Python\n",
    "'''"
   ]
  },
  {
   "cell_type": "code",
   "execution_count": 61,
   "id": "dcf0484f",
   "metadata": {},
   "outputs": [
    {
     "data": {
      "text/plain": [
       "6"
      ]
     },
     "execution_count": 61,
     "metadata": {},
     "output_type": "execute_result"
    }
   ],
   "source": [
    "text3.find('love')"
   ]
  },
  {
   "cell_type": "code",
   "execution_count": 62,
   "id": "0a01b23f",
   "metadata": {},
   "outputs": [
    {
     "data": {
      "text/plain": [
       "-1"
      ]
     },
     "execution_count": 62,
     "metadata": {},
     "output_type": "execute_result"
    }
   ],
   "source": [
    "text3.find('Machine')"
   ]
  },
  {
   "cell_type": "code",
   "execution_count": 63,
   "id": "08bce661",
   "metadata": {},
   "outputs": [
    {
     "data": {
      "text/plain": [
       "'Python'"
      ]
     },
     "execution_count": 63,
     "metadata": {},
     "output_type": "execute_result"
    }
   ],
   "source": [
    "text2[0:6]"
   ]
  },
  {
   "cell_type": "code",
   "execution_count": 64,
   "id": "deb9f89a",
   "metadata": {},
   "outputs": [
    {
     "data": {
      "text/plain": [
       "'n'"
      ]
     },
     "execution_count": 64,
     "metadata": {},
     "output_type": "execute_result"
    }
   ],
   "source": [
    "text1[5]"
   ]
  },
  {
   "cell_type": "code",
   "execution_count": 65,
   "id": "6b13e5b2",
   "metadata": {},
   "outputs": [
    {
     "data": {
      "text/plain": [
       "15"
      ]
     },
     "execution_count": 65,
     "metadata": {},
     "output_type": "execute_result"
    }
   ],
   "source": [
    "text3.index('Python')"
   ]
  },
  {
   "cell_type": "code",
   "execution_count": 66,
   "id": "d37f37ef",
   "metadata": {},
   "outputs": [
    {
     "data": {
      "text/plain": [
       "6"
      ]
     },
     "execution_count": 66,
     "metadata": {},
     "output_type": "execute_result"
    }
   ],
   "source": [
    "len('Python')"
   ]
  },
  {
   "cell_type": "code",
   "execution_count": 67,
   "id": "6b70b7a8",
   "metadata": {},
   "outputs": [
    {
     "data": {
      "text/plain": [
       "'Python'"
      ]
     },
     "execution_count": 67,
     "metadata": {},
     "output_type": "execute_result"
    }
   ],
   "source": [
    "text3[15:21]"
   ]
  },
  {
   "cell_type": "code",
   "execution_count": 68,
   "id": "12fd5f9e",
   "metadata": {},
   "outputs": [
    {
     "data": {
      "text/plain": [
       "'\\nHi\\nI love you\\nJava\\n'"
      ]
     },
     "execution_count": 68,
     "metadata": {},
     "output_type": "execute_result"
    }
   ],
   "source": [
    "text3.replace('Python', 'Java')"
   ]
  },
  {
   "cell_type": "code",
   "execution_count": 69,
   "id": "6a58346e",
   "metadata": {},
   "outputs": [
    {
     "data": {
      "text/plain": [
       "'\\nHi\\nI love you\\nPython\\n'"
      ]
     },
     "execution_count": 69,
     "metadata": {},
     "output_type": "execute_result"
    }
   ],
   "source": [
    "text3"
   ]
  },
  {
   "cell_type": "code",
   "execution_count": 70,
   "id": "007398fc",
   "metadata": {},
   "outputs": [
    {
     "data": {
      "text/plain": [
       "'python programming'"
      ]
     },
     "execution_count": 70,
     "metadata": {},
     "output_type": "execute_result"
    }
   ],
   "source": [
    "text1.lower()"
   ]
  },
  {
   "cell_type": "code",
   "execution_count": 71,
   "id": "27adec47",
   "metadata": {},
   "outputs": [
    {
     "data": {
      "text/plain": [
       "'PYTHON PROGRAMMING'"
      ]
     },
     "execution_count": 71,
     "metadata": {},
     "output_type": "execute_result"
    }
   ],
   "source": [
    "text1.upper()"
   ]
  },
  {
   "cell_type": "code",
   "execution_count": 72,
   "id": "1476872e",
   "metadata": {},
   "outputs": [
    {
     "data": {
      "text/plain": [
       "'Python programming'"
      ]
     },
     "execution_count": 72,
     "metadata": {},
     "output_type": "execute_result"
    }
   ],
   "source": [
    "text1.capitalize()"
   ]
  },
  {
   "cell_type": "code",
   "execution_count": 73,
   "id": "5786a3a7",
   "metadata": {},
   "outputs": [
    {
     "data": {
      "text/plain": [
       "'Python Programming'"
      ]
     },
     "execution_count": 73,
     "metadata": {},
     "output_type": "execute_result"
    }
   ],
   "source": [
    "text1.title()"
   ]
  },
  {
   "cell_type": "code",
   "execution_count": 74,
   "id": "eeb85988",
   "metadata": {},
   "outputs": [
    {
     "data": {
      "text/plain": [
       "'Deepak Tiwary'"
      ]
     },
     "execution_count": 74,
     "metadata": {},
     "output_type": "execute_result"
    }
   ],
   "source": [
    "'    Deepak Tiwary   '.strip()"
   ]
  },
  {
   "cell_type": "code",
   "execution_count": 75,
   "id": "8490fbfd",
   "metadata": {},
   "outputs": [
    {
     "data": {
      "text/plain": [
       "'Deepak Tiwary  '"
      ]
     },
     "execution_count": 75,
     "metadata": {},
     "output_type": "execute_result"
    }
   ],
   "source": [
    "'   Deepak Tiwary  '.lstrip()"
   ]
  },
  {
   "cell_type": "code",
   "execution_count": 76,
   "id": "8508ccaf",
   "metadata": {},
   "outputs": [
    {
     "data": {
      "text/plain": [
       "'   Deepak Tiwary'"
      ]
     },
     "execution_count": 76,
     "metadata": {},
     "output_type": "execute_result"
    }
   ],
   "source": [
    "'   Deepak Tiwary  '.rstrip()"
   ]
  },
  {
   "cell_type": "code",
   "execution_count": 77,
   "id": "d908e478",
   "metadata": {},
   "outputs": [
    {
     "data": {
      "text/plain": [
       "'  Deepak Tiwary '"
      ]
     },
     "execution_count": 77,
     "metadata": {},
     "output_type": "execute_result"
    }
   ],
   "source": [
    "'   Deepak  Tiwary  '.replace('  ',' ')"
   ]
  },
  {
   "cell_type": "code",
   "execution_count": 78,
   "id": "8c607c32",
   "metadata": {},
   "outputs": [
    {
     "data": {
      "text/plain": [
       "'Deepak Tiwary'"
      ]
     },
     "execution_count": 78,
     "metadata": {},
     "output_type": "execute_result"
    }
   ],
   "source": [
    "'   Deepak  Tiwary  '.replace('  ',' ').strip()"
   ]
  },
  {
   "cell_type": "code",
   "execution_count": 79,
   "id": "32c1c31a",
   "metadata": {},
   "outputs": [
    {
     "data": {
      "text/plain": [
       "['Hi', 'I', 'love', 'you', 'Python']"
      ]
     },
     "execution_count": 79,
     "metadata": {},
     "output_type": "execute_result"
    }
   ],
   "source": [
    "text3.split()"
   ]
  },
  {
   "cell_type": "code",
   "execution_count": 80,
   "id": "8d557992",
   "metadata": {},
   "outputs": [
    {
     "data": {
      "text/plain": [
       "'\\nHi\\nI love you\\nPython\\n'"
      ]
     },
     "execution_count": 80,
     "metadata": {},
     "output_type": "execute_result"
    }
   ],
   "source": [
    "text3"
   ]
  },
  {
   "cell_type": "code",
   "execution_count": 81,
   "id": "b857d461",
   "metadata": {},
   "outputs": [
    {
     "name": "stdout",
     "output_type": "stream",
     "text": [
      "Please enter your name: Deepak\n"
     ]
    }
   ],
   "source": [
    "name = input(\"Please enter your name: \")"
   ]
  },
  {
   "cell_type": "code",
   "execution_count": 82,
   "id": "5fb8be50",
   "metadata": {},
   "outputs": [
    {
     "data": {
      "text/plain": [
       "'Deepak'"
      ]
     },
     "execution_count": 82,
     "metadata": {},
     "output_type": "execute_result"
    }
   ],
   "source": [
    "name"
   ]
  },
  {
   "cell_type": "code",
   "execution_count": 83,
   "id": "b37c83e1",
   "metadata": {},
   "outputs": [
    {
     "name": "stdout",
     "output_type": "stream",
     "text": [
      "Enter your age: 12\n"
     ]
    }
   ],
   "source": [
    "age = input(\"Enter your age: \")"
   ]
  },
  {
   "cell_type": "code",
   "execution_count": 84,
   "id": "cf3f4515",
   "metadata": {},
   "outputs": [
    {
     "data": {
      "text/plain": [
       "'12'"
      ]
     },
     "execution_count": 84,
     "metadata": {},
     "output_type": "execute_result"
    }
   ],
   "source": [
    "age"
   ]
  },
  {
   "cell_type": "code",
   "execution_count": 85,
   "id": "04dcf390",
   "metadata": {},
   "outputs": [
    {
     "name": "stdout",
     "output_type": "stream",
     "text": [
      "Enter your age: 13\n"
     ]
    }
   ],
   "source": [
    "age1 = int(input(\"Enter your age: \"))"
   ]
  },
  {
   "cell_type": "code",
   "execution_count": 86,
   "id": "bf2497f1",
   "metadata": {},
   "outputs": [
    {
     "data": {
      "text/plain": [
       "13"
      ]
     },
     "execution_count": 86,
     "metadata": {},
     "output_type": "execute_result"
    }
   ],
   "source": [
    "age1"
   ]
  },
  {
   "cell_type": "code",
   "execution_count": 87,
   "id": "29c72414",
   "metadata": {},
   "outputs": [
    {
     "name": "stdout",
     "output_type": "stream",
     "text": [
      "Please enter your name: dert\n"
     ]
    }
   ],
   "source": [
    "name1 = input(\"Please enter your name: \").title()"
   ]
  },
  {
   "cell_type": "code",
   "execution_count": 88,
   "id": "85c591ed",
   "metadata": {},
   "outputs": [
    {
     "data": {
      "text/plain": [
       "'Dert'"
      ]
     },
     "execution_count": 88,
     "metadata": {},
     "output_type": "execute_result"
    }
   ],
   "source": [
    "name1"
   ]
  },
  {
   "cell_type": "code",
   "execution_count": 89,
   "id": "7acae874",
   "metadata": {},
   "outputs": [
    {
     "name": "stdout",
     "output_type": "stream",
     "text": [
      "Enter you name: yhj\n"
     ]
    }
   ],
   "source": [
    "name = input(\"Enter you name: \")"
   ]
  },
  {
   "cell_type": "code",
   "execution_count": 90,
   "id": "aff1be51",
   "metadata": {},
   "outputs": [
    {
     "name": "stdout",
     "output_type": "stream",
     "text": [
      "Enter age: 67\n"
     ]
    }
   ],
   "source": [
    "age = input(\"Enter age: \")"
   ]
  },
  {
   "cell_type": "code",
   "execution_count": 91,
   "id": "854991e6",
   "metadata": {},
   "outputs": [
    {
     "name": "stdout",
     "output_type": "stream",
     "text": [
      "profession: jgg\n"
     ]
    }
   ],
   "source": [
    "profession = input(\"profession: \")"
   ]
  },
  {
   "cell_type": "code",
   "execution_count": 92,
   "id": "5c6d6910",
   "metadata": {},
   "outputs": [
    {
     "name": "stdout",
     "output_type": "stream",
     "text": [
      "My name is Deepak. My Age is 32. I am a Software Engineer. I am a Data Engineer too. I have also worked as Data Scientist\n"
     ]
    }
   ],
   "source": [
    "print('''My name is Deepak. My Age is 32. I am a Software Engineer. I am a Data Engineer too. I have also worked as Data Scientist''')"
   ]
  },
  {
   "cell_type": "code",
   "execution_count": 93,
   "id": "2acb4d23",
   "metadata": {},
   "outputs": [
    {
     "name": "stdout",
     "output_type": "stream",
     "text": [
      "My name is yhj. My Age is 67. I am a jgg. I am a Data Engineer too. I have also worked as Data Scientist\n"
     ]
    }
   ],
   "source": [
    "print(f'''My name is {name}. My Age is {age}. I am a {profession}. I am a Data Engineer too. I have also worked as Data Scientist''')"
   ]
  },
  {
   "cell_type": "code",
   "execution_count": 94,
   "id": "18be8dc8",
   "metadata": {},
   "outputs": [],
   "source": [
    "set1 = {10, 10, 20, 20, 30, 30, 30, 40, 50}"
   ]
  },
  {
   "cell_type": "code",
   "execution_count": 95,
   "id": "54d843f5",
   "metadata": {},
   "outputs": [
    {
     "data": {
      "text/plain": [
       "{10, 20, 30, 40, 50}"
      ]
     },
     "execution_count": 95,
     "metadata": {},
     "output_type": "execute_result"
    }
   ],
   "source": [
    "set1"
   ]
  },
  {
   "cell_type": "code",
   "execution_count": 96,
   "id": "30024b10",
   "metadata": {},
   "outputs": [
    {
     "name": "stdout",
     "output_type": "stream",
     "text": [
      "{50, 20, 40, 10, 30}\n"
     ]
    }
   ],
   "source": [
    "print(set1)"
   ]
  },
  {
   "cell_type": "code",
   "execution_count": 97,
   "id": "bda6078d",
   "metadata": {},
   "outputs": [
    {
     "name": "stdout",
     "output_type": "stream",
     "text": [
      "{50, 20, 40, 10, 30}\n"
     ]
    }
   ],
   "source": [
    "print(set1)"
   ]
  },
  {
   "cell_type": "code",
   "execution_count": 98,
   "id": "2b407234",
   "metadata": {},
   "outputs": [],
   "source": [
    "list5 = [10, 10, 20, 20, 30, 30, 30, 40, 50]"
   ]
  },
  {
   "cell_type": "code",
   "execution_count": 99,
   "id": "ceb083f2",
   "metadata": {},
   "outputs": [
    {
     "data": {
      "text/plain": [
       "[40, 10, 50, 20, 30]"
      ]
     },
     "execution_count": 99,
     "metadata": {},
     "output_type": "execute_result"
    }
   ],
   "source": [
    "list(set(list5))"
   ]
  },
  {
   "cell_type": "code",
   "execution_count": 100,
   "id": "2158d3db",
   "metadata": {},
   "outputs": [
    {
     "data": {
      "text/plain": [
       "{10, 20, 30, 40, 50}"
      ]
     },
     "execution_count": 100,
     "metadata": {},
     "output_type": "execute_result"
    }
   ],
   "source": [
    "set1"
   ]
  },
  {
   "cell_type": "code",
   "execution_count": 101,
   "id": "eefa055f",
   "metadata": {},
   "outputs": [
    {
     "data": {
      "text/plain": [
       "{10, 20, 30, 40, 50}"
      ]
     },
     "execution_count": 101,
     "metadata": {},
     "output_type": "execute_result"
    }
   ],
   "source": [
    "set1"
   ]
  },
  {
   "cell_type": "code",
   "execution_count": 102,
   "id": "fb74e094",
   "metadata": {},
   "outputs": [],
   "source": [
    "set1.add(13)"
   ]
  },
  {
   "cell_type": "code",
   "execution_count": 103,
   "id": "d5cef2f0",
   "metadata": {},
   "outputs": [
    {
     "data": {
      "text/plain": [
       "{10, 13, 20, 30, 40, 50}"
      ]
     },
     "execution_count": 103,
     "metadata": {},
     "output_type": "execute_result"
    }
   ],
   "source": [
    "set1"
   ]
  },
  {
   "cell_type": "code",
   "execution_count": 104,
   "id": "f9401ae7",
   "metadata": {},
   "outputs": [],
   "source": [
    "set1.add(124)"
   ]
  },
  {
   "cell_type": "code",
   "execution_count": 105,
   "id": "d71ed917",
   "metadata": {},
   "outputs": [
    {
     "data": {
      "text/plain": [
       "{10, 13, 20, 30, 40, 50, 124}"
      ]
     },
     "execution_count": 105,
     "metadata": {},
     "output_type": "execute_result"
    }
   ],
   "source": [
    "set1"
   ]
  },
  {
   "cell_type": "code",
   "execution_count": 106,
   "id": "03b5068c",
   "metadata": {},
   "outputs": [],
   "source": [
    "set1.update({66, 31, 99, 43})"
   ]
  },
  {
   "cell_type": "code",
   "execution_count": 107,
   "id": "d263cd5d",
   "metadata": {},
   "outputs": [
    {
     "data": {
      "text/plain": [
       "{10, 13, 20, 30, 31, 40, 43, 50, 66, 99, 124}"
      ]
     },
     "execution_count": 107,
     "metadata": {},
     "output_type": "execute_result"
    }
   ],
   "source": [
    "set1"
   ]
  },
  {
   "cell_type": "code",
   "execution_count": 108,
   "id": "764d7667",
   "metadata": {},
   "outputs": [
    {
     "data": {
      "text/plain": [
       "66"
      ]
     },
     "execution_count": 108,
     "metadata": {},
     "output_type": "execute_result"
    }
   ],
   "source": [
    "set1.pop()"
   ]
  },
  {
   "cell_type": "code",
   "execution_count": 109,
   "id": "1c09463a",
   "metadata": {},
   "outputs": [
    {
     "data": {
      "text/plain": [
       "{10, 13, 20, 30, 31, 40, 43, 50, 99, 124}"
      ]
     },
     "execution_count": 109,
     "metadata": {},
     "output_type": "execute_result"
    }
   ],
   "source": [
    "set1"
   ]
  },
  {
   "cell_type": "code",
   "execution_count": 110,
   "id": "891fa8e1",
   "metadata": {},
   "outputs": [],
   "source": [
    "set1.remove(124)"
   ]
  },
  {
   "cell_type": "code",
   "execution_count": 111,
   "id": "1bcdcb3d",
   "metadata": {},
   "outputs": [
    {
     "data": {
      "text/plain": [
       "{10, 13, 20, 30, 31, 40, 43, 50, 99}"
      ]
     },
     "execution_count": 111,
     "metadata": {},
     "output_type": "execute_result"
    }
   ],
   "source": [
    "set1"
   ]
  },
  {
   "cell_type": "code",
   "execution_count": 113,
   "id": "3253b17c",
   "metadata": {},
   "outputs": [],
   "source": [
    "set1.discard(20)"
   ]
  },
  {
   "cell_type": "code",
   "execution_count": 114,
   "id": "340b212b",
   "metadata": {},
   "outputs": [
    {
     "data": {
      "text/plain": [
       "{10, 13, 30, 31, 40, 43, 50, 99}"
      ]
     },
     "execution_count": 114,
     "metadata": {},
     "output_type": "execute_result"
    }
   ],
   "source": [
    "set1"
   ]
  },
  {
   "cell_type": "code",
   "execution_count": 115,
   "id": "80c06c30",
   "metadata": {},
   "outputs": [
    {
     "ename": "KeyError",
     "evalue": "999",
     "output_type": "error",
     "traceback": [
      "\u001b[1;31m---------------------------------------------------------------------------\u001b[0m",
      "\u001b[1;31mKeyError\u001b[0m                                  Traceback (most recent call last)",
      "Cell \u001b[1;32mIn[115], line 1\u001b[0m\n\u001b[1;32m----> 1\u001b[0m set1\u001b[38;5;241m.\u001b[39mremove(\u001b[38;5;241m999\u001b[39m)\n",
      "\u001b[1;31mKeyError\u001b[0m: 999"
     ]
    }
   ],
   "source": [
    "set1.remove(999)"
   ]
  },
  {
   "cell_type": "code",
   "execution_count": 116,
   "id": "f48d76d9",
   "metadata": {},
   "outputs": [],
   "source": [
    "set1.discard(999)"
   ]
  },
  {
   "cell_type": "code",
   "execution_count": 117,
   "id": "c1fa5504",
   "metadata": {},
   "outputs": [
    {
     "data": {
      "text/plain": [
       "{10, 13, 30, 31, 40, 43, 50, 99}"
      ]
     },
     "execution_count": 117,
     "metadata": {},
     "output_type": "execute_result"
    }
   ],
   "source": [
    "set1"
   ]
  },
  {
   "cell_type": "code",
   "execution_count": 118,
   "id": "df8268c0",
   "metadata": {},
   "outputs": [],
   "source": [
    "set2 = {10, 20, 30, 40, 50, 60, 70, 80}"
   ]
  },
  {
   "cell_type": "code",
   "execution_count": 119,
   "id": "02c0701f",
   "metadata": {},
   "outputs": [],
   "source": [
    "set3 = {60, 70, 80, 90, 100, 110, 120, 130}"
   ]
  },
  {
   "cell_type": "code",
   "execution_count": 120,
   "id": "49a5f06a",
   "metadata": {},
   "outputs": [
    {
     "data": {
      "text/plain": [
       "{10, 20, 30, 40, 50, 60, 70, 80, 90, 100, 110, 120, 130}"
      ]
     },
     "execution_count": 120,
     "metadata": {},
     "output_type": "execute_result"
    }
   ],
   "source": [
    "new_set = set2.union(set3)"
   ]
  },
  {
   "cell_type": "code",
   "execution_count": 121,
   "id": "4335ef40",
   "metadata": {},
   "outputs": [
    {
     "data": {
      "text/plain": [
       "{60, 70, 80}"
      ]
     },
     "execution_count": 121,
     "metadata": {},
     "output_type": "execute_result"
    }
   ],
   "source": [
    "set2.intersection(set3)"
   ]
  },
  {
   "cell_type": "code",
   "execution_count": 122,
   "id": "b21387df",
   "metadata": {},
   "outputs": [
    {
     "data": {
      "text/plain": [
       "{10, 20, 30, 40, 50}"
      ]
     },
     "execution_count": 122,
     "metadata": {},
     "output_type": "execute_result"
    }
   ],
   "source": [
    "set2.difference(set3)"
   ]
  },
  {
   "cell_type": "code",
   "execution_count": 123,
   "id": "25078c4d",
   "metadata": {},
   "outputs": [
    {
     "data": {
      "text/plain": [
       "{90, 100, 110, 120, 130}"
      ]
     },
     "execution_count": 123,
     "metadata": {},
     "output_type": "execute_result"
    }
   ],
   "source": [
    "set3.difference(set2)"
   ]
  },
  {
   "cell_type": "code",
   "execution_count": 124,
   "id": "97fd45b9",
   "metadata": {},
   "outputs": [
    {
     "data": {
      "text/plain": [
       "{10, 20, 30, 40, 50, 90, 100, 110, 120, 130}"
      ]
     },
     "execution_count": 124,
     "metadata": {},
     "output_type": "execute_result"
    }
   ],
   "source": [
    "set2.symmetric_difference(set3)"
   ]
  },
  {
   "cell_type": "code",
   "execution_count": 125,
   "id": "55e50e5d",
   "metadata": {},
   "outputs": [],
   "source": [
    "profile = {'Virat', 32, 'New Delhi', 'Cricketer', 'Workout' }"
   ]
  },
  {
   "cell_type": "code",
   "execution_count": 126,
   "id": "4d0cecd7",
   "metadata": {},
   "outputs": [],
   "source": [
    "profile_dict = {'Name': 'Virat', 'Age': 32, 'Place': 'New Delhi', 'Profession': 'Cricketer', 'Hobby': 'Workout' }"
   ]
  },
  {
   "cell_type": "code",
   "execution_count": 127,
   "id": "f13d1506",
   "metadata": {},
   "outputs": [
    {
     "data": {
      "text/plain": [
       "{'Name': 'Virat',\n",
       " 'Age': 32,\n",
       " 'Place': 'New Delhi',\n",
       " 'Profession': 'Cricketer',\n",
       " 'Hobby': 'Workout'}"
      ]
     },
     "execution_count": 127,
     "metadata": {},
     "output_type": "execute_result"
    }
   ],
   "source": [
    "profile_dict"
   ]
  },
  {
   "cell_type": "code",
   "execution_count": 129,
   "id": "59c67b53",
   "metadata": {},
   "outputs": [
    {
     "data": {
      "text/plain": [
       "'Cricketer'"
      ]
     },
     "execution_count": 129,
     "metadata": {},
     "output_type": "execute_result"
    }
   ],
   "source": [
    "profile_dict['Profession']"
   ]
  },
  {
   "cell_type": "code",
   "execution_count": 130,
   "id": "e698984c",
   "metadata": {},
   "outputs": [
    {
     "data": {
      "text/plain": [
       "'Workout'"
      ]
     },
     "execution_count": 130,
     "metadata": {},
     "output_type": "execute_result"
    }
   ],
   "source": [
    "profile_dict['Hobby']"
   ]
  },
  {
   "cell_type": "code",
   "execution_count": 131,
   "id": "7a8c09ae",
   "metadata": {},
   "outputs": [],
   "source": [
    "profile_dict['Hobby'] = 'Singing'"
   ]
  },
  {
   "cell_type": "code",
   "execution_count": 132,
   "id": "b12f5800",
   "metadata": {},
   "outputs": [
    {
     "data": {
      "text/plain": [
       "{'Name': 'Virat',\n",
       " 'Age': 32,\n",
       " 'Place': 'New Delhi',\n",
       " 'Profession': 'Cricketer',\n",
       " 'Hobby': 'Singing'}"
      ]
     },
     "execution_count": 132,
     "metadata": {},
     "output_type": "execute_result"
    }
   ],
   "source": [
    "profile_dict"
   ]
  },
  {
   "cell_type": "code",
   "execution_count": 133,
   "id": "72e0ef20",
   "metadata": {},
   "outputs": [],
   "source": [
    "demo_dict = {1 : 'Python', 2: 89.98, 3: ['Maths', 'Science'], 'key4': ('Abc', 'bgh'), 5: {1: 2, 2: 3, 3: 4} }"
   ]
  },
  {
   "cell_type": "code",
   "execution_count": 134,
   "id": "0ca9f15e",
   "metadata": {},
   "outputs": [
    {
     "data": {
      "text/plain": [
       "{1: 'Python',\n",
       " 2: 89.98,\n",
       " 3: ['Maths', 'Science'],\n",
       " 'key4': ('Abc', 'bgh'),\n",
       " 5: {1: 2, 2: 3, 3: 4}}"
      ]
     },
     "execution_count": 134,
     "metadata": {},
     "output_type": "execute_result"
    }
   ],
   "source": [
    "demo_dict"
   ]
  },
  {
   "cell_type": "code",
   "execution_count": 135,
   "id": "b39b4127",
   "metadata": {},
   "outputs": [
    {
     "data": {
      "text/plain": [
       "{1: 2, 2: 3, 3: 4}"
      ]
     },
     "execution_count": 135,
     "metadata": {},
     "output_type": "execute_result"
    }
   ],
   "source": [
    "demo_dict[5]"
   ]
  },
  {
   "cell_type": "code",
   "execution_count": 136,
   "id": "8ba62ba2",
   "metadata": {},
   "outputs": [
    {
     "data": {
      "text/plain": [
       "('Abc', 'bgh')"
      ]
     },
     "execution_count": 136,
     "metadata": {},
     "output_type": "execute_result"
    }
   ],
   "source": [
    "demo_dict['key4']"
   ]
  },
  {
   "cell_type": "code",
   "execution_count": 137,
   "id": "4e9242ac",
   "metadata": {},
   "outputs": [
    {
     "data": {
      "text/plain": [
       "89.98"
      ]
     },
     "execution_count": 137,
     "metadata": {},
     "output_type": "execute_result"
    }
   ],
   "source": [
    "demo_dict[2]"
   ]
  },
  {
   "cell_type": "code",
   "execution_count": 138,
   "id": "4133f189",
   "metadata": {},
   "outputs": [
    {
     "data": {
      "text/plain": [
       "2"
      ]
     },
     "execution_count": 138,
     "metadata": {},
     "output_type": "execute_result"
    }
   ],
   "source": [
    "demo_dict[5][1]"
   ]
  },
  {
   "cell_type": "code",
   "execution_count": 139,
   "id": "7fdda5cc",
   "metadata": {},
   "outputs": [
    {
     "data": {
      "text/plain": [
       "'Science'"
      ]
     },
     "execution_count": 139,
     "metadata": {},
     "output_type": "execute_result"
    }
   ],
   "source": [
    "demo_dict[3][1]"
   ]
  },
  {
   "cell_type": "code",
   "execution_count": 140,
   "id": "2e02cebe",
   "metadata": {},
   "outputs": [
    {
     "data": {
      "text/plain": [
       "{'Name': 'Virat',\n",
       " 'Age': 32,\n",
       " 'Place': 'New Delhi',\n",
       " 'Profession': 'Cricketer',\n",
       " 'Hobby': 'Singing'}"
      ]
     },
     "execution_count": 140,
     "metadata": {},
     "output_type": "execute_result"
    }
   ],
   "source": [
    "profile_dict"
   ]
  },
  {
   "cell_type": "code",
   "execution_count": 141,
   "id": "c449eb21",
   "metadata": {},
   "outputs": [],
   "source": [
    "profile_dict['Education'] = ['Masters', 'Bachelors']"
   ]
  },
  {
   "cell_type": "code",
   "execution_count": 142,
   "id": "3d8d8b67",
   "metadata": {},
   "outputs": [
    {
     "data": {
      "text/plain": [
       "{'Name': 'Virat',\n",
       " 'Age': 32,\n",
       " 'Place': 'New Delhi',\n",
       " 'Profession': 'Cricketer',\n",
       " 'Hobby': 'Singing',\n",
       " 'Education': ['Masters', 'Bachelors']}"
      ]
     },
     "execution_count": 142,
     "metadata": {},
     "output_type": "execute_result"
    }
   ],
   "source": [
    "profile_dict"
   ]
  },
  {
   "cell_type": "code",
   "execution_count": 143,
   "id": "2e4ee2be",
   "metadata": {},
   "outputs": [
    {
     "data": {
      "text/plain": [
       "['Masters', 'Bachelors']"
      ]
     },
     "execution_count": 143,
     "metadata": {},
     "output_type": "execute_result"
    }
   ],
   "source": [
    "profile_dict.pop('Education')"
   ]
  },
  {
   "cell_type": "code",
   "execution_count": 144,
   "id": "f0457f16",
   "metadata": {},
   "outputs": [
    {
     "data": {
      "text/plain": [
       "{'Name': 'Virat',\n",
       " 'Age': 32,\n",
       " 'Place': 'New Delhi',\n",
       " 'Profession': 'Cricketer',\n",
       " 'Hobby': 'Singing'}"
      ]
     },
     "execution_count": 144,
     "metadata": {},
     "output_type": "execute_result"
    }
   ],
   "source": [
    "profile_dict"
   ]
  },
  {
   "cell_type": "code",
   "execution_count": 148,
   "id": "644d0c67",
   "metadata": {},
   "outputs": [
    {
     "data": {
      "text/plain": [
       "{1: 'Python',\n",
       " 2: 89.98,\n",
       " 3: ['Maths', 'Science'],\n",
       " 'key4': ('Abc', 'bgh'),\n",
       " 5: {1: 2, 2: 3, 3: 4}}"
      ]
     },
     "execution_count": 148,
     "metadata": {},
     "output_type": "execute_result"
    }
   ],
   "source": [
    "demo_dict"
   ]
  },
  {
   "cell_type": "code",
   "execution_count": 150,
   "id": "8542864a",
   "metadata": {},
   "outputs": [
    {
     "data": {
      "text/plain": [
       "{1: 2, 2: 3, 3: 4}"
      ]
     },
     "execution_count": 150,
     "metadata": {},
     "output_type": "execute_result"
    }
   ],
   "source": [
    "demo_dict[5]"
   ]
  },
  {
   "cell_type": "code",
   "execution_count": 151,
   "id": "f7cfefac",
   "metadata": {},
   "outputs": [
    {
     "data": {
      "text/plain": [
       "2"
      ]
     },
     "execution_count": 151,
     "metadata": {},
     "output_type": "execute_result"
    }
   ],
   "source": [
    "demo_dict[5].pop(1)"
   ]
  },
  {
   "cell_type": "code",
   "execution_count": 152,
   "id": "c9209e0b",
   "metadata": {},
   "outputs": [
    {
     "data": {
      "text/plain": [
       "{1: 'Python',\n",
       " 2: 89.98,\n",
       " 3: ['Maths', 'Science'],\n",
       " 'key4': ('Abc', 'bgh'),\n",
       " 5: {2: 3, 3: 4}}"
      ]
     },
     "execution_count": 152,
     "metadata": {},
     "output_type": "execute_result"
    }
   ],
   "source": [
    "demo_dict"
   ]
  },
  {
   "cell_type": "code",
   "execution_count": 153,
   "id": "e53acf4b",
   "metadata": {},
   "outputs": [],
   "source": [
    "demo_dict[3].remove('Maths')"
   ]
  },
  {
   "cell_type": "code",
   "execution_count": 154,
   "id": "88ebafa8",
   "metadata": {},
   "outputs": [
    {
     "data": {
      "text/plain": [
       "{1: 'Python',\n",
       " 2: 89.98,\n",
       " 3: ['Science'],\n",
       " 'key4': ('Abc', 'bgh'),\n",
       " 5: {2: 3, 3: 4}}"
      ]
     },
     "execution_count": 154,
     "metadata": {},
     "output_type": "execute_result"
    }
   ],
   "source": [
    "demo_dict"
   ]
  },
  {
   "cell_type": "code",
   "execution_count": 155,
   "id": "0564280d",
   "metadata": {},
   "outputs": [
    {
     "data": {
      "text/plain": [
       "'Science'"
      ]
     },
     "execution_count": 155,
     "metadata": {},
     "output_type": "execute_result"
    }
   ],
   "source": [
    "demo_dict[3].pop(0)"
   ]
  },
  {
   "cell_type": "code",
   "execution_count": 156,
   "id": "7fc65dde",
   "metadata": {},
   "outputs": [
    {
     "data": {
      "text/plain": [
       "{1: 'Python', 2: 89.98, 3: [], 'key4': ('Abc', 'bgh'), 5: {2: 3, 3: 4}}"
      ]
     },
     "execution_count": 156,
     "metadata": {},
     "output_type": "execute_result"
    }
   ],
   "source": [
    "demo_dict"
   ]
  },
  {
   "cell_type": "code",
   "execution_count": 157,
   "id": "f1c98ff6",
   "metadata": {},
   "outputs": [
    {
     "data": {
      "text/plain": [
       "{32, 'Cricketer', 'New Delhi', 'Virat', 'Workout'}"
      ]
     },
     "execution_count": 157,
     "metadata": {},
     "output_type": "execute_result"
    }
   ],
   "source": [
    "profile"
   ]
  },
  {
   "cell_type": "code",
   "execution_count": 158,
   "id": "f1a1a236",
   "metadata": {},
   "outputs": [
    {
     "data": {
      "text/plain": [
       "{'Name': 'Virat',\n",
       " 'Age': 32,\n",
       " 'Place': 'New Delhi',\n",
       " 'Profession': 'Cricketer',\n",
       " 'Hobby': 'Singing'}"
      ]
     },
     "execution_count": 158,
     "metadata": {},
     "output_type": "execute_result"
    }
   ],
   "source": [
    "profile_dict"
   ]
  },
  {
   "cell_type": "code",
   "execution_count": 159,
   "id": "fde456a1",
   "metadata": {},
   "outputs": [],
   "source": [
    "profile_dict_copy = profile_dict.copy()"
   ]
  },
  {
   "cell_type": "code",
   "execution_count": 160,
   "id": "024f7745",
   "metadata": {},
   "outputs": [
    {
     "data": {
      "text/plain": [
       "{'Name': 'Virat',\n",
       " 'Age': 32,\n",
       " 'Place': 'New Delhi',\n",
       " 'Profession': 'Cricketer',\n",
       " 'Hobby': 'Singing'}"
      ]
     },
     "execution_count": 160,
     "metadata": {},
     "output_type": "execute_result"
    }
   ],
   "source": [
    "profile_dict_copy"
   ]
  },
  {
   "cell_type": "code",
   "execution_count": 161,
   "id": "532afdf8",
   "metadata": {},
   "outputs": [
    {
     "data": {
      "text/plain": [
       "dict_keys(['Name', 'Age', 'Place', 'Profession', 'Hobby'])"
      ]
     },
     "execution_count": 161,
     "metadata": {},
     "output_type": "execute_result"
    }
   ],
   "source": [
    "profile_dict.keys()"
   ]
  },
  {
   "cell_type": "code",
   "execution_count": 162,
   "id": "04e96c11",
   "metadata": {},
   "outputs": [
    {
     "data": {
      "text/plain": [
       "dict_values(['Virat', 32, 'New Delhi', 'Cricketer', 'Singing'])"
      ]
     },
     "execution_count": 162,
     "metadata": {},
     "output_type": "execute_result"
    }
   ],
   "source": [
    "profile_dict.values()"
   ]
  },
  {
   "cell_type": "code",
   "execution_count": 164,
   "id": "a3ac1114",
   "metadata": {},
   "outputs": [],
   "source": [
    "list6 = []"
   ]
  },
  {
   "cell_type": "code",
   "execution_count": 167,
   "id": "93d39199",
   "metadata": {},
   "outputs": [
    {
     "data": {
      "text/plain": [
       "[10, 20, 30, 40, 50, 60, 70]"
      ]
     },
     "execution_count": 167,
     "metadata": {},
     "output_type": "execute_result"
    }
   ],
   "source": [
    "list1"
   ]
  },
  {
   "cell_type": "code",
   "execution_count": 168,
   "id": "71906ff3",
   "metadata": {},
   "outputs": [
    {
     "data": {
      "text/plain": [
       "['__add__',\n",
       " '__class__',\n",
       " '__class_getitem__',\n",
       " '__contains__',\n",
       " '__delattr__',\n",
       " '__delitem__',\n",
       " '__dir__',\n",
       " '__doc__',\n",
       " '__eq__',\n",
       " '__format__',\n",
       " '__ge__',\n",
       " '__getattribute__',\n",
       " '__getitem__',\n",
       " '__getstate__',\n",
       " '__gt__',\n",
       " '__hash__',\n",
       " '__iadd__',\n",
       " '__imul__',\n",
       " '__init__',\n",
       " '__init_subclass__',\n",
       " '__iter__',\n",
       " '__le__',\n",
       " '__len__',\n",
       " '__lt__',\n",
       " '__mul__',\n",
       " '__ne__',\n",
       " '__new__',\n",
       " '__reduce__',\n",
       " '__reduce_ex__',\n",
       " '__repr__',\n",
       " '__reversed__',\n",
       " '__rmul__',\n",
       " '__setattr__',\n",
       " '__setitem__',\n",
       " '__sizeof__',\n",
       " '__str__',\n",
       " '__subclasshook__',\n",
       " 'append',\n",
       " 'clear',\n",
       " 'copy',\n",
       " 'count',\n",
       " 'extend',\n",
       " 'index',\n",
       " 'insert',\n",
       " 'pop',\n",
       " 'remove',\n",
       " 'reverse',\n",
       " 'sort']"
      ]
     },
     "execution_count": 168,
     "metadata": {},
     "output_type": "execute_result"
    }
   ],
   "source": [
    "dir(list1)"
   ]
  },
  {
   "cell_type": "code",
   "execution_count": 171,
   "id": "ad7ebced",
   "metadata": {},
   "outputs": [],
   "source": [
    "set6 = {1,2}"
   ]
  },
  {
   "cell_type": "code",
   "execution_count": 172,
   "id": "52625cee",
   "metadata": {},
   "outputs": [
    {
     "data": {
      "text/plain": [
       "['__and__',\n",
       " '__class__',\n",
       " '__class_getitem__',\n",
       " '__contains__',\n",
       " '__delattr__',\n",
       " '__dir__',\n",
       " '__doc__',\n",
       " '__eq__',\n",
       " '__format__',\n",
       " '__ge__',\n",
       " '__getattribute__',\n",
       " '__getstate__',\n",
       " '__gt__',\n",
       " '__hash__',\n",
       " '__iand__',\n",
       " '__init__',\n",
       " '__init_subclass__',\n",
       " '__ior__',\n",
       " '__isub__',\n",
       " '__iter__',\n",
       " '__ixor__',\n",
       " '__le__',\n",
       " '__len__',\n",
       " '__lt__',\n",
       " '__ne__',\n",
       " '__new__',\n",
       " '__or__',\n",
       " '__rand__',\n",
       " '__reduce__',\n",
       " '__reduce_ex__',\n",
       " '__repr__',\n",
       " '__ror__',\n",
       " '__rsub__',\n",
       " '__rxor__',\n",
       " '__setattr__',\n",
       " '__sizeof__',\n",
       " '__str__',\n",
       " '__sub__',\n",
       " '__subclasshook__',\n",
       " '__xor__',\n",
       " 'add',\n",
       " 'clear',\n",
       " 'copy',\n",
       " 'difference',\n",
       " 'difference_update',\n",
       " 'discard',\n",
       " 'intersection',\n",
       " 'intersection_update',\n",
       " 'isdisjoint',\n",
       " 'issubset',\n",
       " 'issuperset',\n",
       " 'pop',\n",
       " 'remove',\n",
       " 'symmetric_difference',\n",
       " 'symmetric_difference_update',\n",
       " 'union',\n",
       " 'update']"
      ]
     },
     "execution_count": 172,
     "metadata": {},
     "output_type": "execute_result"
    }
   ],
   "source": [
    "dir(set6)"
   ]
  },
  {
   "cell_type": "code",
   "execution_count": 173,
   "id": "e2267370",
   "metadata": {},
   "outputs": [
    {
     "data": {
      "text/plain": [
       "['__class__',\n",
       " '__class_getitem__',\n",
       " '__contains__',\n",
       " '__delattr__',\n",
       " '__delitem__',\n",
       " '__dir__',\n",
       " '__doc__',\n",
       " '__eq__',\n",
       " '__format__',\n",
       " '__ge__',\n",
       " '__getattribute__',\n",
       " '__getitem__',\n",
       " '__getstate__',\n",
       " '__gt__',\n",
       " '__hash__',\n",
       " '__init__',\n",
       " '__init_subclass__',\n",
       " '__ior__',\n",
       " '__iter__',\n",
       " '__le__',\n",
       " '__len__',\n",
       " '__lt__',\n",
       " '__ne__',\n",
       " '__new__',\n",
       " '__or__',\n",
       " '__reduce__',\n",
       " '__reduce_ex__',\n",
       " '__repr__',\n",
       " '__reversed__',\n",
       " '__ror__',\n",
       " '__setattr__',\n",
       " '__setitem__',\n",
       " '__sizeof__',\n",
       " '__str__',\n",
       " '__subclasshook__',\n",
       " 'clear',\n",
       " 'copy',\n",
       " 'fromkeys',\n",
       " 'get',\n",
       " 'items',\n",
       " 'keys',\n",
       " 'pop',\n",
       " 'popitem',\n",
       " 'setdefault',\n",
       " 'update',\n",
       " 'values']"
      ]
     },
     "execution_count": 173,
     "metadata": {},
     "output_type": "execute_result"
    }
   ],
   "source": [
    "dir(profile_dict)"
   ]
  }
 ],
 "metadata": {
  "kernelspec": {
   "display_name": "Python 3 (ipykernel)",
   "language": "python",
   "name": "python3"
  },
  "language_info": {
   "codemirror_mode": {
    "name": "ipython",
    "version": 3
   },
   "file_extension": ".py",
   "mimetype": "text/x-python",
   "name": "python",
   "nbconvert_exporter": "python",
   "pygments_lexer": "ipython3",
   "version": "3.11.5"
  }
 },
 "nbformat": 4,
 "nbformat_minor": 5
}
