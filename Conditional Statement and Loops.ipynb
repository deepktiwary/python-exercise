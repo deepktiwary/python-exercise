{
 "cells": [
  {
   "cell_type": "code",
   "execution_count": 1,
   "id": "f4b6ae06",
   "metadata": {},
   "outputs": [
    {
     "name": "stdout",
     "output_type": "stream",
     "text": [
      "Enter Your Marks: 34\n",
      "Pass\n",
      "Fail\n"
     ]
    }
   ],
   "source": [
    "marks = int (input(\"Enter Your Marks: \"))\n",
    "\n",
    "print(\"Pass\")\n",
    "print(\"Fail\")"
   ]
  },
  {
   "cell_type": "code",
   "execution_count": 2,
   "id": "d15fa2d8",
   "metadata": {},
   "outputs": [
    {
     "name": "stdout",
     "output_type": "stream",
     "text": [
      "Enter Your Marks: -90\n",
      "Fail\n"
     ]
    }
   ],
   "source": [
    "marks = int (input(\"Enter Your Marks: \"))\n",
    "if marks<35:\n",
    "    print(\"Fail\")\n",
    "else:\n",
    "    print(\"Pass\")"
   ]
  },
  {
   "cell_type": "code",
   "execution_count": 3,
   "id": "f65f363c",
   "metadata": {},
   "outputs": [
    {
     "name": "stdout",
     "output_type": "stream",
     "text": [
      "Enter Your Marks: -90\n",
      "Pass\n"
     ]
    }
   ],
   "source": [
    "marks = int (input(\"Enter Your Marks: \"))\n",
    "if marks>0 and marks<35:\n",
    "    print(\"Fail\")\n",
    "else:\n",
    "    print(\"Pass\")"
   ]
  },
  {
   "cell_type": "code",
   "execution_count": 7,
   "id": "8b93b05f",
   "metadata": {},
   "outputs": [
    {
     "name": "stdout",
     "output_type": "stream",
     "text": [
      "Enter Your Marks: -90\n",
      "Invalid\n"
     ]
    }
   ],
   "source": [
    "marks = int (input(\"Enter Your Marks: \"))\n",
    "if marks>0 and marks<35:\n",
    "    print(\"Fail\")\n",
    "elif marks<0 or marks>100:\n",
    "    print(\"Invalid\")\n",
    "else:\n",
    "    print(\"Pass\")"
   ]
  },
  {
   "cell_type": "code",
   "execution_count": 8,
   "id": "056a0ed6",
   "metadata": {},
   "outputs": [
    {
     "name": "stdout",
     "output_type": "stream",
     "text": [
      "Enter Your Marks: -90\n",
      "Invalid\n"
     ]
    }
   ],
   "source": [
    "marks = int (input(\"Enter Your Marks: \"))\n",
    "if marks>=0 and marks<=100:\n",
    "    if marks>=0 or marks<35:\n",
    "        print(\"fail\")\n",
    "    else:\n",
    "        print(\"Pass\")\n",
    "else:\n",
    "    print(\"Invalid\")"
   ]
  },
  {
   "cell_type": "code",
   "execution_count": 9,
   "id": "81bc3a9a",
   "metadata": {},
   "outputs": [],
   "source": [
    "word = 'Python Programming'"
   ]
  },
  {
   "cell_type": "code",
   "execution_count": 11,
   "id": "fe5182d7",
   "metadata": {},
   "outputs": [
    {
     "name": "stdout",
     "output_type": "stream",
     "text": [
      "Hello P\n",
      "Hello y\n",
      "Hello t\n",
      "Hello h\n",
      "Hello o\n",
      "Hello n\n",
      "Hello  \n",
      "Hello P\n",
      "Hello r\n",
      "Hello o\n",
      "Hello g\n",
      "Hello r\n",
      "Hello a\n",
      "Hello m\n",
      "Hello m\n",
      "Hello i\n",
      "Hello n\n",
      "Hello g\n"
     ]
    }
   ],
   "source": [
    "for values in word:\n",
    "    print(f\"Hello {values}\")"
   ]
  },
  {
   "cell_type": "code",
   "execution_count": 13,
   "id": "6704d3fc",
   "metadata": {},
   "outputs": [
    {
     "name": "stdout",
     "output_type": "stream",
     "text": [
      "Hello\n",
      "Hello\n",
      "Hello\n",
      "Hello\n",
      "Hello\n",
      "Hello\n",
      "Hello\n",
      "Hello\n",
      "Hello\n",
      "Hello\n"
     ]
    }
   ],
   "source": [
    "for value in range(10):\n",
    "    print(\"Hello\")"
   ]
  },
  {
   "cell_type": "code",
   "execution_count": 14,
   "id": "7ee6dd21",
   "metadata": {},
   "outputs": [
    {
     "data": {
      "text/plain": [
       "[0, 1, 2, 3, 4, 5, 6, 7, 8, 9]"
      ]
     },
     "execution_count": 14,
     "metadata": {},
     "output_type": "execute_result"
    }
   ],
   "source": [
    "list(range(10))"
   ]
  },
  {
   "cell_type": "code",
   "execution_count": 15,
   "id": "0d112a41",
   "metadata": {},
   "outputs": [
    {
     "data": {
      "text/plain": [
       "(10, 20, 30, 40, 50, 60, 70, 80, 90, 100)"
      ]
     },
     "execution_count": 15,
     "metadata": {},
     "output_type": "execute_result"
    }
   ],
   "source": [
    "tuple(range(10, 101, 10))"
   ]
  },
  {
   "cell_type": "code",
   "execution_count": 16,
   "id": "65ba8015",
   "metadata": {},
   "outputs": [
    {
     "data": {
      "text/plain": [
       "{10, 20, 30, 40, 50, 60, 70, 80, 90, 100}"
      ]
     },
     "execution_count": 16,
     "metadata": {},
     "output_type": "execute_result"
    }
   ],
   "source": [
    "set(range(10, 101, 10))"
   ]
  },
  {
   "cell_type": "code",
   "execution_count": 17,
   "id": "43978775",
   "metadata": {},
   "outputs": [
    {
     "data": {
      "text/plain": [
       "1"
      ]
     },
     "execution_count": 17,
     "metadata": {},
     "output_type": "execute_result"
    }
   ],
   "source": [
    "7%2"
   ]
  },
  {
   "cell_type": "code",
   "execution_count": 20,
   "id": "9210f12e",
   "metadata": {},
   "outputs": [],
   "source": [
    "numbers = list(range(1,21))"
   ]
  },
  {
   "cell_type": "code",
   "execution_count": 21,
   "id": "79cbb9ad",
   "metadata": {},
   "outputs": [
    {
     "data": {
      "text/plain": [
       "[1, 2, 3, 4, 5, 6, 7, 8, 9, 10, 11, 12, 13, 14, 15, 16, 17, 18, 19, 20]"
      ]
     },
     "execution_count": 21,
     "metadata": {},
     "output_type": "execute_result"
    }
   ],
   "source": [
    "numbers"
   ]
  },
  {
   "cell_type": "code",
   "execution_count": 22,
   "id": "a155c07a",
   "metadata": {},
   "outputs": [],
   "source": [
    "odd_list = []\n",
    "even_list = []\n",
    "\n",
    "for values in numbers:\n",
    "    if values % 2 == 0:\n",
    "        even_list.append(values)\n",
    "    else:\n",
    "        odd_list.append(values)"
   ]
  },
  {
   "cell_type": "code",
   "execution_count": 23,
   "id": "450f8ef7",
   "metadata": {},
   "outputs": [
    {
     "data": {
      "text/plain": [
       "[1, 3, 5, 7, 9, 11, 13, 15, 17, 19]"
      ]
     },
     "execution_count": 23,
     "metadata": {},
     "output_type": "execute_result"
    }
   ],
   "source": [
    "odd_list"
   ]
  },
  {
   "cell_type": "code",
   "execution_count": 24,
   "id": "d8233043",
   "metadata": {},
   "outputs": [
    {
     "data": {
      "text/plain": [
       "[2, 4, 6, 8, 10, 12, 14, 16, 18, 20]"
      ]
     },
     "execution_count": 24,
     "metadata": {},
     "output_type": "execute_result"
    }
   ],
   "source": [
    "even_list"
   ]
  },
  {
   "cell_type": "code",
   "execution_count": 25,
   "id": "805baecf",
   "metadata": {},
   "outputs": [],
   "source": [
    "square2 = [value**2 for value in even_list]"
   ]
  },
  {
   "cell_type": "code",
   "execution_count": 26,
   "id": "3ca0546c",
   "metadata": {},
   "outputs": [
    {
     "data": {
      "text/plain": [
       "[4, 16, 36, 64, 100, 144, 196, 256, 324, 400]"
      ]
     },
     "execution_count": 26,
     "metadata": {},
     "output_type": "execute_result"
    }
   ],
   "source": [
    "square2"
   ]
  },
  {
   "cell_type": "code",
   "execution_count": 27,
   "id": "e2599362",
   "metadata": {},
   "outputs": [],
   "source": [
    "new_even = [values for values in numbers if values % 2 == 0]"
   ]
  },
  {
   "cell_type": "code",
   "execution_count": 28,
   "id": "5b24bde6",
   "metadata": {},
   "outputs": [
    {
     "data": {
      "text/plain": [
       "[2, 4, 6, 8, 10, 12, 14, 16, 18, 20]"
      ]
     },
     "execution_count": 28,
     "metadata": {},
     "output_type": "execute_result"
    }
   ],
   "source": [
    "new_even"
   ]
  },
  {
   "cell_type": "code",
   "execution_count": 31,
   "id": "e180c294",
   "metadata": {},
   "outputs": [],
   "source": [
    "new_odd = [values for values in numbers if values % 2 != 0]"
   ]
  },
  {
   "cell_type": "code",
   "execution_count": 32,
   "id": "6a1dc4ab",
   "metadata": {},
   "outputs": [
    {
     "data": {
      "text/plain": [
       "[1, 3, 5, 7, 9, 11, 13, 15, 17, 19]"
      ]
     },
     "execution_count": 32,
     "metadata": {},
     "output_type": "execute_result"
    }
   ],
   "source": [
    "new_odd"
   ]
  }
 ],
 "metadata": {
  "kernelspec": {
   "display_name": "Python 3 (ipykernel)",
   "language": "python",
   "name": "python3"
  },
  "language_info": {
   "codemirror_mode": {
    "name": "ipython",
    "version": 3
   },
   "file_extension": ".py",
   "mimetype": "text/x-python",
   "name": "python",
   "nbconvert_exporter": "python",
   "pygments_lexer": "ipython3",
   "version": "3.11.5"
  }
 },
 "nbformat": 4,
 "nbformat_minor": 5
}
