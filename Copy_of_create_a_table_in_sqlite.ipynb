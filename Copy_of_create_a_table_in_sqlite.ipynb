{
  "nbformat": 4,
  "nbformat_minor": 0,
  "metadata": {
    "colab": {
      "provenance": [],
      "authorship_tag": "ABX9TyML1gBOKBkPToRqMYG9atnK",
      "include_colab_link": true
    },
    "kernelspec": {
      "name": "python3",
      "display_name": "Python 3"
    },
    "language_info": {
      "name": "python"
    }
  },
  "cells": [
    {
      "cell_type": "markdown",
      "metadata": {
        "id": "view-in-github",
        "colab_type": "text"
      },
      "source": [
        "<a href=\"https://colab.research.google.com/github/deepktiwary/python-exercise/blob/main/Copy_of_create_a_table_in_sqlite.ipynb\" target=\"_parent\"><img src=\"https://colab.research.google.com/assets/colab-badge.svg\" alt=\"Open In Colab\"/></a>"
      ]
    },
    {
      "cell_type": "code",
      "source": [
        "import sqlite3\n",
        "\n",
        "\n",
        "# Enter your solution here\n",
        "\n",
        "connection=sqlite3.connect('esmartdata.sqlite3')\n",
        "cur=connection.cursor()\n",
        "\n",
        "cur.executescript( '''\n",
        "\n",
        "            DROP TABLE IF EXISTS \"esmartdata_instructor\";\n",
        "\n",
        "            create table if not exists esmartdata_instructor(\n",
        "            id integer NOT NULL,\n",
        "            first_name text NOT NULL,\n",
        "            last_name text NOT NULL,\n",
        "            description text NOT NULL,\n",
        "            PRIMARY KEY(\"id\" AUTOINCREMENT)\n",
        "            );\n",
        "\n",
        "''')\n",
        "\n",
        "connection.commit()\n",
        "connection.close()\n",
        "\n"
      ],
      "metadata": {
        "id": "cgBmvx5qcGap"
      },
      "execution_count": null,
      "outputs": []
    }
  ]
}